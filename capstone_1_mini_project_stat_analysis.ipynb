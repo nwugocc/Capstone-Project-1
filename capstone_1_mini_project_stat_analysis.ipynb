{
 "cells": [
  {
   "cell_type": "markdown",
   "metadata": {},
   "source": [
    "## Capstone 1 Project: Statistical Analysis"
   ]
  },
  {
   "cell_type": "code",
   "execution_count": 1,
   "metadata": {},
   "outputs": [],
   "source": [
    "import pandas as pd\n",
    "import matplotlib.pyplot as plt\n",
    "import seaborn as sns\n",
    "import numpy as np\n",
    "import scipy.stats as st"
   ]
  },
  {
   "cell_type": "markdown",
   "metadata": {},
   "source": [
    "### Dataset source\n",
    "https://raw.githubusercontent.com/nwugocc/Capstone-Project-1/master/data/data1.txt"
   ]
  },
  {
   "cell_type": "code",
   "execution_count": 2,
   "metadata": {},
   "outputs": [
    {
     "data": {
      "text/plain": [
       "(42074, 7)"
      ]
     },
     "execution_count": 2,
     "metadata": {},
     "output_type": "execute_result"
    }
   ],
   "source": [
    "df1 = pd.read_csv('data/data1.txt', index_col='yrmo', parse_dates=True).sort_index()\n",
    "df1.index.name = 'Date'\n",
    "df1.shape"
   ]
  },
  {
   "cell_type": "code",
   "execution_count": 3,
   "metadata": {},
   "outputs": [
    {
     "data": {
      "text/html": [
       "<div>\n",
       "<style scoped>\n",
       "    .dataframe tbody tr th:only-of-type {\n",
       "        vertical-align: middle;\n",
       "    }\n",
       "\n",
       "    .dataframe tbody tr th {\n",
       "        vertical-align: top;\n",
       "    }\n",
       "\n",
       "    .dataframe thead th {\n",
       "        text-align: right;\n",
       "    }\n",
       "</style>\n",
       "<table border=\"1\" class=\"dataframe\">\n",
       "  <thead>\n",
       "    <tr style=\"text-align: right;\">\n",
       "      <th></th>\n",
       "      <th>physicianid</th>\n",
       "      <th>adderallpatients</th>\n",
       "      <th>adderallpayments</th>\n",
       "      <th>antibiopatients</th>\n",
       "      <th>antibiopayments</th>\n",
       "      <th>opioidpatients</th>\n",
       "      <th>opioidpayments</th>\n",
       "    </tr>\n",
       "    <tr>\n",
       "      <th>Date</th>\n",
       "      <th></th>\n",
       "      <th></th>\n",
       "      <th></th>\n",
       "      <th></th>\n",
       "      <th></th>\n",
       "      <th></th>\n",
       "      <th></th>\n",
       "    </tr>\n",
       "  </thead>\n",
       "  <tbody>\n",
       "    <tr>\n",
       "      <th>2015-01-01</th>\n",
       "      <td>6vFQfkVIyHglLHjv</td>\n",
       "      <td>NaN</td>\n",
       "      <td>NaN</td>\n",
       "      <td>4.0</td>\n",
       "      <td>2439.0</td>\n",
       "      <td>2.0</td>\n",
       "      <td>2.0</td>\n",
       "    </tr>\n",
       "    <tr>\n",
       "      <th>2015-01-01</th>\n",
       "      <td>KtIQV9FihhozcS4O</td>\n",
       "      <td>NaN</td>\n",
       "      <td>NaN</td>\n",
       "      <td>NaN</td>\n",
       "      <td>NaN</td>\n",
       "      <td>NaN</td>\n",
       "      <td>NaN</td>\n",
       "    </tr>\n",
       "    <tr>\n",
       "      <th>2015-01-01</th>\n",
       "      <td>nh9P8B7ik2qYlruB</td>\n",
       "      <td>6.0</td>\n",
       "      <td>791.0</td>\n",
       "      <td>9.0</td>\n",
       "      <td>5760.0</td>\n",
       "      <td>3.0</td>\n",
       "      <td>174.0</td>\n",
       "    </tr>\n",
       "    <tr>\n",
       "      <th>2015-01-01</th>\n",
       "      <td>1fZbRx3Qm2h2rmPP</td>\n",
       "      <td>NaN</td>\n",
       "      <td>NaN</td>\n",
       "      <td>1.0</td>\n",
       "      <td>97.0</td>\n",
       "      <td>NaN</td>\n",
       "      <td>NaN</td>\n",
       "    </tr>\n",
       "    <tr>\n",
       "      <th>2015-01-01</th>\n",
       "      <td>UY8bW4koFtgJI8J7</td>\n",
       "      <td>10.0</td>\n",
       "      <td>16299.0</td>\n",
       "      <td>NaN</td>\n",
       "      <td>NaN</td>\n",
       "      <td>NaN</td>\n",
       "      <td>NaN</td>\n",
       "    </tr>\n",
       "  </tbody>\n",
       "</table>\n",
       "</div>"
      ],
      "text/plain": [
       "                 physicianid  adderallpatients  adderallpayments  \\\n",
       "Date                                                               \n",
       "2015-01-01  6vFQfkVIyHglLHjv               NaN               NaN   \n",
       "2015-01-01  KtIQV9FihhozcS4O               NaN               NaN   \n",
       "2015-01-01  nh9P8B7ik2qYlruB               6.0             791.0   \n",
       "2015-01-01  1fZbRx3Qm2h2rmPP               NaN               NaN   \n",
       "2015-01-01  UY8bW4koFtgJI8J7              10.0           16299.0   \n",
       "\n",
       "            antibiopatients  antibiopayments  opioidpatients  opioidpayments  \n",
       "Date                                                                          \n",
       "2015-01-01              4.0           2439.0             2.0             2.0  \n",
       "2015-01-01              NaN              NaN             NaN             NaN  \n",
       "2015-01-01              9.0           5760.0             3.0           174.0  \n",
       "2015-01-01              1.0             97.0             NaN             NaN  \n",
       "2015-01-01              NaN              NaN             NaN             NaN  "
      ]
     },
     "execution_count": 3,
     "metadata": {},
     "output_type": "execute_result"
    }
   ],
   "source": [
    "df1.columns = [i.lower() for i in df1.columns]\n",
    "df1.head()"
   ]
  },
  {
   "cell_type": "markdown",
   "metadata": {},
   "source": [
    "### Exploratory data analysis"
   ]
  },
  {
   "cell_type": "code",
   "execution_count": 4,
   "metadata": {},
   "outputs": [
    {
     "data": {
      "text/html": [
       "<div>\n",
       "<style scoped>\n",
       "    .dataframe tbody tr th:only-of-type {\n",
       "        vertical-align: middle;\n",
       "    }\n",
       "\n",
       "    .dataframe tbody tr th {\n",
       "        vertical-align: top;\n",
       "    }\n",
       "\n",
       "    .dataframe thead th {\n",
       "        text-align: right;\n",
       "    }\n",
       "</style>\n",
       "<table border=\"1\" class=\"dataframe\">\n",
       "  <thead>\n",
       "    <tr style=\"text-align: right;\">\n",
       "      <th></th>\n",
       "      <th>adderallpatients</th>\n",
       "      <th>adderallpayments</th>\n",
       "      <th>antibiopatients</th>\n",
       "      <th>antibiopayments</th>\n",
       "      <th>opioidpatients</th>\n",
       "      <th>opioidpayments</th>\n",
       "    </tr>\n",
       "  </thead>\n",
       "  <tbody>\n",
       "    <tr>\n",
       "      <th>count</th>\n",
       "      <td>23889.000000</td>\n",
       "      <td>2.388900e+04</td>\n",
       "      <td>39829.000000</td>\n",
       "      <td>3.982600e+04</td>\n",
       "      <td>12588.000000</td>\n",
       "      <td>1.258800e+04</td>\n",
       "    </tr>\n",
       "    <tr>\n",
       "      <th>mean</th>\n",
       "      <td>4.921972</td>\n",
       "      <td>1.828657e+03</td>\n",
       "      <td>6.378217</td>\n",
       "      <td>2.166809e+04</td>\n",
       "      <td>3.095249</td>\n",
       "      <td>2.980236e+03</td>\n",
       "    </tr>\n",
       "    <tr>\n",
       "      <th>std</th>\n",
       "      <td>9.248193</td>\n",
       "      <td>2.293074e+04</td>\n",
       "      <td>12.741038</td>\n",
       "      <td>8.379535e+04</td>\n",
       "      <td>6.943019</td>\n",
       "      <td>6.421729e+04</td>\n",
       "    </tr>\n",
       "    <tr>\n",
       "      <th>min</th>\n",
       "      <td>1.000000</td>\n",
       "      <td>-1.177100e+04</td>\n",
       "      <td>1.000000</td>\n",
       "      <td>-9.400000e+03</td>\n",
       "      <td>0.000000</td>\n",
       "      <td>-1.000000e+01</td>\n",
       "    </tr>\n",
       "    <tr>\n",
       "      <th>25%</th>\n",
       "      <td>1.000000</td>\n",
       "      <td>4.600000e+01</td>\n",
       "      <td>2.000000</td>\n",
       "      <td>3.030000e+02</td>\n",
       "      <td>1.000000</td>\n",
       "      <td>1.500000e+01</td>\n",
       "    </tr>\n",
       "    <tr>\n",
       "      <th>50%</th>\n",
       "      <td>3.000000</td>\n",
       "      <td>2.450000e+02</td>\n",
       "      <td>3.000000</td>\n",
       "      <td>2.907000e+03</td>\n",
       "      <td>2.000000</td>\n",
       "      <td>1.220000e+02</td>\n",
       "    </tr>\n",
       "    <tr>\n",
       "      <th>75%</th>\n",
       "      <td>5.000000</td>\n",
       "      <td>8.580000e+02</td>\n",
       "      <td>6.000000</td>\n",
       "      <td>1.430375e+04</td>\n",
       "      <td>3.000000</td>\n",
       "      <td>4.410000e+02</td>\n",
       "    </tr>\n",
       "    <tr>\n",
       "      <th>max</th>\n",
       "      <td>341.000000</td>\n",
       "      <td>1.732264e+06</td>\n",
       "      <td>285.000000</td>\n",
       "      <td>2.423404e+06</td>\n",
       "      <td>318.000000</td>\n",
       "      <td>2.823021e+06</td>\n",
       "    </tr>\n",
       "  </tbody>\n",
       "</table>\n",
       "</div>"
      ],
      "text/plain": [
       "       adderallpatients  adderallpayments  antibiopatients  antibiopayments  \\\n",
       "count      23889.000000      2.388900e+04     39829.000000     3.982600e+04   \n",
       "mean           4.921972      1.828657e+03         6.378217     2.166809e+04   \n",
       "std            9.248193      2.293074e+04        12.741038     8.379535e+04   \n",
       "min            1.000000     -1.177100e+04         1.000000    -9.400000e+03   \n",
       "25%            1.000000      4.600000e+01         2.000000     3.030000e+02   \n",
       "50%            3.000000      2.450000e+02         3.000000     2.907000e+03   \n",
       "75%            5.000000      8.580000e+02         6.000000     1.430375e+04   \n",
       "max          341.000000      1.732264e+06       285.000000     2.423404e+06   \n",
       "\n",
       "       opioidpatients  opioidpayments  \n",
       "count    12588.000000    1.258800e+04  \n",
       "mean         3.095249    2.980236e+03  \n",
       "std          6.943019    6.421729e+04  \n",
       "min          0.000000   -1.000000e+01  \n",
       "25%          1.000000    1.500000e+01  \n",
       "50%          2.000000    1.220000e+02  \n",
       "75%          3.000000    4.410000e+02  \n",
       "max        318.000000    2.823021e+06  "
      ]
     },
     "execution_count": 4,
     "metadata": {},
     "output_type": "execute_result"
    }
   ],
   "source": [
    "# Initial descriptive statistics analysis of the dataset\n",
    "df1.describe() "
   ]
  },
  {
   "cell_type": "code",
   "execution_count": 5,
   "metadata": {},
   "outputs": [
    {
     "name": "stdout",
     "output_type": "stream",
     "text": [
      "<class 'pandas.core.frame.DataFrame'>\n",
      "DatetimeIndex: 42074 entries, 2015-01-01 to 2017-10-01\n",
      "Data columns (total 7 columns):\n",
      "physicianid         42074 non-null object\n",
      "adderallpatients    23889 non-null float64\n",
      "adderallpayments    23889 non-null float64\n",
      "antibiopatients     39829 non-null float64\n",
      "antibiopayments     39826 non-null float64\n",
      "opioidpatients      12588 non-null float64\n",
      "opioidpayments      12588 non-null float64\n",
      "dtypes: float64(6), object(1)\n",
      "memory usage: 2.6+ MB\n"
     ]
    }
   ],
   "source": [
    "df1.info()  "
   ]
  },
  {
   "cell_type": "markdown",
   "metadata": {},
   "source": [
    "There appear to be 3 missing entries for antibiopayments because counts for non-null patients and payments values within medication groups matched except for antobiopayments and antibiopatients.\n",
    "\n",
    "Additionally, there is a _zero_ minimum value entry for opioidpatients.\n",
    "\n",
    "The 3 missing antibiopayments entries and the _zero_ minimum entry for opioidpatients will be investigated as potential data errors."
   ]
  },
  {
   "cell_type": "markdown",
   "metadata": {},
   "source": [
    "### Investigating the 3 null entries for antibiopayments that had corresponding antibiopatient entries"
   ]
  },
  {
   "cell_type": "code",
   "execution_count": 6,
   "metadata": {},
   "outputs": [
    {
     "data": {
      "text/html": [
       "<div>\n",
       "<style scoped>\n",
       "    .dataframe tbody tr th:only-of-type {\n",
       "        vertical-align: middle;\n",
       "    }\n",
       "\n",
       "    .dataframe tbody tr th {\n",
       "        vertical-align: top;\n",
       "    }\n",
       "\n",
       "    .dataframe thead th {\n",
       "        text-align: right;\n",
       "    }\n",
       "</style>\n",
       "<table border=\"1\" class=\"dataframe\">\n",
       "  <thead>\n",
       "    <tr style=\"text-align: right;\">\n",
       "      <th></th>\n",
       "      <th>physicianid</th>\n",
       "      <th>adderallpatients</th>\n",
       "      <th>adderallpayments</th>\n",
       "      <th>antibiopatients</th>\n",
       "      <th>antibiopayments</th>\n",
       "      <th>opioidpatients</th>\n",
       "      <th>opioidpayments</th>\n",
       "    </tr>\n",
       "    <tr>\n",
       "      <th>Date</th>\n",
       "      <th></th>\n",
       "      <th></th>\n",
       "      <th></th>\n",
       "      <th></th>\n",
       "      <th></th>\n",
       "      <th></th>\n",
       "      <th></th>\n",
       "    </tr>\n",
       "  </thead>\n",
       "  <tbody>\n",
       "    <tr>\n",
       "      <th>2015-02-01</th>\n",
       "      <td>GLwAKSb708GXX52I</td>\n",
       "      <td>NaN</td>\n",
       "      <td>NaN</td>\n",
       "      <td>57.0</td>\n",
       "      <td>NaN</td>\n",
       "      <td>NaN</td>\n",
       "      <td>NaN</td>\n",
       "    </tr>\n",
       "    <tr>\n",
       "      <th>2015-03-01</th>\n",
       "      <td>GLwAKSb708GXX52I</td>\n",
       "      <td>NaN</td>\n",
       "      <td>NaN</td>\n",
       "      <td>72.0</td>\n",
       "      <td>NaN</td>\n",
       "      <td>NaN</td>\n",
       "      <td>NaN</td>\n",
       "    </tr>\n",
       "    <tr>\n",
       "      <th>2015-04-01</th>\n",
       "      <td>GLwAKSb708GXX52I</td>\n",
       "      <td>NaN</td>\n",
       "      <td>NaN</td>\n",
       "      <td>86.0</td>\n",
       "      <td>NaN</td>\n",
       "      <td>NaN</td>\n",
       "      <td>NaN</td>\n",
       "    </tr>\n",
       "  </tbody>\n",
       "</table>\n",
       "</div>"
      ],
      "text/plain": [
       "                 physicianid  adderallpatients  adderallpayments  \\\n",
       "Date                                                               \n",
       "2015-02-01  GLwAKSb708GXX52I               NaN               NaN   \n",
       "2015-03-01  GLwAKSb708GXX52I               NaN               NaN   \n",
       "2015-04-01  GLwAKSb708GXX52I               NaN               NaN   \n",
       "\n",
       "            antibiopatients  antibiopayments  opioidpatients  opioidpayments  \n",
       "Date                                                                          \n",
       "2015-02-01             57.0              NaN             NaN             NaN  \n",
       "2015-03-01             72.0              NaN             NaN             NaN  \n",
       "2015-04-01             86.0              NaN             NaN             NaN  "
      ]
     },
     "execution_count": 6,
     "metadata": {},
     "output_type": "execute_result"
    }
   ],
   "source": [
    "df1.loc[(df1.antibiopayments.isnull() & df1.antibiopatients.notnull()), :]"
   ]
  },
  {
   "cell_type": "markdown",
   "metadata": {},
   "source": [
    "The null antibiopayment entries are associated with physicianid 'GLwAKSb708GXX52I'"
   ]
  },
  {
   "cell_type": "code",
   "execution_count": 7,
   "metadata": {},
   "outputs": [
    {
     "data": {
      "text/html": [
       "<div>\n",
       "<style scoped>\n",
       "    .dataframe tbody tr th:only-of-type {\n",
       "        vertical-align: middle;\n",
       "    }\n",
       "\n",
       "    .dataframe tbody tr th {\n",
       "        vertical-align: top;\n",
       "    }\n",
       "\n",
       "    .dataframe thead th {\n",
       "        text-align: right;\n",
       "    }\n",
       "</style>\n",
       "<table border=\"1\" class=\"dataframe\">\n",
       "  <thead>\n",
       "    <tr style=\"text-align: right;\">\n",
       "      <th></th>\n",
       "      <th>physicianid</th>\n",
       "      <th>adderallpatients</th>\n",
       "      <th>adderallpayments</th>\n",
       "      <th>antibiopatients</th>\n",
       "      <th>antibiopayments</th>\n",
       "      <th>opioidpatients</th>\n",
       "      <th>opioidpayments</th>\n",
       "    </tr>\n",
       "    <tr>\n",
       "      <th>Date</th>\n",
       "      <th></th>\n",
       "      <th></th>\n",
       "      <th></th>\n",
       "      <th></th>\n",
       "      <th></th>\n",
       "      <th></th>\n",
       "      <th></th>\n",
       "    </tr>\n",
       "  </thead>\n",
       "  <tbody>\n",
       "    <tr>\n",
       "      <th>2015-02-01</th>\n",
       "      <td>GLwAKSb708GXX52I</td>\n",
       "      <td>NaN</td>\n",
       "      <td>NaN</td>\n",
       "      <td>57.0</td>\n",
       "      <td>NaN</td>\n",
       "      <td>NaN</td>\n",
       "      <td>NaN</td>\n",
       "    </tr>\n",
       "    <tr>\n",
       "      <th>2015-03-01</th>\n",
       "      <td>GLwAKSb708GXX52I</td>\n",
       "      <td>NaN</td>\n",
       "      <td>NaN</td>\n",
       "      <td>72.0</td>\n",
       "      <td>NaN</td>\n",
       "      <td>NaN</td>\n",
       "      <td>NaN</td>\n",
       "    </tr>\n",
       "    <tr>\n",
       "      <th>2015-04-01</th>\n",
       "      <td>GLwAKSb708GXX52I</td>\n",
       "      <td>NaN</td>\n",
       "      <td>NaN</td>\n",
       "      <td>86.0</td>\n",
       "      <td>NaN</td>\n",
       "      <td>NaN</td>\n",
       "      <td>NaN</td>\n",
       "    </tr>\n",
       "    <tr>\n",
       "      <th>2015-05-01</th>\n",
       "      <td>GLwAKSb708GXX52I</td>\n",
       "      <td>57.0</td>\n",
       "      <td>423705.0</td>\n",
       "      <td>1.0</td>\n",
       "      <td>0.0</td>\n",
       "      <td>57.0</td>\n",
       "      <td>1934522.0</td>\n",
       "    </tr>\n",
       "    <tr>\n",
       "      <th>2015-06-01</th>\n",
       "      <td>GLwAKSb708GXX52I</td>\n",
       "      <td>59.0</td>\n",
       "      <td>267835.0</td>\n",
       "      <td>NaN</td>\n",
       "      <td>NaN</td>\n",
       "      <td>NaN</td>\n",
       "      <td>NaN</td>\n",
       "    </tr>\n",
       "    <tr>\n",
       "      <th>2015-07-01</th>\n",
       "      <td>GLwAKSb708GXX52I</td>\n",
       "      <td>61.0</td>\n",
       "      <td>716783.0</td>\n",
       "      <td>NaN</td>\n",
       "      <td>NaN</td>\n",
       "      <td>NaN</td>\n",
       "      <td>NaN</td>\n",
       "    </tr>\n",
       "    <tr>\n",
       "      <th>2015-08-01</th>\n",
       "      <td>GLwAKSb708GXX52I</td>\n",
       "      <td>78.0</td>\n",
       "      <td>681139.0</td>\n",
       "      <td>2.0</td>\n",
       "      <td>2940.0</td>\n",
       "      <td>77.0</td>\n",
       "      <td>2756712.0</td>\n",
       "    </tr>\n",
       "    <tr>\n",
       "      <th>2015-09-01</th>\n",
       "      <td>GLwAKSb708GXX52I</td>\n",
       "      <td>85.0</td>\n",
       "      <td>572423.0</td>\n",
       "      <td>NaN</td>\n",
       "      <td>NaN</td>\n",
       "      <td>NaN</td>\n",
       "      <td>NaN</td>\n",
       "    </tr>\n",
       "    <tr>\n",
       "      <th>2015-10-01</th>\n",
       "      <td>GLwAKSb708GXX52I</td>\n",
       "      <td>97.0</td>\n",
       "      <td>770021.0</td>\n",
       "      <td>NaN</td>\n",
       "      <td>NaN</td>\n",
       "      <td>NaN</td>\n",
       "      <td>NaN</td>\n",
       "    </tr>\n",
       "    <tr>\n",
       "      <th>2015-11-01</th>\n",
       "      <td>GLwAKSb708GXX52I</td>\n",
       "      <td>82.0</td>\n",
       "      <td>645231.0</td>\n",
       "      <td>1.0</td>\n",
       "      <td>2197.0</td>\n",
       "      <td>82.0</td>\n",
       "      <td>2111098.0</td>\n",
       "    </tr>\n",
       "    <tr>\n",
       "      <th>2015-12-01</th>\n",
       "      <td>GLwAKSb708GXX52I</td>\n",
       "      <td>40.0</td>\n",
       "      <td>386905.0</td>\n",
       "      <td>1.0</td>\n",
       "      <td>0.0</td>\n",
       "      <td>44.0</td>\n",
       "      <td>1824699.0</td>\n",
       "    </tr>\n",
       "  </tbody>\n",
       "</table>\n",
       "</div>"
      ],
      "text/plain": [
       "                 physicianid  adderallpatients  adderallpayments  \\\n",
       "Date                                                               \n",
       "2015-02-01  GLwAKSb708GXX52I               NaN               NaN   \n",
       "2015-03-01  GLwAKSb708GXX52I               NaN               NaN   \n",
       "2015-04-01  GLwAKSb708GXX52I               NaN               NaN   \n",
       "2015-05-01  GLwAKSb708GXX52I              57.0          423705.0   \n",
       "2015-06-01  GLwAKSb708GXX52I              59.0          267835.0   \n",
       "2015-07-01  GLwAKSb708GXX52I              61.0          716783.0   \n",
       "2015-08-01  GLwAKSb708GXX52I              78.0          681139.0   \n",
       "2015-09-01  GLwAKSb708GXX52I              85.0          572423.0   \n",
       "2015-10-01  GLwAKSb708GXX52I              97.0          770021.0   \n",
       "2015-11-01  GLwAKSb708GXX52I              82.0          645231.0   \n",
       "2015-12-01  GLwAKSb708GXX52I              40.0          386905.0   \n",
       "\n",
       "            antibiopatients  antibiopayments  opioidpatients  opioidpayments  \n",
       "Date                                                                          \n",
       "2015-02-01             57.0              NaN             NaN             NaN  \n",
       "2015-03-01             72.0              NaN             NaN             NaN  \n",
       "2015-04-01             86.0              NaN             NaN             NaN  \n",
       "2015-05-01              1.0              0.0            57.0       1934522.0  \n",
       "2015-06-01              NaN              NaN             NaN             NaN  \n",
       "2015-07-01              NaN              NaN             NaN             NaN  \n",
       "2015-08-01              2.0           2940.0            77.0       2756712.0  \n",
       "2015-09-01              NaN              NaN             NaN             NaN  \n",
       "2015-10-01              NaN              NaN             NaN             NaN  \n",
       "2015-11-01              1.0           2197.0            82.0       2111098.0  \n",
       "2015-12-01              1.0              0.0            44.0       1824699.0  "
      ]
     },
     "execution_count": 7,
     "metadata": {},
     "output_type": "execute_result"
    }
   ],
   "source": [
    "# Prescription history of physicianid 'GLwAKSb708GXX52I'\n",
    "df1.loc[df1.physicianid == 'GLwAKSb708GXX52I']"
   ]
  },
  {
   "cell_type": "markdown",
   "metadata": {},
   "source": [
    "Historical analysis show that 'GLwAKSb708GXX52I' typically has 1 or 2 antibiotic patients per month. However, for the 3 months with missing antibiopayments, there were signifcantly more patients than typical. Hence, the missing month values are considered missing at random and will need to be imputed. \n",
    "\n",
    "The suggested method is to calculate the overall average payment per patient for antibiotic patients and multiply that with the number of patients with missing antibiopayments entries. "
   ]
  },
  {
   "cell_type": "code",
   "execution_count": 8,
   "metadata": {},
   "outputs": [],
   "source": [
    "# making a copy of df1: df2\n",
    "df2 = df1.copy()"
   ]
  },
  {
   "cell_type": "code",
   "execution_count": 9,
   "metadata": {},
   "outputs": [],
   "source": [
    "# Computing average payment per patient for antibiotics\n",
    "antibio_payrate = np.mean(df1['antibiopayments'] / df1['antibiopatients'])\n",
    "\n",
    "# Imputing missing antibiopayments values\n",
    "df2['antibiopayments']= df2.apply(\n",
    "    lambda row: antibio_payrate * row.antibiopatients if np.isnan(row.antibiopayments) else row.antibiopayments, axis=1)"
   ]
  },
  {
   "cell_type": "code",
   "execution_count": 10,
   "metadata": {},
   "outputs": [
    {
     "name": "stdout",
     "output_type": "stream",
     "text": [
      "<class 'pandas.core.frame.DataFrame'>\n",
      "DatetimeIndex: 42074 entries, 2015-01-01 to 2017-10-01\n",
      "Data columns (total 7 columns):\n",
      "physicianid         42074 non-null object\n",
      "adderallpatients    23889 non-null float64\n",
      "adderallpayments    23889 non-null float64\n",
      "antibiopatients     39829 non-null float64\n",
      "antibiopayments     39829 non-null float64\n",
      "opioidpatients      12588 non-null float64\n",
      "opioidpayments      12588 non-null float64\n",
      "dtypes: float64(6), object(1)\n",
      "memory usage: 2.6+ MB\n"
     ]
    }
   ],
   "source": [
    "# Confirming imputation of missing antibiopayments values\n",
    "df2.info()"
   ]
  },
  {
   "cell_type": "markdown",
   "metadata": {},
   "source": [
    "### Investigating the minimum _zero_ 'opioidpatients' entry "
   ]
  },
  {
   "cell_type": "code",
   "execution_count": 11,
   "metadata": {},
   "outputs": [
    {
     "data": {
      "text/html": [
       "<div>\n",
       "<style scoped>\n",
       "    .dataframe tbody tr th:only-of-type {\n",
       "        vertical-align: middle;\n",
       "    }\n",
       "\n",
       "    .dataframe tbody tr th {\n",
       "        vertical-align: top;\n",
       "    }\n",
       "\n",
       "    .dataframe thead th {\n",
       "        text-align: right;\n",
       "    }\n",
       "</style>\n",
       "<table border=\"1\" class=\"dataframe\">\n",
       "  <thead>\n",
       "    <tr style=\"text-align: right;\">\n",
       "      <th></th>\n",
       "      <th>physicianid</th>\n",
       "      <th>adderallpatients</th>\n",
       "      <th>adderallpayments</th>\n",
       "      <th>antibiopatients</th>\n",
       "      <th>antibiopayments</th>\n",
       "      <th>opioidpatients</th>\n",
       "      <th>opioidpayments</th>\n",
       "    </tr>\n",
       "    <tr>\n",
       "      <th>Date</th>\n",
       "      <th></th>\n",
       "      <th></th>\n",
       "      <th></th>\n",
       "      <th></th>\n",
       "      <th></th>\n",
       "      <th></th>\n",
       "      <th></th>\n",
       "    </tr>\n",
       "  </thead>\n",
       "  <tbody>\n",
       "    <tr>\n",
       "      <th>2015-02-01</th>\n",
       "      <td>wwyJwO6CL1dqIooh</td>\n",
       "      <td>NaN</td>\n",
       "      <td>NaN</td>\n",
       "      <td>NaN</td>\n",
       "      <td>NaN</td>\n",
       "      <td>0.0</td>\n",
       "      <td>63451.0</td>\n",
       "    </tr>\n",
       "  </tbody>\n",
       "</table>\n",
       "</div>"
      ],
      "text/plain": [
       "                 physicianid  adderallpatients  adderallpayments  \\\n",
       "Date                                                               \n",
       "2015-02-01  wwyJwO6CL1dqIooh               NaN               NaN   \n",
       "\n",
       "            antibiopatients  antibiopayments  opioidpatients  opioidpayments  \n",
       "Date                                                                          \n",
       "2015-02-01              NaN              NaN             0.0         63451.0  "
      ]
     },
     "execution_count": 11,
     "metadata": {},
     "output_type": "execute_result"
    }
   ],
   "source": [
    "df2[df2.opioidpatients == 0]"
   ]
  },
  {
   "cell_type": "markdown",
   "metadata": {},
   "source": [
    "The _zero_ value entry is associated with physicianid 'wwyJwO6CL1dqIooh' on the month of 2015-02. "
   ]
  },
  {
   "cell_type": "code",
   "execution_count": 12,
   "metadata": {},
   "outputs": [
    {
     "data": {
      "text/html": [
       "<div>\n",
       "<style scoped>\n",
       "    .dataframe tbody tr th:only-of-type {\n",
       "        vertical-align: middle;\n",
       "    }\n",
       "\n",
       "    .dataframe tbody tr th {\n",
       "        vertical-align: top;\n",
       "    }\n",
       "\n",
       "    .dataframe thead th {\n",
       "        text-align: right;\n",
       "    }\n",
       "</style>\n",
       "<table border=\"1\" class=\"dataframe\">\n",
       "  <thead>\n",
       "    <tr style=\"text-align: right;\">\n",
       "      <th></th>\n",
       "      <th>physicianid</th>\n",
       "      <th>adderallpatients</th>\n",
       "      <th>adderallpayments</th>\n",
       "      <th>antibiopatients</th>\n",
       "      <th>antibiopayments</th>\n",
       "      <th>opioidpatients</th>\n",
       "      <th>opioidpayments</th>\n",
       "    </tr>\n",
       "    <tr>\n",
       "      <th>Date</th>\n",
       "      <th></th>\n",
       "      <th></th>\n",
       "      <th></th>\n",
       "      <th></th>\n",
       "      <th></th>\n",
       "      <th></th>\n",
       "      <th></th>\n",
       "    </tr>\n",
       "  </thead>\n",
       "  <tbody>\n",
       "    <tr>\n",
       "      <th>2015-01-01</th>\n",
       "      <td>wwyJwO6CL1dqIooh</td>\n",
       "      <td>NaN</td>\n",
       "      <td>NaN</td>\n",
       "      <td>NaN</td>\n",
       "      <td>NaN</td>\n",
       "      <td>13.0</td>\n",
       "      <td>15443.0</td>\n",
       "    </tr>\n",
       "    <tr>\n",
       "      <th>2015-02-01</th>\n",
       "      <td>wwyJwO6CL1dqIooh</td>\n",
       "      <td>NaN</td>\n",
       "      <td>NaN</td>\n",
       "      <td>NaN</td>\n",
       "      <td>NaN</td>\n",
       "      <td>0.0</td>\n",
       "      <td>63451.0</td>\n",
       "    </tr>\n",
       "    <tr>\n",
       "      <th>2015-03-01</th>\n",
       "      <td>wwyJwO6CL1dqIooh</td>\n",
       "      <td>NaN</td>\n",
       "      <td>NaN</td>\n",
       "      <td>NaN</td>\n",
       "      <td>NaN</td>\n",
       "      <td>35.0</td>\n",
       "      <td>16468.0</td>\n",
       "    </tr>\n",
       "    <tr>\n",
       "      <th>2015-04-01</th>\n",
       "      <td>wwyJwO6CL1dqIooh</td>\n",
       "      <td>NaN</td>\n",
       "      <td>NaN</td>\n",
       "      <td>NaN</td>\n",
       "      <td>NaN</td>\n",
       "      <td>106.0</td>\n",
       "      <td>283647.0</td>\n",
       "    </tr>\n",
       "    <tr>\n",
       "      <th>2015-05-01</th>\n",
       "      <td>wwyJwO6CL1dqIooh</td>\n",
       "      <td>NaN</td>\n",
       "      <td>NaN</td>\n",
       "      <td>NaN</td>\n",
       "      <td>NaN</td>\n",
       "      <td>78.0</td>\n",
       "      <td>208911.0</td>\n",
       "    </tr>\n",
       "    <tr>\n",
       "      <th>2015-06-01</th>\n",
       "      <td>wwyJwO6CL1dqIooh</td>\n",
       "      <td>NaN</td>\n",
       "      <td>NaN</td>\n",
       "      <td>NaN</td>\n",
       "      <td>NaN</td>\n",
       "      <td>85.0</td>\n",
       "      <td>348662.0</td>\n",
       "    </tr>\n",
       "    <tr>\n",
       "      <th>2015-07-01</th>\n",
       "      <td>wwyJwO6CL1dqIooh</td>\n",
       "      <td>NaN</td>\n",
       "      <td>NaN</td>\n",
       "      <td>NaN</td>\n",
       "      <td>NaN</td>\n",
       "      <td>40.0</td>\n",
       "      <td>56072.0</td>\n",
       "    </tr>\n",
       "    <tr>\n",
       "      <th>2015-08-01</th>\n",
       "      <td>wwyJwO6CL1dqIooh</td>\n",
       "      <td>NaN</td>\n",
       "      <td>NaN</td>\n",
       "      <td>NaN</td>\n",
       "      <td>NaN</td>\n",
       "      <td>50.0</td>\n",
       "      <td>204671.0</td>\n",
       "    </tr>\n",
       "    <tr>\n",
       "      <th>2015-09-01</th>\n",
       "      <td>wwyJwO6CL1dqIooh</td>\n",
       "      <td>NaN</td>\n",
       "      <td>NaN</td>\n",
       "      <td>NaN</td>\n",
       "      <td>NaN</td>\n",
       "      <td>110.0</td>\n",
       "      <td>763563.0</td>\n",
       "    </tr>\n",
       "    <tr>\n",
       "      <th>2015-10-01</th>\n",
       "      <td>wwyJwO6CL1dqIooh</td>\n",
       "      <td>NaN</td>\n",
       "      <td>NaN</td>\n",
       "      <td>NaN</td>\n",
       "      <td>NaN</td>\n",
       "      <td>102.0</td>\n",
       "      <td>682456.0</td>\n",
       "    </tr>\n",
       "    <tr>\n",
       "      <th>2015-11-01</th>\n",
       "      <td>wwyJwO6CL1dqIooh</td>\n",
       "      <td>NaN</td>\n",
       "      <td>NaN</td>\n",
       "      <td>NaN</td>\n",
       "      <td>NaN</td>\n",
       "      <td>145.0</td>\n",
       "      <td>742802.0</td>\n",
       "    </tr>\n",
       "    <tr>\n",
       "      <th>2015-12-01</th>\n",
       "      <td>wwyJwO6CL1dqIooh</td>\n",
       "      <td>NaN</td>\n",
       "      <td>NaN</td>\n",
       "      <td>NaN</td>\n",
       "      <td>NaN</td>\n",
       "      <td>70.0</td>\n",
       "      <td>15224.0</td>\n",
       "    </tr>\n",
       "    <tr>\n",
       "      <th>2016-01-01</th>\n",
       "      <td>wwyJwO6CL1dqIooh</td>\n",
       "      <td>NaN</td>\n",
       "      <td>NaN</td>\n",
       "      <td>NaN</td>\n",
       "      <td>NaN</td>\n",
       "      <td>24.0</td>\n",
       "      <td>7500.0</td>\n",
       "    </tr>\n",
       "    <tr>\n",
       "      <th>2016-02-01</th>\n",
       "      <td>wwyJwO6CL1dqIooh</td>\n",
       "      <td>NaN</td>\n",
       "      <td>NaN</td>\n",
       "      <td>NaN</td>\n",
       "      <td>NaN</td>\n",
       "      <td>2.0</td>\n",
       "      <td>456.0</td>\n",
       "    </tr>\n",
       "  </tbody>\n",
       "</table>\n",
       "</div>"
      ],
      "text/plain": [
       "                 physicianid  adderallpatients  adderallpayments  \\\n",
       "Date                                                               \n",
       "2015-01-01  wwyJwO6CL1dqIooh               NaN               NaN   \n",
       "2015-02-01  wwyJwO6CL1dqIooh               NaN               NaN   \n",
       "2015-03-01  wwyJwO6CL1dqIooh               NaN               NaN   \n",
       "2015-04-01  wwyJwO6CL1dqIooh               NaN               NaN   \n",
       "2015-05-01  wwyJwO6CL1dqIooh               NaN               NaN   \n",
       "2015-06-01  wwyJwO6CL1dqIooh               NaN               NaN   \n",
       "2015-07-01  wwyJwO6CL1dqIooh               NaN               NaN   \n",
       "2015-08-01  wwyJwO6CL1dqIooh               NaN               NaN   \n",
       "2015-09-01  wwyJwO6CL1dqIooh               NaN               NaN   \n",
       "2015-10-01  wwyJwO6CL1dqIooh               NaN               NaN   \n",
       "2015-11-01  wwyJwO6CL1dqIooh               NaN               NaN   \n",
       "2015-12-01  wwyJwO6CL1dqIooh               NaN               NaN   \n",
       "2016-01-01  wwyJwO6CL1dqIooh               NaN               NaN   \n",
       "2016-02-01  wwyJwO6CL1dqIooh               NaN               NaN   \n",
       "\n",
       "            antibiopatients  antibiopayments  opioidpatients  opioidpayments  \n",
       "Date                                                                          \n",
       "2015-01-01              NaN              NaN            13.0         15443.0  \n",
       "2015-02-01              NaN              NaN             0.0         63451.0  \n",
       "2015-03-01              NaN              NaN            35.0         16468.0  \n",
       "2015-04-01              NaN              NaN           106.0        283647.0  \n",
       "2015-05-01              NaN              NaN            78.0        208911.0  \n",
       "2015-06-01              NaN              NaN            85.0        348662.0  \n",
       "2015-07-01              NaN              NaN            40.0         56072.0  \n",
       "2015-08-01              NaN              NaN            50.0        204671.0  \n",
       "2015-09-01              NaN              NaN           110.0        763563.0  \n",
       "2015-10-01              NaN              NaN           102.0        682456.0  \n",
       "2015-11-01              NaN              NaN           145.0        742802.0  \n",
       "2015-12-01              NaN              NaN            70.0         15224.0  \n",
       "2016-01-01              NaN              NaN            24.0          7500.0  \n",
       "2016-02-01              NaN              NaN             2.0           456.0  "
      ]
     },
     "execution_count": 12,
     "metadata": {},
     "output_type": "execute_result"
    }
   ],
   "source": [
    "df2[df2['physicianid'] == 'wwyJwO6CL1dqIooh']"
   ]
  },
  {
   "cell_type": "markdown",
   "metadata": {},
   "source": [
    "Since this was the only instance with a _zero_ patient entry for any physician in the entire dataset, and also because there was a signicant payment amount associated with this entry, it is assumed that the _zero_ entry is most likely an error. \n",
    "\n",
    "The suggested methos to replace the _zero_ entry is using linear regression of monthly patitent volumes and payments for 'wwyJwO6CL1dqIooh' to interpolate the expected monthly patient volume."
   ]
  },
  {
   "cell_type": "code",
   "execution_count": 13,
   "metadata": {},
   "outputs": [
    {
     "name": "stdout",
     "output_type": "stream",
     "text": [
      "Pearson correlation coefficent = 0.8517051540283693\n"
     ]
    },
    {
     "data": {
      "image/png": "[encoded data removed]",
      "text/plain": [
       "<Figure size 360x360 with 1 Axes>"
      ]
     },
     "metadata": {
      "needs_background": "light"
     },
     "output_type": "display_data"
    }
   ],
   "source": [
    "# Calculating correlation coefficenr of physicianid ''wwyJwO6CL1dqIooh' patient volumes and payments\n",
    "physid_wwy = df2[df2['physicianid'] == 'wwyJwO6CL1dqIooh'][['opioidpatients','opioidpayments']]\n",
    "wwy_r = np.corrcoef(physid_wwy.opioidpayments, physid_wwy.opioidpatients)\n",
    "print('Pearson correlation coefficent =',wwy_r[0,1])\n",
    "\n",
    "# Regression plot of patient volumes and payments for physicianid 'wwyJwO6CL1dqIooh' \n",
    "physid_wwy = df2[df2['physicianid'] == 'wwyJwO6CL1dqIooh'][['opioidpatients','opioidpayments']]\n",
    "phys_ww = physid_wwy.copy()\n",
    "phys_ww['opioidpayments'] = phys_ww['opioidpayments'] / 1000\n",
    "sns.lmplot(x='opioidpayments', y='opioidpatients', data=phys_ww)\n",
    "plt.xlabel('opioidpayments (x1000)');"
   ]
  },
  {
   "cell_type": "code",
   "execution_count": 14,
   "metadata": {},
   "outputs": [
    {
     "data": {
      "text/plain": [
       "37.373342633106645"
      ]
     },
     "execution_count": 14,
     "metadata": {},
     "output_type": "execute_result"
    }
   ],
   "source": [
    "# Extracting the slope and intercept parameters\n",
    "slope, intercept = np.polyfit(physid_wwy['opioidpayments'],physid_wwy['opioidpatients'], 1)\n",
    "val = slope * 63451 + intercept\n",
    "val"
   ]
  },
  {
   "cell_type": "code",
   "execution_count": 15,
   "metadata": {},
   "outputs": [],
   "source": [
    "# Imputing the zero 'opioidpatients' value using linear regression\n",
    "slope, intercept = np.polyfit(physid_wwy['opioidpayments'],physid_wwy['opioidpatients'], 1)\n",
    "df2.loc[(df2.physicianid == 'wwyJwO6CL1dqIooh') & (df1.opioidpatients == 0), 'opioidpatients'] = val"
   ]
  },
  {
   "cell_type": "code",
   "execution_count": 16,
   "metadata": {},
   "outputs": [
    {
     "data": {
      "text/html": [
       "<div>\n",
       "<style scoped>\n",
       "    .dataframe tbody tr th:only-of-type {\n",
       "        vertical-align: middle;\n",
       "    }\n",
       "\n",
       "    .dataframe tbody tr th {\n",
       "        vertical-align: top;\n",
       "    }\n",
       "\n",
       "    .dataframe thead th {\n",
       "        text-align: right;\n",
       "    }\n",
       "</style>\n",
       "<table border=\"1\" class=\"dataframe\">\n",
       "  <thead>\n",
       "    <tr style=\"text-align: right;\">\n",
       "      <th></th>\n",
       "      <th>physicianid</th>\n",
       "      <th>adderallpatients</th>\n",
       "      <th>adderallpayments</th>\n",
       "      <th>antibiopatients</th>\n",
       "      <th>antibiopayments</th>\n",
       "      <th>opioidpatients</th>\n",
       "      <th>opioidpayments</th>\n",
       "    </tr>\n",
       "    <tr>\n",
       "      <th>Date</th>\n",
       "      <th></th>\n",
       "      <th></th>\n",
       "      <th></th>\n",
       "      <th></th>\n",
       "      <th></th>\n",
       "      <th></th>\n",
       "      <th></th>\n",
       "    </tr>\n",
       "  </thead>\n",
       "  <tbody>\n",
       "    <tr>\n",
       "      <th>2015-01-01</th>\n",
       "      <td>wwyJwO6CL1dqIooh</td>\n",
       "      <td>NaN</td>\n",
       "      <td>NaN</td>\n",
       "      <td>NaN</td>\n",
       "      <td>NaN</td>\n",
       "      <td>13.000000</td>\n",
       "      <td>15443.0</td>\n",
       "    </tr>\n",
       "    <tr>\n",
       "      <th>2015-02-01</th>\n",
       "      <td>wwyJwO6CL1dqIooh</td>\n",
       "      <td>NaN</td>\n",
       "      <td>NaN</td>\n",
       "      <td>NaN</td>\n",
       "      <td>NaN</td>\n",
       "      <td>37.373343</td>\n",
       "      <td>63451.0</td>\n",
       "    </tr>\n",
       "    <tr>\n",
       "      <th>2015-03-01</th>\n",
       "      <td>wwyJwO6CL1dqIooh</td>\n",
       "      <td>NaN</td>\n",
       "      <td>NaN</td>\n",
       "      <td>NaN</td>\n",
       "      <td>NaN</td>\n",
       "      <td>35.000000</td>\n",
       "      <td>16468.0</td>\n",
       "    </tr>\n",
       "    <tr>\n",
       "      <th>2015-04-01</th>\n",
       "      <td>wwyJwO6CL1dqIooh</td>\n",
       "      <td>NaN</td>\n",
       "      <td>NaN</td>\n",
       "      <td>NaN</td>\n",
       "      <td>NaN</td>\n",
       "      <td>106.000000</td>\n",
       "      <td>283647.0</td>\n",
       "    </tr>\n",
       "    <tr>\n",
       "      <th>2015-05-01</th>\n",
       "      <td>wwyJwO6CL1dqIooh</td>\n",
       "      <td>NaN</td>\n",
       "      <td>NaN</td>\n",
       "      <td>NaN</td>\n",
       "      <td>NaN</td>\n",
       "      <td>78.000000</td>\n",
       "      <td>208911.0</td>\n",
       "    </tr>\n",
       "  </tbody>\n",
       "</table>\n",
       "</div>"
      ],
      "text/plain": [
       "                 physicianid  adderallpatients  adderallpayments  \\\n",
       "Date                                                               \n",
       "2015-01-01  wwyJwO6CL1dqIooh               NaN               NaN   \n",
       "2015-02-01  wwyJwO6CL1dqIooh               NaN               NaN   \n",
       "2015-03-01  wwyJwO6CL1dqIooh               NaN               NaN   \n",
       "2015-04-01  wwyJwO6CL1dqIooh               NaN               NaN   \n",
       "2015-05-01  wwyJwO6CL1dqIooh               NaN               NaN   \n",
       "\n",
       "            antibiopatients  antibiopayments  opioidpatients  opioidpayments  \n",
       "Date                                                                          \n",
       "2015-01-01              NaN              NaN       13.000000         15443.0  \n",
       "2015-02-01              NaN              NaN       37.373343         63451.0  \n",
       "2015-03-01              NaN              NaN       35.000000         16468.0  \n",
       "2015-04-01              NaN              NaN      106.000000        283647.0  \n",
       "2015-05-01              NaN              NaN       78.000000        208911.0  "
      ]
     },
     "execution_count": 16,
     "metadata": {},
     "output_type": "execute_result"
    }
   ],
   "source": [
    "# Confirming that the zero 'opioidpatients' value is replaced with the val = 37.3733...\n",
    "df2[df2['physicianid'] == 'wwyJwO6CL1dqIooh'].head()"
   ]
  },
  {
   "cell_type": "code",
   "execution_count": 17,
   "metadata": {},
   "outputs": [
    {
     "data": {
      "text/html": [
       "<div>\n",
       "<style scoped>\n",
       "    .dataframe tbody tr th:only-of-type {\n",
       "        vertical-align: middle;\n",
       "    }\n",
       "\n",
       "    .dataframe tbody tr th {\n",
       "        vertical-align: top;\n",
       "    }\n",
       "\n",
       "    .dataframe thead th {\n",
       "        text-align: right;\n",
       "    }\n",
       "</style>\n",
       "<table border=\"1\" class=\"dataframe\">\n",
       "  <thead>\n",
       "    <tr style=\"text-align: right;\">\n",
       "      <th></th>\n",
       "      <th>adderallpatients</th>\n",
       "      <th>adderallpayments</th>\n",
       "      <th>antibiopatients</th>\n",
       "      <th>antibiopayments</th>\n",
       "      <th>opioidpatients</th>\n",
       "      <th>opioidpayments</th>\n",
       "    </tr>\n",
       "  </thead>\n",
       "  <tbody>\n",
       "    <tr>\n",
       "      <th>count</th>\n",
       "      <td>23889.000000</td>\n",
       "      <td>2.388900e+04</td>\n",
       "      <td>39829.000000</td>\n",
       "      <td>3.982900e+04</td>\n",
       "      <td>12588.000000</td>\n",
       "      <td>1.258800e+04</td>\n",
       "    </tr>\n",
       "    <tr>\n",
       "      <th>mean</th>\n",
       "      <td>4.921972</td>\n",
       "      <td>1.828657e+03</td>\n",
       "      <td>6.378217</td>\n",
       "      <td>2.168274e+04</td>\n",
       "      <td>3.098218</td>\n",
       "      <td>2.980236e+03</td>\n",
       "    </tr>\n",
       "    <tr>\n",
       "      <th>std</th>\n",
       "      <td>9.248193</td>\n",
       "      <td>2.293074e+04</td>\n",
       "      <td>12.741038</td>\n",
       "      <td>8.380979e+04</td>\n",
       "      <td>6.949683</td>\n",
       "      <td>6.421729e+04</td>\n",
       "    </tr>\n",
       "    <tr>\n",
       "      <th>min</th>\n",
       "      <td>1.000000</td>\n",
       "      <td>-1.177100e+04</td>\n",
       "      <td>1.000000</td>\n",
       "      <td>-9.400000e+03</td>\n",
       "      <td>1.000000</td>\n",
       "      <td>-1.000000e+01</td>\n",
       "    </tr>\n",
       "    <tr>\n",
       "      <th>25%</th>\n",
       "      <td>1.000000</td>\n",
       "      <td>4.600000e+01</td>\n",
       "      <td>2.000000</td>\n",
       "      <td>3.030000e+02</td>\n",
       "      <td>1.000000</td>\n",
       "      <td>1.500000e+01</td>\n",
       "    </tr>\n",
       "    <tr>\n",
       "      <th>50%</th>\n",
       "      <td>3.000000</td>\n",
       "      <td>2.450000e+02</td>\n",
       "      <td>3.000000</td>\n",
       "      <td>2.908000e+03</td>\n",
       "      <td>2.000000</td>\n",
       "      <td>1.220000e+02</td>\n",
       "    </tr>\n",
       "    <tr>\n",
       "      <th>75%</th>\n",
       "      <td>5.000000</td>\n",
       "      <td>8.580000e+02</td>\n",
       "      <td>6.000000</td>\n",
       "      <td>1.430600e+04</td>\n",
       "      <td>3.000000</td>\n",
       "      <td>4.410000e+02</td>\n",
       "    </tr>\n",
       "    <tr>\n",
       "      <th>max</th>\n",
       "      <td>341.000000</td>\n",
       "      <td>1.732264e+06</td>\n",
       "      <td>285.000000</td>\n",
       "      <td>2.423404e+06</td>\n",
       "      <td>318.000000</td>\n",
       "      <td>2.823021e+06</td>\n",
       "    </tr>\n",
       "  </tbody>\n",
       "</table>\n",
       "</div>"
      ],
      "text/plain": [
       "       adderallpatients  adderallpayments  antibiopatients  antibiopayments  \\\n",
       "count      23889.000000      2.388900e+04     39829.000000     3.982900e+04   \n",
       "mean           4.921972      1.828657e+03         6.378217     2.168274e+04   \n",
       "std            9.248193      2.293074e+04        12.741038     8.380979e+04   \n",
       "min            1.000000     -1.177100e+04         1.000000    -9.400000e+03   \n",
       "25%            1.000000      4.600000e+01         2.000000     3.030000e+02   \n",
       "50%            3.000000      2.450000e+02         3.000000     2.908000e+03   \n",
       "75%            5.000000      8.580000e+02         6.000000     1.430600e+04   \n",
       "max          341.000000      1.732264e+06       285.000000     2.423404e+06   \n",
       "\n",
       "       opioidpatients  opioidpayments  \n",
       "count    12588.000000    1.258800e+04  \n",
       "mean         3.098218    2.980236e+03  \n",
       "std          6.949683    6.421729e+04  \n",
       "min          1.000000   -1.000000e+01  \n",
       "25%          1.000000    1.500000e+01  \n",
       "50%          2.000000    1.220000e+02  \n",
       "75%          3.000000    4.410000e+02  \n",
       "max        318.000000    2.823021e+06  "
      ]
     },
     "execution_count": 17,
     "metadata": {},
     "output_type": "execute_result"
    }
   ],
   "source": [
    "# Checking the descriptive statistics of df2\n",
    "df2.describe()"
   ]
  },
  {
   "cell_type": "markdown",
   "metadata": {},
   "source": [
    "After imputations, the mean monthly antibiotic payments for df2 is only marginally increased to 21682 compared to 21666 in df1 (pre-imputation). Subsequent analysis will continue with df2."
   ]
  },
  {
   "cell_type": "markdown",
   "metadata": {},
   "source": [
    "Initial summary of the dataset show that on average:\n",
    "* physicians saw about 5 adderall patients and charged about 1828 per month\n",
    "* physicians saw about 6 antibiotic patients and charged about 21682 per month\n",
    "* physicians saw about 3 opioid patients and charged about 2980 per month\n",
    "\n",
    "Hence, it appears physicians received higher payments per patient for prescribing antibiotics compared to adderall or opioid. Likewise, it appears physicians received higher payments per patient for prescribing opioids compared to adderall. This could be due to the fact that antibiotic and opioid prescribing physicians might prefer to prescribe more expensive branded products or might be overprescribing drugs to repeat patients."
   ]
  },
  {
   "cell_type": "markdown",
   "metadata": {},
   "source": [
    "### Visualizing and estimating probability distributions of the variables"
   ]
  },
  {
   "cell_type": "code",
   "execution_count": 18,
   "metadata": {},
   "outputs": [
    {
     "name": "stderr",
     "output_type": "stream",
     "text": [
      "C:\\Anaconda\\lib\\site-packages\\ipykernel_launcher.py:24: MatplotlibDeprecationWarning: Adding an axes using the same arguments as a previous axes currently reuses the earlier instance.  In a future version, a new instance will always be created and returned.  Meanwhile, this warning can be suppressed, and the future behavior ensured, by passing a unique label to each axes instance.\n"
     ]
    },
    {
     "data": {
      "image/png": "[encoded data removed]",
      "text/plain": [
       "<Figure size 432x288 with 6 Axes>"
      ]
     },
     "metadata": {
      "needs_background": "light"
     },
     "output_type": "display_data"
    }
   ],
   "source": [
    "np.random.seed(3)\n",
    "\n",
    "f = 0\n",
    "for col in df2.columns[1:]:\n",
    "    clean_col = [i for i in df2[col].dropna() if i > 0]\n",
    "    if 'patients' in col:  \n",
    "        scale, size = st.expon.fit(np.log(clean_col))\n",
    "        simulated = st.expon(scale, size).rvs(len(clean_col))\n",
    "        \n",
    "    else:\n",
    "        mean, std = st.norm.fit(np.log(clean_col))\n",
    "        simulated = st.norm(mean, std).rvs(len(clean_col))\n",
    "    \n",
    "    f += 1\n",
    "    #plt.figure(figsize=(10,5))\n",
    "    plt.subplot(3,2,f)\n",
    "    plt.hist(simulated, bins=30, alpha=0.5, label='simulated', density=True)\n",
    "    plt.hist(np.log(clean_col), bins=30, alpha=0.5, label='observed', density=True)\n",
    "    plt.xlabel(col)\n",
    "    plt.ylabel('Frequency')\n",
    "    #plt.legend() \n",
    "    plt.tight_layout()\n",
    "\n",
    "plt.subplot(3,2,1)\n",
    "plt.legend();"
   ]
  },
  {
   "cell_type": "markdown",
   "metadata": {},
   "source": [
    "Probability distributions show that log transformed patient volumes appear to be exponetially distributed while log transformed payments appear to be normally ditributed. "
   ]
  },
  {
   "cell_type": "markdown",
   "metadata": {},
   "source": [
    "### Using box plots and empirical cummulative density functions (ECDFs) to compare variables"
   ]
  },
  {
   "cell_type": "code",
   "execution_count": 19,
   "metadata": {},
   "outputs": [
    {
     "data": {
      "image/png": "[encoded data removed]",
      "text/plain": [
       "<Figure size 1008x288 with 2 Axes>"
      ]
     },
     "metadata": {
      "needs_background": "light"
     },
     "output_type": "display_data"
    }
   ],
   "source": [
    "# Box plots of patient monthly volumes and payments per physician \n",
    "fig, axes = plt.subplots(1, 2, figsize=(14,4), squeeze=False)\n",
    "df2.loc[:,['adderallpatients','antibiopatients','opioidpatients']].plot(kind='box', ax=axes[0, 0])\n",
    "df2.loc[:,['adderallpayments','antibiopayments','opioidpayments']].plot(kind='box', ax=axes[0, 1])\n",
    "axes[0,0].set_ylabel('patient monthly volume')\n",
    "axes[0,1].set_ylabel('patient monthly payments') ;"
   ]
  },
  {
   "cell_type": "markdown",
   "metadata": {},
   "source": [
    "Box plots confirm the presence of outliers. This means that some physicians see far more patients and/or receive far more payments per month compared to other physicians. It is suspected that some of the physicians in the group of outliers might be the ones involved in overprescribing drugs recklessly or for profit."
   ]
  },
  {
   "cell_type": "code",
   "execution_count": 20,
   "metadata": {},
   "outputs": [],
   "source": [
    "# Generating functions for plotting ecdfs\n",
    "def ecdf(data):\n",
    "    '''Generate x and y values for empirical cummulative density function plots'''\n",
    "    x = np.sort(data)\n",
    "    y = np.arange(1, len(data)+1) / len(data)\n",
    "    return x, y\n",
    "\n",
    "# Generating a and y variables for ecdfs\n",
    "adderall_patients_x, adderall_patients_y = ecdf(df2.adderallpatients.dropna())\n",
    "antibio_patients_x, antibio_patients_y = ecdf(df2.antibiopatients.dropna())\n",
    "opioid_patients_x, opioid_patients_y = ecdf(df2.opioidpatients.dropna())\n",
    "adderall_payments_x, adderall_payments_y = ecdf(df2.adderallpayments.dropna())\n",
    "antibio_payments_x, antibio_payments_y = ecdf(df2.antibiopayments.dropna())\n",
    "opioid_payments_x, opioid_payments_y = ecdf(df2.opioidpayments.dropna())"
   ]
  },
  {
   "cell_type": "code",
   "execution_count": 21,
   "metadata": {},
   "outputs": [
    {
     "name": "stderr",
     "output_type": "stream",
     "text": [
      "C:\\Anaconda\\lib\\site-packages\\ipykernel_launcher.py:11: RuntimeWarning: divide by zero encountered in log\n",
      "  # This is added back by InteractiveShellApp.init_path()\n",
      "C:\\Anaconda\\lib\\site-packages\\ipykernel_launcher.py:11: RuntimeWarning: invalid value encountered in log\n",
      "  # This is added back by InteractiveShellApp.init_path()\n",
      "C:\\Anaconda\\lib\\site-packages\\ipykernel_launcher.py:12: RuntimeWarning: divide by zero encountered in log\n",
      "  if sys.path[0] == '':\n",
      "C:\\Anaconda\\lib\\site-packages\\ipykernel_launcher.py:12: RuntimeWarning: invalid value encountered in log\n",
      "  if sys.path[0] == '':\n",
      "C:\\Anaconda\\lib\\site-packages\\ipykernel_launcher.py:13: RuntimeWarning: divide by zero encountered in log\n",
      "  del sys.path[0]\n",
      "C:\\Anaconda\\lib\\site-packages\\ipykernel_launcher.py:13: RuntimeWarning: invalid value encountered in log\n",
      "  del sys.path[0]\n"
     ]
    },
    {
     "data": {
      "image/png": "[encoded data removed]",
      "text/plain": [
       "<Figure size 1152x288 with 2 Axes>"
      ]
     },
     "metadata": {
      "needs_background": "light"
     },
     "output_type": "display_data"
    }
   ],
   "source": [
    "# Plotting ecdfs\n",
    "plt.figure(figsize=(16,4))\n",
    "plt.subplot(1,2,1)\n",
    "plt.plot(np.log(adderall_patients_x), adderall_patients_y, marker='.', linestyle='none', color='r')\n",
    "plt.plot(np.log(antibio_patients_x), antibio_patients_y, marker='.', linestyle='none', color='b')\n",
    "plt.plot(np.log(opioid_patients_x), opioid_patients_y, marker='.', linestyle='none', color='g')\n",
    "plt.xlabel('log(patient monthly volume)') ; plt.ylabel('ECDF')\n",
    "plt.legend(('adderall','antibiotics','opioids'), loc='lower right')\n",
    "\n",
    "plt.subplot(1,2,2) \n",
    "plt.plot(np.log(adderall_payments_x), adderall_payments_y, marker='.', linestyle='none', color='r')\n",
    "plt.plot(np.log(antibio_payments_x), antibio_payments_y, marker='.', linestyle='none', color='b')\n",
    "plt.plot(np.log(opioid_payments_x), opioid_payments_y, marker='.', linestyle='none', color='g')\n",
    "plt.xlabel('log(patient monthly payment)') ; plt.ylabel('ECDF')\n",
    "plt.legend(('adderall','antibiotics','opioids'), loc='lower right');"
   ]
  },
  {
   "cell_type": "markdown",
   "metadata": {},
   "source": [
    "The ecdf plots confirmed information from descriptive statistics, which showed that antibitoics prescribing physicians had the highest monthly average volumes and highest monthly payments compared to adderall or opioid prescribing physicians. Additionally, ecdf plots showed that adderall prescribing physicians had higher monthly patient volumes compared to opioid prescribing physicians. \n",
    "\n",
    "Interestingly, while descriptive statistics analysis showed a higher monthly average payment for opioids compared to adderall, ecdf plots suggest that at least 85% of physicians received higher monthly payments for adderall than opioids. This suggests that the source of the higher monthly payments for opioids compared to adderall is restricted to payments associated with less than 15% of opioid prescribing physicians. Before investigating this further, it is important to first comfirm that the mean differences in opioid and adderall patient volumes and payments are statistically signifcant. "
   ]
  },
  {
   "cell_type": "markdown",
   "metadata": {},
   "source": [
    "### Using bootstrapping to compare means of monthly patient volumes and payments for adderall and opioid\n",
    "The null hypothesis is that there's no difference in the mean monthly patient volumes and payments for adderall and opioids "
   ]
  },
  {
   "cell_type": "code",
   "execution_count": null,
   "metadata": {},
   "outputs": [],
   "source": [
    "np.random.seed(47)\n",
    "\n",
    "# Computing the differences in means\n",
    "adderallpatients = df2.adderallpatients.dropna() \n",
    "opioidpatients = df2.opioidpatients.dropna() \n",
    "adderallpayments = df2.adderallpayments.dropna()\n",
    "opioidpayments = df2.opioidpayments.dropna()\n",
    "\n",
    "patients_diff = np.mean(adderallpatients) - np.mean(opioidpatients)\n",
    "payments_diff = np.mean(opioidpayments) - np.mean(adderallpayments)\n",
    "\n",
    "# Concatenating samples\n",
    "conc_patients_mean = np.mean(np.concatenate((adderallpatients, opioidpatients)))\n",
    "conc_payments_mean = np.mean(np.concatenate((adderallpayments, opioidpayments)))\n",
    "\n",
    "# Shifting the means of both samples to match the concatenated mean\n",
    "add_patients_shifted = adderallpatients + conc_patients_mean - np.mean(adderallpatients)\n",
    "opi_patients_shifted = opioidpatients + conc_patients_mean - np.mean(opioidpatients)\n",
    "add_payments_shifted = adderallpayments + conc_payments_mean - np.mean(adderallpayments)\n",
    "opi_payments_shifted = opioidpayments + conc_payments_mean - np.mean(opioidpayments)\n",
    "\n",
    "# Initializing replicates \n",
    "bs_patients_replicates = np.empty(10000)\n",
    "bs_payments_replicates = np.empty(10000)\n",
    "\n",
    "# Generating bs_patients replicates\n",
    "for i in range(10000):\n",
    "    add_rep = np.random.choice(add_patients_shifted, size=len(add_patients_shifted))\n",
    "    opi_rep = np.random.choice(opi_patients_shifted, size=len(opi_patients_shifted))\n",
    "    bs_patients_replicates[i] = np.mean(add_rep) - np.mean(opi_rep)\n",
    "\n",
    "# Generating bs_payments replicates\n",
    "for i in range(10000):\n",
    "    add_rep = np.random.choice(add_payments_shifted, size=len(add_payments_shifted))\n",
    "    opi_rep = np.random.choice(opi_payments_shifted, size=len(opi_payments_shifted))\n",
    "    bs_payments_replicates[i] = np.mean(opi_rep) - np.mean(add_rep)"
   ]
  },
  {
   "cell_type": "code",
   "execution_count": null,
   "metadata": {},
   "outputs": [],
   "source": [
    "# Computing confidence intervals\n",
    "conf_int_lower1 = np.percentile(bs_patients_replicates, 2.5)\n",
    "conf_int_upper1 = np.percentile(bs_patients_replicates, 97.5)\n",
    "conf_int_lower2 = np.percentile(bs_payments_replicates, 2.5)\n",
    "conf_int_upper2 = np.percentile(bs_payments_replicates, 97.5)\n",
    "\n",
    "# Plotting histograms of mean difference replicates\n",
    "fig, ax = plt.subplots(1, 2, figsize=(16,4), squeeze=False)\n",
    "ax[0,0].hist(bs_patients_replicates, bins=100)\n",
    "ax[0,0].axvline(conf_int_lower1, color='red', label='confidence intervals')\n",
    "ax[0,0].axvline(conf_int_upper1, color='red')\n",
    "ax[0,0].axvline(patients_diff, color='red', ls='--', label='observed difference')\n",
    "ax[0,0].axvline(-patients_diff, color='red', ls='--')\n",
    "ax[0,0].set_xlabel('Mean differences in patient monthly volume')\n",
    "ax[0,0].legend(loc='upper left')\n",
    "ax[0,0].set_ylabel('Frequency')\n",
    "\n",
    "ax[0,1].hist(bs_payments_replicates, bins=100)\n",
    "ax[0,1].axvline(conf_int_lower2, color='red', label='confidence intervals')\n",
    "ax[0,1].axvline(conf_int_upper2, color='red')\n",
    "ax[0,1].axvline(payments_diff, color='red', ls='--', label='observed difference')\n",
    "ax[0,1].axvline(-payments_diff, color='red', ls='--')\n",
    "ax[0,1].set_xlabel('Mean differences in patient monthly payments')\n",
    "ax[0,1].legend(loc='upper left')\n",
    "ax[0,1].set_ylabel('Frequency')\n",
    "\n",
    "# Computing p-values\n",
    "p1 = np.sum(bs_patients_replicates >= patients_diff) / len(bs_patients_replicates)\n",
    "p2 = np.sum(bs_payments_replicates >= payments_diff) / len(bs_payments_replicates)\n",
    "print(\"p-value of difference in mean monthly patient volumes = %g   \\\n",
    "       p-value of difference in mean monthly payments = %g\" % (p1, p2)) ;"
   ]
  },
  {
   "cell_type": "markdown",
   "metadata": {},
   "source": [
    "The bootstrapped hypothesis test suggest that on average physicians receive signifcantly more adderall patients per month compared to opioid patients. However, the average monthly payments collected for opioid patients is signifcantly higher (at the 5% signifcance level) compared to payments from adderall patients. This suggests that opioid patients have a higher revenue margin compared to adderall patients."
   ]
  },
  {
   "cell_type": "markdown",
   "metadata": {},
   "source": [
    "### Investigating payment received per patient per drug type\n",
    "Since the data suggests a higher revenue margin per opioid prescription compared to adderall, the average payments received per patient per drug type per physician was investigated. "
   ]
  },
  {
   "cell_type": "code",
   "execution_count": null,
   "metadata": {},
   "outputs": [],
   "source": [
    "# Making a copy of df2\n",
    "df3 = df2.copy()\n",
    "\n",
    "# Creating three new columns to capture the average payments received per patient per physician per drug type\n",
    "df3['adderall_pay_rate'] = df3['adderallpayments'] / df3['adderallpatients']\n",
    "df3['antibio_pay_rate'] = df3['antibiopayments'] / df3['antibiopatients']\n",
    "df3['opioid_pay_rate'] = df3['opioidpayments'] / df3['opioidpatients']"
   ]
  },
  {
   "cell_type": "code",
   "execution_count": null,
   "metadata": {},
   "outputs": [],
   "source": [
    "# Descriptive stats of payments received per patient per physician per drug type\n",
    "df3.loc[:,['adderall_pay_rate','antibio_pay_rate','opioid_pay_rate']].describe()"
   ]
  },
  {
   "cell_type": "code",
   "execution_count": null,
   "metadata": {},
   "outputs": [],
   "source": [
    "# Box and strip plots to visualize the payments received per patient per physician per drug type\n",
    "\n",
    "fig, axes = plt.subplots(1, 2, figsize=(15,5), squeeze=False)\n",
    "\n",
    "df3_melt = df3.loc[:,['adderall_pay_rate','antibio_pay_rate','opioid_pay_rate']]\n",
    "df3_melt.columns = ['adderall','antibiotics','opioid']\n",
    "df3_melt = df3_melt.melt(var_name = 'drug', value_name ='payment_per_patient')\n",
    "sns.stripplot(x='drug', y='payment_per_patient', data = df3_melt, size=5, jitter=True,ax=axes[0, 1])\n",
    "df3.loc[:,['adderall_pay_rate','antibio_pay_rate','opioid_pay_rate']].plot(kind='box', ax=axes[0, 0])\n",
    "axes[0,0].set_ylabel('payment per patient') ;"
   ]
  },
  {
   "cell_type": "markdown",
   "metadata": {},
   "source": [
    "The box and jitterred strip plots show the presence of outliers, especially for antibitotics prescriptions which had a mean of 3017 payment per patient but two extreme outliers of physicians receiving over 640000 in payments per patient."
   ]
  },
  {
   "cell_type": "code",
   "execution_count": null,
   "metadata": {},
   "outputs": [],
   "source": [
    "adderall_cv = st.variation(df3.adderall_pay_rate.dropna())\n",
    "antibio_cv = st.variation(df3.antibio_pay_rate.dropna())\n",
    "opioid_cv = st.variation(df3.opioid_pay_rate.dropna())\n",
    "print('Coefficient of variation in payment per patient for adderall = %03f' % adderall_cv)\n",
    "print('Coefficient of variation in payment per patient for antibitotics = %03f' % antibio_cv)\n",
    "print('Coefficient of variation in payment per patient for opioids = %03f' % opioid_cv)"
   ]
  },
  {
   "cell_type": "markdown",
   "metadata": {},
   "source": [
    "Given the presence of outliers, especially in payment per patient rates for antibitoics, it was not surprising that the coefficient of variations in payment per patient were high irrespective of drug type. However, opioid prescribing physicians had a coefficent of variation in payment per patient that was over 1.5x and 1.8x that of adderall and antibitoic prescribing physicians, respectively. Thus, opioid prescribing physicians had the widest variation on the payments received per opioid patient. "
   ]
  },
  {
   "cell_type": "code",
   "execution_count": null,
   "metadata": {},
   "outputs": [],
   "source": [
    "# Generating a and y variables for ecdfs of payments per patient\n",
    "adderall_payrate_x, adderall_payrate_y = ecdf(df3.adderall_pay_rate.dropna())\n",
    "antibio_payrate_x, antibio_payrate_y = ecdf(df3.antibio_pay_rate.dropna())\n",
    "opioid_payrate_x, opioid_payrate_y = ecdf(df3.opioid_pay_rate.dropna())"
   ]
  },
  {
   "cell_type": "code",
   "execution_count": null,
   "metadata": {},
   "outputs": [],
   "source": [
    "# Plotting ecdfs\n",
    "plt.figure(figsize=(16,4))\n",
    "plt.subplot(1,2,1)\n",
    "plt.plot(np.log(adderall_payrate_x), adderall_payrate_y, marker='.', linestyle='none', color='r')\n",
    "plt.plot(np.log(antibio_payrate_x), antibio_payrate_y, marker='.', linestyle='none', color='b')\n",
    "plt.plot(np.log(opioid_payrate_x), opioid_payrate_y, marker='.', linestyle='none', color='g')\n",
    "plt.xlabel('log(payment per patient)') ; plt.ylabel('ECDF') \n",
    "plt.legend(('adderall','antibiotics','opioids'), loc='lower right');"
   ]
  },
  {
   "cell_type": "markdown",
   "metadata": {},
   "source": [
    "Box plots, descriptive statistics and ecdfs show that physicians received significantly more revenue per patient by prescribing antibiotics. However, the mean pay rate from opioid patients was only slightly higher than that for adderall patients. Bootstrapping will be used to further determine the signifcance of the difference in payment per patient between adderall and opioid patients."
   ]
  },
  {
   "cell_type": "markdown",
   "metadata": {},
   "source": [
    "### Using bootstrapping to compare average payment per patient for adderall and opioid\n",
    "The null hypothesis is that there's no difference in the mean avaerage payment per patient for adderall and opioids "
   ]
  },
  {
   "cell_type": "code",
   "execution_count": null,
   "metadata": {},
   "outputs": [],
   "source": [
    "np.random.seed(47)\n",
    "\n",
    "# Computing the differences in mean payment per patient\n",
    "adderall_payrate = df3.adderall_pay_rate.dropna()\n",
    "opioid_payrate = df3.opioid_pay_rate.dropna() \n",
    "\n",
    "payrate_diff = np.mean(opioid_payrate) - np.mean(adderall_payrate)\n",
    "\n",
    "# Concatenating samples\n",
    "conc_payrate_mean = np.mean(np.concatenate((adderall_payrate, opioid_payrate)))\n",
    "\n",
    "# Shifting the means of both samples to match the concatenated mean\n",
    "add_payrate_shifted = adderall_payrate + conc_payrate_mean - np.mean(adderall_payrate)\n",
    "opi_payrate_shifted = opioid_payrate + conc_payrate_mean - np.mean(opioid_payrate)\n",
    "\n",
    "# Initializing replicates \n",
    "bs_payrate_replicates = np.empty(10000)\n",
    "\n",
    "# Generating bs_payrate replicates\n",
    "for i in range(10000):\n",
    "    add_rep = np.random.choice(add_payrate_shifted, size=len(add_payrate_shifted))\n",
    "    opi_rep = np.random.choice(opi_payrate_shifted, size=len(opi_payrate_shifted))\n",
    "    bs_payrate_replicates[i] = np.mean(opi_rep) - np.mean(add_rep)"
   ]
  },
  {
   "cell_type": "code",
   "execution_count": null,
   "metadata": {},
   "outputs": [],
   "source": [
    "# Computing confidence intervals\n",
    "conf_int_lower = np.percentile(bs_payrate_replicates, 2.5)\n",
    "conf_int_upper = np.percentile(bs_payrate_replicates, 97.5)"
   ]
  },
  {
   "cell_type": "code",
   "execution_count": null,
   "metadata": {},
   "outputs": [],
   "source": [
    "# Plotting histograms of mean difference replicates\n",
    "plt.figure(figsize=(12,4))\n",
    "plt.hist(bs_payrate_replicates, bins=100)\n",
    "plt.axvline(conf_int_lower, color='red', label='confidence intervals')\n",
    "plt.axvline(conf_int_upper, color='red')\n",
    "plt.axvline(payrate_diff, color='red', ls='--', label='observed difference')\n",
    "plt.axvline(-payrate_diff, color='red', ls='--')\n",
    "plt.xlabel('Mean differences in payment per patient')\n",
    "plt.legend(loc='upper left')\n",
    "plt.ylabel('Frequency');\n",
    "\n",
    "# Computing p-value\n",
    "p = np.mean(bs_payrate_replicates >= payrate_diff)\n",
    "#p_ = np.sum(bs_payrate_replicates >= payrate_diff) / len(bs_payrate_replicates)\n",
    "\n",
    "print('p-value of difference in mean payment per patient =',p)"
   ]
  },
  {
   "cell_type": "markdown",
   "metadata": {},
   "source": [
    "The bootstrapped hypothesis test suggests that there is no signifcant difference (at the 5% signifcance level) between the payments received per patient for adderall and opioids.\n",
    "\n",
    "Hence, the initial conclusion is that despite seeing signifcantly fewer opioid patients compared to adderall, the signifcantly higher monthly payments from opioid compared to adderall prescriptions is likely due to prescriptions to repeat patients. "
   ]
  },
  {
   "cell_type": "markdown",
   "metadata": {},
   "source": [
    "### Analyzing correlations between patient volumes and payments for the different drug types"
   ]
  },
  {
   "cell_type": "code",
   "execution_count": null,
   "metadata": {},
   "outputs": [],
   "source": [
    "# Aggregating dataset by date to simplify the dataset prior to correlation matrix analyses\n",
    "df3.groupby('Date').sum().tail() "
   ]
  },
  {
   "cell_type": "markdown",
   "metadata": {},
   "source": [
    "Entries for the month of 2017-10 are incomplete. Hence, thsi month will be excluded from time series analyses"
   ]
  },
  {
   "cell_type": "code",
   "execution_count": null,
   "metadata": {},
   "outputs": [],
   "source": [
    "# Creating a new dataset that excludes the month of 2017-10\n",
    "df3_d = df3.loc[:'2017-09',:].groupby('Date').sum()"
   ]
  },
  {
   "cell_type": "code",
   "execution_count": null,
   "metadata": {},
   "outputs": [],
   "source": [
    "# heat map visualization of correlation matrix\n",
    "df3_corr = df3_d.corr()\n",
    "plt.figure(figsize=(7,5))\n",
    "sns.heatmap(df3_corr, cmap='Blues') ;"
   ]
  },
  {
   "cell_type": "code",
   "execution_count": null,
   "metadata": {},
   "outputs": [],
   "source": [
    "# Visualization of scatterplots between patient volumes and payments per drug \n",
    "adderall_ = df3_d.loc[:,['adderallpatients','adderallpayments']]\n",
    "adderall_['adderallpayments'] = adderall_['adderallpayments'] / 1000\n",
    "antibio_ = df3_d.loc[:,['antibiopatients','antibiopayments']]\n",
    "opioid_ = df3_d.loc[:,['opioidpatients','opioidpayments']]\n",
    "opioid_['opioidpayments'] = opioid_['opioidpayments'] / 1000\n",
    "plt.figure(figsize=(16,4))\n",
    "plt.subplot(1,3,1)\n",
    "sns.scatterplot(x='adderallpatients', y='adderallpayments', data=adderall_)\n",
    "plt.ylabel('adderall payments  (x1000)')\n",
    "plt.subplot(1,3,2)\n",
    "sns.scatterplot(x='antibiopatients', y='antibiopayments', data=antibio_)\n",
    "plt.subplot(1,3,3)\n",
    "sns.scatterplot(x='opioidpatients', y='opioidpayments', data=opioid_)\n",
    "plt.ylabel('opioid payments  (x1000)');"
   ]
  },
  {
   "cell_type": "markdown",
   "metadata": {},
   "source": [
    "Correlation matrix shows strong relationships between antibiotic patient volumes and antibiotic payment amounts suggesting a predictable increase in payments as patient volumes increase for antibiotic prescribing physicians. This was not the case with adderall and opioid prescribing physicians, which showed very weak correlations between patient volumes and payments. This suggests that something other than patient volume was driving the payment rates for adderall and opioid prescribing physicians."
   ]
  },
  {
   "cell_type": "markdown",
   "metadata": {},
   "source": [
    "### Identifing physicians that are potentially overprescribing medications\n",
    "This will involve first identifying physicians above the 80th percentile for average monthly payments received and then from that list determine those who had 3 or more avtive months and whose payments do not correlate with patient volume."
   ]
  },
  {
   "cell_type": "code",
   "execution_count": null,
   "metadata": {},
   "outputs": [],
   "source": [
    "# Grouping the dataset by physicianid to show a total of 3010 unique physicians in the dataset\n",
    "df3_p = df3.groupby('physicianid').mean()\n",
    "df3_p.shape"
   ]
  },
  {
   "cell_type": "code",
   "execution_count": null,
   "metadata": {},
   "outputs": [],
   "source": [
    "# Creating subset datasets from df1_p according to drug type\n",
    "adderall = df3_p.loc[:,['adderallpatients', 'adderallpayments','adderall_pay_rate']].dropna()\n",
    "antibio = df3_p.loc[:,['antibiopatients', 'antibiopayments','antibio_pay_rate']].dropna()\n",
    "opioid = df3_p.loc[:,['opioidpatients', 'opioidpayments','opioid_pay_rate']].dropna()"
   ]
  },
  {
   "cell_type": "code",
   "execution_count": null,
   "metadata": {},
   "outputs": [],
   "source": [
    "# Sorting the datasets based on monthly payments\n",
    "adderall.sort_values('adderallpayments', inplace=True)\n",
    "antibio.sort_values('antibiopayments', inplace=True)\n",
    "opioid.sort_values('opioidpayments', inplace=True)"
   ]
  },
  {
   "cell_type": "code",
   "execution_count": null,
   "metadata": {},
   "outputs": [],
   "source": [
    "# Creating a function that identifies physicians with unsual prescription patterns: suspect_phys_finder\n",
    "\n",
    "def suspect_phys_finder(datasets, percentile=50, pearson_r=0.5):\n",
    "    \n",
    "    '''Selects physicians with mean monthly payments above selected percentile, with 3 or more active months \n",
    "        and with pearson's correlation coefficent between payments and patient volumes less than selected r'''\n",
    "    \n",
    "    drugs = ['adderall', 'antibio', 'opioid']\n",
    "    xs_add, xs_antibio, xs_opi = [],[],[]\n",
    "    \n",
    "    # Select dataset from a list: datasets\n",
    "    for data in datasets:\n",
    "        \n",
    "        # Select drug type from a list: drugs\n",
    "        for drug in drugs:\n",
    "            \n",
    "            # Select drug type based on match to column name\n",
    "            if drug in data.columns[1]:\n",
    "                \n",
    "                # Calculate value of selected percentile for mean monthly payments: drug_perc \n",
    "                drug_perc = np.percentile(data[data.columns[2]], percentile)\n",
    "                \n",
    "                # Identifying physicians with mean monthly payments larger than percentile value: drug_over_perc \n",
    "                drug_over_perc = data[data[data.columns[2]] > drug_perc]\n",
    "                \n",
    "                # loop through the list of physicians in drug_over_perc\n",
    "                for phys in drug_over_perc.index:\n",
    "                    \n",
    "                    # Slice out the prescription history of selected physician in new df: phys_df\n",
    "                    phys_df = df3.loc[(df3['physicianid'] == phys),:].dropna()\n",
    "                    \n",
    "                    # Checking that the physician has at least 3 active months\n",
    "                    if len(phys_df) >= 3:\n",
    "                        \n",
    "                        # Compute pearson's correlation coefficent of monthly payments and patient volume\n",
    "                        x = phys_df.loc[:,data.columns[0]]\n",
    "                        y = phys_df.loc[:,data.columns[1]]\n",
    "                        r_corr = np.corrcoef(x, y)\n",
    "                        \n",
    "                        # Select physician id if coefficient is less than chosen r\n",
    "                        if r_corr[0,1] is not None and r_corr[0,1] < pearson_r:\n",
    "                            if drug == 'adderall': \n",
    "                                xs_add.append(phys)\n",
    "                            elif drug == 'antibio':\n",
    "                                xs_antibio.append(phys)\n",
    "                            else:\n",
    "                                xs_opi.append(phys)\n",
    "         \n",
    "    # Store selected physician ids in dictionary: xs_phys\n",
    "    xs_phys = {'adderall':xs_add, 'antibio':xs_antibio, 'opioid':xs_opi}\n",
    "       \n",
    "    return xs_phys    "
   ]
  },
  {
   "cell_type": "code",
   "execution_count": null,
   "metadata": {},
   "outputs": [],
   "source": [
    "# Using the function to identify physicians with unusual prescription patterns\n",
    "datasets = [adderall, antibio, opioid]\n",
    "xs_phys = suspect_phys_finder(datasets, percentile=80, pearson_r=0.7)"
   ]
  },
  {
   "cell_type": "code",
   "execution_count": null,
   "metadata": {},
   "outputs": [],
   "source": [
    "xs_phys_all = set(xs_phys['adderall']).intersection(set(xs_phys['antibio']), set(xs_phys['opioid']))\n",
    "xs_phys_add_anti = set(xs_phys['adderall']).intersection(set(xs_phys['antibio']))\n",
    "xs_phys_add_opi = set(xs_phys['adderall']).intersection(set(xs_phys['opioid']))\n",
    "xs_phys_anti_opi = set(xs_phys['antibio']).intersection(set(xs_phys['opioid']))\n",
    "all_ = df3_p.loc[df3_p.adderallpatients.notnull() & df3_p.antibiopatients.notnull() & df3_p.opioidpatients.notnull()]\n",
    "add_opi = df3_p.loc[df3_p.adderallpatients.notnull() & df3_p.opioidpatients.notnull()]\n",
    "add_anti = df3_p.loc[df3_p.adderallpatients.notnull() & df3_p.antibiopatients.notnull()]\n",
    "anti_opi = df3_p.loc[df3_p.antibiopatients.notnull() & df3_p.opioidpatients.notnull()]\n",
    "print('Physicians likely overprescribing adderall = %d out of %d' % (len(xs_phys['adderall']), len(adderall)))\n",
    "print('Physicians likely overprescribing antibiotics = %d out of %d' % (len(xs_phys['antibio']), len(antibio)))\n",
    "print('Physicians likely overprescribing opioids = %d out of %d' % (len(xs_phys['opioid']), len(opioid)))\n",
    "print('Physicians likely overprescribing all drugs = %d out of %d' % (len(xs_phys_all), len(all_)))\n",
    "print('Physicians likely overprescribing both adderall and antibiotics = %d out of %d' % (len(xs_phys_add_anti), len(add_anti)))\n",
    "print('Physicians likely overprescribing both adderall and opioids = %d out of %d' % (len(xs_phys_add_opi), len(add_opi)))\n",
    "print('Physicians likely overprescribing both opioids and antibiotics = %d out of %d' % (len(xs_phys_anti_opi), len(anti_opi)))"
   ]
  },
  {
   "cell_type": "markdown",
   "metadata": {},
   "source": [
    "### Time series analysis of the entire dataset of patient volumes and payments "
   ]
  },
  {
   "cell_type": "code",
   "execution_count": null,
   "metadata": {},
   "outputs": [],
   "source": [
    "# Grouping the data by date and aggregating with mean. \n",
    "df3_d_avg = df3.loc[:'2017-09',:].groupby('Date').mean()\n",
    "\n",
    "fig, axes = plt.subplots(1, 2, figsize=(14,4), squeeze=False)\n",
    "df3_d_avg.loc[:,['adderallpatients','antibiopatients','opioidpatients']].plot(ax=axes[0, 0])\n",
    "df3_d_avg.loc[:,['adderallpayments','antibiopayments','opioidpayments']].plot(ax=axes[0, 1])\n",
    "axes[0,0].set_ylabel('Average patient monthly volume')\n",
    "axes[0,1].set_ylabel('Average patient monthly payments') ;"
   ]
  },
  {
   "cell_type": "markdown",
   "metadata": {},
   "source": [
    "The average monthly payments and average monthly patient volumes appear to be stationary over the period and the differences in means are consistent with earlier observations."
   ]
  },
  {
   "cell_type": "code",
   "execution_count": null,
   "metadata": {},
   "outputs": [],
   "source": [
    "# Grouping the data by date and aggregating with sum. \n",
    "df3_d_sum = df3.loc[:'2017-09',:].groupby('Date').sum()\n",
    "\n",
    "fig, axes = plt.subplots(1, 2, figsize=(14,4), squeeze=False)\n",
    "df3_d_sum.loc[:,['adderallpatients','antibiopatients','opioidpatients']].plot(ax=axes[0, 0])\n",
    "df3_d_sum.loc[:,['adderallpayments','antibiopayments','opioidpayments']].plot(ax=axes[0, 1])\n",
    "axes[0,0].set_ylabel('Total patient monthly volumes')\n",
    "axes[0,1].set_ylabel('Total patient monthly payments') ;"
   ]
  },
  {
   "cell_type": "markdown",
   "metadata": {},
   "source": [
    "Surprisingly, unlike the average monthly aggregates, aggregating by sum shows a steady decline in total patient volumes for all drug types over the period. Additionally, while the total monthly payments for antibiotics also appeared to be steadily declining over the period, total monthly payments for adderall and opioids appeared stationary.\n",
    "\n",
    "It is likely that the impact of outliers might have skewed the means resulting in the observation of stationary values for average patient volumes despite a steady decline in total patient volumes over the period."
   ]
  },
  {
   "cell_type": "markdown",
   "metadata": {},
   "source": [
    "### Subsetting the dataset for deeper time series analysis of patient volumes and payments\n",
    "#### Time series prescription patterns of physicians that prescribed adderall and atleast one other drug type"
   ]
  },
  {
   "cell_type": "code",
   "execution_count": null,
   "metadata": {},
   "outputs": [],
   "source": [
    "# Physicians that prescribed adderall and atleast one other drug type\n",
    "adderall_phys_other = df3[df3['adderallpatients'].notnull()]\n",
    "\n",
    "adderall_phys_other = adderall_phys_other.loc[:'2017-09',:].groupby('Date').sum()\n",
    "fig, axes = plt.subplots(1, 2, figsize=(14,4), squeeze=False)\n",
    "adderall_phys_other.loc[:,['adderallpatients','antibiopatients','opioidpatients']].plot(ax=axes[0, 0])\n",
    "adderall_phys_other.loc[:,['adderallpayments','antibiopayments','opioidpayments']].plot(ax=axes[0, 1])\n",
    "axes[0,0].set_ylabel('Total patient monthly volume')\n",
    "axes[0,1].set_ylabel('Total patient monthly payments') ;"
   ]
  },
  {
   "cell_type": "markdown",
   "metadata": {},
   "source": [
    "#### Time series prescription patterns of physicians that prescribed opioids and atleast one other drug type"
   ]
  },
  {
   "cell_type": "code",
   "execution_count": null,
   "metadata": {},
   "outputs": [],
   "source": [
    "# Physicians that prescribed opioids and atleast one other drug type\n",
    "opioid_phys_other = df3[df3['opioidpatients'].notnull()]\n",
    "\n",
    "opioid_phys_other = opioid_phys_other.loc[:'2017-09',:].groupby('Date').sum()\n",
    "fig, axes = plt.subplots(1, 2, figsize=(14,4), squeeze=False)\n",
    "opioid_phys_other.loc[:,['adderallpatients','antibiopatients','opioidpatients']].plot(ax=axes[0, 0])\n",
    "opioid_phys_other.loc[:,['adderallpayments','antibiopayments','opioidpayments']].plot(ax=axes[0, 1])\n",
    "axes[0,0].set_ylabel('Total patient monthly volume')\n",
    "axes[0,1].set_ylabel('Total patient monthly payments') ;"
   ]
  },
  {
   "cell_type": "markdown",
   "metadata": {},
   "source": [
    "#### Time series prescription patterns of physicians likely overprescribing adderall"
   ]
  },
  {
   "cell_type": "code",
   "execution_count": null,
   "metadata": {},
   "outputs": [],
   "source": [
    "xs_phys_adderall = df3.loc[df3.physicianid.isin(xs_phys['adderall'])]\n",
    "\n",
    "xs_phys_adderall = xs_phys_adderall.loc[:'2017-09',:].groupby('Date').sum()\n",
    "fig, axes = plt.subplots(1, 2, figsize=(14,4), squeeze=False)\n",
    "xs_phys_adderall.loc[:,['adderallpatients','antibiopatients','opioidpatients']].plot(ax=axes[0, 0])\n",
    "xs_phys_adderall.loc[:,['adderallpayments','antibiopayments','opioidpayments']].plot(ax=axes[0, 1])\n",
    "axes[0,0].set_ylabel('Total patient monthly volume')\n",
    "axes[0,1].set_ylabel('Total patient monthly payments') ;"
   ]
  },
  {
   "cell_type": "markdown",
   "metadata": {},
   "source": [
    "#### Time series prescription patterns of physicians likely overprescribing antibiotics"
   ]
  },
  {
   "cell_type": "code",
   "execution_count": null,
   "metadata": {},
   "outputs": [],
   "source": [
    "xs_phys_antibio = df3.loc[df3.physicianid.isin(xs_phys['antibio'])]\n",
    "\n",
    "xs_phys_antibio = xs_phys_antibio.loc[:'2017-09',:].groupby('Date').sum()\n",
    "fig, axes = plt.subplots(1, 2, figsize=(14,4), squeeze=False)\n",
    "xs_phys_antibio.loc[:,['adderallpatients','antibiopatients','opioidpatients']].plot(ax=axes[0, 0])\n",
    "xs_phys_antibio.loc[:,['adderallpayments','antibiopayments','opioidpayments']].plot(ax=axes[0, 1])\n",
    "axes[0,0].set_ylabel('Total patient monthly volume')\n",
    "axes[0,1].set_ylabel('Total patient monthly payments') ;"
   ]
  },
  {
   "cell_type": "markdown",
   "metadata": {},
   "source": [
    "#### Time series prescription patterns of physicians likely overprescribing opioids"
   ]
  },
  {
   "cell_type": "code",
   "execution_count": null,
   "metadata": {},
   "outputs": [],
   "source": [
    "xs_phys_opioid = df3.loc[df3.physicianid.isin(xs_phys['opioid'])]\n",
    "\n",
    "xs_phys_opioid = xs_phys_opioid.loc[:'2017-09',:].groupby('Date').sum()\n",
    "fig, axes = plt.subplots(1, 2, figsize=(14,4), squeeze=False)\n",
    "xs_phys_opioid.loc[:,['adderallpatients','antibiopatients','opioidpatients']].plot(ax=axes[0, 0])\n",
    "xs_phys_opioid.loc[:,['adderallpayments','antibiopayments','opioidpayments']].plot(ax=axes[0, 1])\n",
    "axes[0,0].set_ylabel('Total patient monthly volume')\n",
    "axes[0,1].set_ylabel('Total patient monthly payments') ;"
   ]
  },
  {
   "cell_type": "markdown",
   "metadata": {},
   "source": [
    "#### Time series prescription patterns of physicians likely overprescribing opioids and adderall"
   ]
  },
  {
   "cell_type": "code",
   "execution_count": null,
   "metadata": {},
   "outputs": [],
   "source": [
    "xs_phys_anti_opi = df3.loc[df3.physicianid.isin(xs_phys_add_opi)]\n",
    "\n",
    "xs_phys_anti_opi = xs_phys_anti_opi.loc[:'2017-09',:].groupby('Date').sum()\n",
    "fig, axes = plt.subplots(1, 2, figsize=(14,4), squeeze=False)\n",
    "xs_phys_anti_opi.loc[:,['adderallpatients','antibiopatients','opioidpatients']].plot(ax=axes[0, 0])\n",
    "xs_phys_anti_opi.loc[:,['adderallpayments','antibiopayments','opioidpayments']].plot(ax=axes[0, 1])\n",
    "axes[0,0].set_ylabel('Total patient monthly volume')\n",
    "axes[0,1].set_ylabel('Total patient monthly payments') ;"
   ]
  },
  {
   "cell_type": "code",
   "execution_count": null,
   "metadata": {},
   "outputs": [],
   "source": []
  }
 ],
 "metadata": {
  "kernelspec": {
   "display_name": "Python 3",
   "language": "python",
   "name": "python3"
  },
  "language_info": {
   "codemirror_mode": {
    "name": "ipython",
    "version": 3
   },
   "file_extension": ".py",
   "mimetype": "text/x-python",
   "name": "python",
   "nbconvert_exporter": "python",
   "pygments_lexer": "ipython3",
   "version": "3.7.4"
  }
 },
 "nbformat": 4,
 "nbformat_minor": 2
}
