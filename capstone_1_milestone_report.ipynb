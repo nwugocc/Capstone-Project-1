{
 "cells": [
  {
   "cell_type": "markdown",
   "metadata": {},
   "source": [
    "# Capstone 1 Project: Milestone Report"
   ]
  },
  {
   "cell_type": "markdown",
   "metadata": {},
   "source": [
    "## 1. Introduction"
   ]
  },
  {
   "cell_type": "markdown",
   "metadata": {},
   "source": [
    "On Jan 23rd, 2018, New York City filed a lawsuit against the manufacturers and distributors of commonly-abused prescription painkillers, with Mayor Bill de Blasio stating that “more New Yorkers have died from opioid overdoses than car crashes and homicides combined in recent years” [1]. \n",
    " \n",
    "The detrimental effects of prescription medications span far beyond NYC. According to the National Institute on Drug Abuse, over 70,200 Americans died from a drug overdose in 2017, which is almost double the number recorded in 2007 [2]. Opioids—mainly synthetic opioids (other than methadone)—are currently the main driver of drug overdose deaths in the U.S. [3].   \n",
    " \n",
    "Besides painkillers like opioids, Adderall, which is used to treat attention-deficit/hyperactive disorder (ADHD) a lesser-known but growing concern. The prescription of Adderall, which is known as the “study drug”, is fast-growing and could catch up with that of opioids if nothing is done to check it. A reported 16 million prescriptions of Adderall were written in 2012, with sales quintupled from < `$`2 billion in 2002 to over `$`8 billion in 2012 [4].    \n",
    " \n",
    "Antibiotics are another frequently prescribed drug, despite over a quarter of doctors saying that antibiotics are often administered even though they will do no good, leading to waste in the healthcare system [5].\n"
   ]
  },
  {
   "cell_type": "markdown",
   "metadata": {},
   "source": [
    "### 1.1 Objectives"
   ]
  },
  {
   "cell_type": "markdown",
   "metadata": {},
   "source": [
    "The objectives of this project are:\n",
    "\n",
    "* to explore a sample dataset containing anonymized physician identities and their monthly patient volumes and payments received for Adderall, antibiotics and opioids. \n",
    "* to generate a classification system for physicians based on their prescription patterns\n",
    "* to generate time series forecasts of patient volumes and payments if the prescription patterns continue without intervention\n",
    "\n",
    "In this Milestone Report, we will present a description of the data set __(Section 2)__, the steps for data cleaning and wrangling __(Section 3)__, develop a data story which includes exploratory data analysis (EDA) and statistical analysis __(Section 4)__, and outline the next steps of this project __(Chapter 5)__."
   ]
  },
  {
   "cell_type": "markdown",
   "metadata": {},
   "source": [
    "### 1.2\tSignificance"
   ]
  },
  {
   "cell_type": "markdown",
   "metadata": {},
   "source": [
    "Addressing what has inherently become an over-prescription epidemic [6], is no small task. Nonetheless, developing a pattern recognition classification system that helps to identify physicians that are likely over-prescribing medications can go a long way in mitigating the problem. Such a system can help:\n",
    "\n",
    "* Patients make better decisions when selecting health care providers\n",
    "* Insurance companies to flag over-prescribers and withhold payment for over-prescribed drugs, which ultimately protects patients and saves money  \n",
    "* Pharmaceutical companies and regulatory agencies to be more proactive in monitoring drug sales and minimizing abuse"
   ]
  },
  {
   "cell_type": "markdown",
   "metadata": {},
   "source": [
    "### 1.3\tReferences"
   ]
  },
  {
   "cell_type": "markdown",
   "metadata": {},
   "source": [
    "[1] https://www.wsj.com/articles/new-york-city-sues-companies-over-opioid-abuse-1516734990 <br>\n",
    "[2]https://www.drugabuse.gov/related-topics/trends-statistics/overdose-death-rates <br>\n",
    "[3]https://www.cdc.gov/drugoverdose/data/statedeaths.html <br>\n",
    "[4]https://www.nytimes.com/2013/12/15/health/the-selling-of-attention-deficit-disorder.html?pagewanted=all&_r=2 <br>\n",
    "[5] https://www.cbsnews.com/news/doctors-still-overprescribing-drugs-antibiotics/ <br>\n",
    "[6] https://www.statnews.com/2019/04/02/overprescribed-americas-other-drug-problem/ <br>"
   ]
  },
  {
   "cell_type": "markdown",
   "metadata": {},
   "source": [
    "## 2. Dataset"
   ]
  },
  {
   "cell_type": "markdown",
   "metadata": {},
   "source": [
    "The dataset used in this project is a sample construct based on real data from a domain that requires paid access. The data contains prescription information for patient monthly volumes and payments received for Adderall, antibiotics and opioid prescriptions by 3010 anonymized physicians from Jan-2015 to Oct-2017. The link to the dataset is here:\n",
    "https://raw.githubusercontent.com/nwugocc/Capstone-Project-1/master/data/data1.txt"
   ]
  },
  {
   "cell_type": "code",
   "execution_count": 1,
   "metadata": {},
   "outputs": [],
   "source": [
    "# Importing modules\n",
    "import pandas as pd\n",
    "import matplotlib.pyplot as plt\n",
    "import seaborn as sns\n",
    "import numpy as np\n",
    "import scipy.stats as st\n",
    "import statsmodels.api as sm"
   ]
  },
  {
   "cell_type": "code",
   "execution_count": 2,
   "metadata": {},
   "outputs": [
    {
     "data": {
      "text/plain": [
       "(42074, 7)"
      ]
     },
     "execution_count": 2,
     "metadata": {},
     "output_type": "execute_result"
    }
   ],
   "source": [
    "# Importing the dataset\n",
    "filepath = 'https://raw.githubusercontent.com/nwugocc/Capstone-Project-1/master/data/data1.txt'\n",
    "file = 'data/data1.txt'\n",
    "df1 = pd.read_csv(filepath, index_col='yrmo', parse_dates=True).sort_index()\n",
    "df1.index.name = 'Date'\n",
    "df1.shape"
   ]
  },
  {
   "cell_type": "markdown",
   "metadata": {},
   "source": [
    "## 3. Data Cleaning and Wrangling"
   ]
  },
  {
   "cell_type": "markdown",
   "metadata": {},
   "source": [
    "The purpose of the data cleaning and wrangling steps are:\n",
    "1.\tTo ensure that all features are of the correct data type\n",
    "2.\tTo ensure missing data are properly imputed\n",
    "3.\tTo create additional potentially useful features\n",
    "4.\tTo prepare the dataset for exploratory data analysis (EDA) and statistical analysis"
   ]
  },
  {
   "cell_type": "markdown",
   "metadata": {},
   "source": [
    "### 3.1\tData Type Correction"
   ]
  },
  {
   "cell_type": "markdown",
   "metadata": {},
   "source": [
    "During dataset importation, the yrmo column was parsed as a pandas datetime object, renamed as “Date”, and set as the data frame index. "
   ]
  },
  {
   "cell_type": "code",
   "execution_count": 3,
   "metadata": {},
   "outputs": [
    {
     "data": {
      "text/html": [
       "<div>\n",
       "<style scoped>\n",
       "    .dataframe tbody tr th:only-of-type {\n",
       "        vertical-align: middle;\n",
       "    }\n",
       "\n",
       "    .dataframe tbody tr th {\n",
       "        vertical-align: top;\n",
       "    }\n",
       "\n",
       "    .dataframe thead th {\n",
       "        text-align: right;\n",
       "    }\n",
       "</style>\n",
       "<table border=\"1\" class=\"dataframe\">\n",
       "  <thead>\n",
       "    <tr style=\"text-align: right;\">\n",
       "      <th></th>\n",
       "      <th>physicianid</th>\n",
       "      <th>adderallpatients</th>\n",
       "      <th>adderallpayments</th>\n",
       "      <th>antibiopatients</th>\n",
       "      <th>antibiopayments</th>\n",
       "      <th>opioidpatients</th>\n",
       "      <th>opioidpayments</th>\n",
       "    </tr>\n",
       "    <tr>\n",
       "      <th>Date</th>\n",
       "      <th></th>\n",
       "      <th></th>\n",
       "      <th></th>\n",
       "      <th></th>\n",
       "      <th></th>\n",
       "      <th></th>\n",
       "      <th></th>\n",
       "    </tr>\n",
       "  </thead>\n",
       "  <tbody>\n",
       "    <tr>\n",
       "      <th>2015-01-01</th>\n",
       "      <td>6vFQfkVIyHglLHjv</td>\n",
       "      <td>NaN</td>\n",
       "      <td>NaN</td>\n",
       "      <td>4.0</td>\n",
       "      <td>2439.0</td>\n",
       "      <td>2.0</td>\n",
       "      <td>2.0</td>\n",
       "    </tr>\n",
       "    <tr>\n",
       "      <th>2015-01-01</th>\n",
       "      <td>KtIQV9FihhozcS4O</td>\n",
       "      <td>NaN</td>\n",
       "      <td>NaN</td>\n",
       "      <td>NaN</td>\n",
       "      <td>NaN</td>\n",
       "      <td>NaN</td>\n",
       "      <td>NaN</td>\n",
       "    </tr>\n",
       "    <tr>\n",
       "      <th>2015-01-01</th>\n",
       "      <td>nh9P8B7ik2qYlruB</td>\n",
       "      <td>6.0</td>\n",
       "      <td>791.0</td>\n",
       "      <td>9.0</td>\n",
       "      <td>5760.0</td>\n",
       "      <td>3.0</td>\n",
       "      <td>174.0</td>\n",
       "    </tr>\n",
       "    <tr>\n",
       "      <th>2015-01-01</th>\n",
       "      <td>1fZbRx3Qm2h2rmPP</td>\n",
       "      <td>NaN</td>\n",
       "      <td>NaN</td>\n",
       "      <td>1.0</td>\n",
       "      <td>97.0</td>\n",
       "      <td>NaN</td>\n",
       "      <td>NaN</td>\n",
       "    </tr>\n",
       "    <tr>\n",
       "      <th>2015-01-01</th>\n",
       "      <td>UY8bW4koFtgJI8J7</td>\n",
       "      <td>10.0</td>\n",
       "      <td>16299.0</td>\n",
       "      <td>NaN</td>\n",
       "      <td>NaN</td>\n",
       "      <td>NaN</td>\n",
       "      <td>NaN</td>\n",
       "    </tr>\n",
       "  </tbody>\n",
       "</table>\n",
       "</div>"
      ],
      "text/plain": [
       "                 physicianid  adderallpatients  adderallpayments  \\\n",
       "Date                                                               \n",
       "2015-01-01  6vFQfkVIyHglLHjv               NaN               NaN   \n",
       "2015-01-01  KtIQV9FihhozcS4O               NaN               NaN   \n",
       "2015-01-01  nh9P8B7ik2qYlruB               6.0             791.0   \n",
       "2015-01-01  1fZbRx3Qm2h2rmPP               NaN               NaN   \n",
       "2015-01-01  UY8bW4koFtgJI8J7              10.0           16299.0   \n",
       "\n",
       "            antibiopatients  antibiopayments  opioidpatients  opioidpayments  \n",
       "Date                                                                          \n",
       "2015-01-01              4.0           2439.0             2.0             2.0  \n",
       "2015-01-01              NaN              NaN             NaN             NaN  \n",
       "2015-01-01              9.0           5760.0             3.0           174.0  \n",
       "2015-01-01              1.0             97.0             NaN             NaN  \n",
       "2015-01-01              NaN              NaN             NaN             NaN  "
      ]
     },
     "execution_count": 3,
     "metadata": {},
     "output_type": "execute_result"
    }
   ],
   "source": [
    "df1.columns = [i.lower() for i in df1.columns]\n",
    "df1.head()"
   ]
  },
  {
   "cell_type": "markdown",
   "metadata": {},
   "source": [
    "### 3.2\tMissing Values Imputation"
   ]
  },
  {
   "cell_type": "markdown",
   "metadata": {},
   "source": [
    "Since not all physicians prescribed all three drugs every month, it was expected that there would be null entries for patient volume and payment for the months that a given drug was not prescribed by a physician. Nonetheless, 3 months were identified for antibiotics that had patient entries without corresponding payment entries. These rows were found to be associated with the same physician id, “GLwAKSb708GXX52I”. \n",
    "\n",
    "A sliced portion of the dataset with only the prescription history of said physician showed revealed 11 rows of data with antibiotic monthly patient volumes of 1 or 2 for the months without missing payments but antibiotic patient volumes of 57, 72 and 86 for the months with missing payment entries. The significant difference between the patient volumes for the missing payment entries and the none missing payments entries suggests that these rows are missing at random and will need to be imputed rather than deleted. \n",
    "\n",
    "Based on the limited antibiotic entries for this physician, the suggested imputation method for the missing payment values was to calculate the average payment per patient for antibiotics from the entire dataset and use that value to multiply the number of antibiotic patients.    "
   ]
  },
  {
   "cell_type": "code",
   "execution_count": 4,
   "metadata": {},
   "outputs": [
    {
     "name": "stdout",
     "output_type": "stream",
     "text": [
      "<class 'pandas.core.frame.DataFrame'>\n",
      "DatetimeIndex: 42074 entries, 2015-01-01 to 2017-10-01\n",
      "Data columns (total 7 columns):\n",
      "physicianid         42074 non-null object\n",
      "adderallpatients    23889 non-null float64\n",
      "adderallpayments    23889 non-null float64\n",
      "antibiopatients     39829 non-null float64\n",
      "antibiopayments     39826 non-null float64\n",
      "opioidpatients      12588 non-null float64\n",
      "opioidpayments      12588 non-null float64\n",
      "dtypes: float64(6), object(1)\n",
      "memory usage: 2.6+ MB\n"
     ]
    }
   ],
   "source": [
    "df1.info()  "
   ]
  },
  {
   "cell_type": "code",
   "execution_count": 5,
   "metadata": {},
   "outputs": [
    {
     "data": {
      "text/html": [
       "<div>\n",
       "<style scoped>\n",
       "    .dataframe tbody tr th:only-of-type {\n",
       "        vertical-align: middle;\n",
       "    }\n",
       "\n",
       "    .dataframe tbody tr th {\n",
       "        vertical-align: top;\n",
       "    }\n",
       "\n",
       "    .dataframe thead th {\n",
       "        text-align: right;\n",
       "    }\n",
       "</style>\n",
       "<table border=\"1\" class=\"dataframe\">\n",
       "  <thead>\n",
       "    <tr style=\"text-align: right;\">\n",
       "      <th></th>\n",
       "      <th>physicianid</th>\n",
       "      <th>adderallpatients</th>\n",
       "      <th>adderallpayments</th>\n",
       "      <th>antibiopatients</th>\n",
       "      <th>antibiopayments</th>\n",
       "      <th>opioidpatients</th>\n",
       "      <th>opioidpayments</th>\n",
       "    </tr>\n",
       "    <tr>\n",
       "      <th>Date</th>\n",
       "      <th></th>\n",
       "      <th></th>\n",
       "      <th></th>\n",
       "      <th></th>\n",
       "      <th></th>\n",
       "      <th></th>\n",
       "      <th></th>\n",
       "    </tr>\n",
       "  </thead>\n",
       "  <tbody>\n",
       "    <tr>\n",
       "      <th>2015-02-01</th>\n",
       "      <td>GLwAKSb708GXX52I</td>\n",
       "      <td>NaN</td>\n",
       "      <td>NaN</td>\n",
       "      <td>57.0</td>\n",
       "      <td>NaN</td>\n",
       "      <td>NaN</td>\n",
       "      <td>NaN</td>\n",
       "    </tr>\n",
       "    <tr>\n",
       "      <th>2015-03-01</th>\n",
       "      <td>GLwAKSb708GXX52I</td>\n",
       "      <td>NaN</td>\n",
       "      <td>NaN</td>\n",
       "      <td>72.0</td>\n",
       "      <td>NaN</td>\n",
       "      <td>NaN</td>\n",
       "      <td>NaN</td>\n",
       "    </tr>\n",
       "    <tr>\n",
       "      <th>2015-04-01</th>\n",
       "      <td>GLwAKSb708GXX52I</td>\n",
       "      <td>NaN</td>\n",
       "      <td>NaN</td>\n",
       "      <td>86.0</td>\n",
       "      <td>NaN</td>\n",
       "      <td>NaN</td>\n",
       "      <td>NaN</td>\n",
       "    </tr>\n",
       "  </tbody>\n",
       "</table>\n",
       "</div>"
      ],
      "text/plain": [
       "                 physicianid  adderallpatients  adderallpayments  \\\n",
       "Date                                                               \n",
       "2015-02-01  GLwAKSb708GXX52I               NaN               NaN   \n",
       "2015-03-01  GLwAKSb708GXX52I               NaN               NaN   \n",
       "2015-04-01  GLwAKSb708GXX52I               NaN               NaN   \n",
       "\n",
       "            antibiopatients  antibiopayments  opioidpatients  opioidpayments  \n",
       "Date                                                                          \n",
       "2015-02-01             57.0              NaN             NaN             NaN  \n",
       "2015-03-01             72.0              NaN             NaN             NaN  \n",
       "2015-04-01             86.0              NaN             NaN             NaN  "
      ]
     },
     "execution_count": 5,
     "metadata": {},
     "output_type": "execute_result"
    }
   ],
   "source": [
    "# Locating the 3 null 'antibiopayments' entries\n",
    "df1.loc[(df1.antibiopayments.isnull() & df1.antibiopatients.notnull()), :]"
   ]
  },
  {
   "cell_type": "code",
   "execution_count": 6,
   "metadata": {},
   "outputs": [
    {
     "data": {
      "text/html": [
       "<div>\n",
       "<style scoped>\n",
       "    .dataframe tbody tr th:only-of-type {\n",
       "        vertical-align: middle;\n",
       "    }\n",
       "\n",
       "    .dataframe tbody tr th {\n",
       "        vertical-align: top;\n",
       "    }\n",
       "\n",
       "    .dataframe thead th {\n",
       "        text-align: right;\n",
       "    }\n",
       "</style>\n",
       "<table border=\"1\" class=\"dataframe\">\n",
       "  <thead>\n",
       "    <tr style=\"text-align: right;\">\n",
       "      <th></th>\n",
       "      <th>physicianid</th>\n",
       "      <th>adderallpatients</th>\n",
       "      <th>adderallpayments</th>\n",
       "      <th>antibiopatients</th>\n",
       "      <th>antibiopayments</th>\n",
       "      <th>opioidpatients</th>\n",
       "      <th>opioidpayments</th>\n",
       "    </tr>\n",
       "    <tr>\n",
       "      <th>Date</th>\n",
       "      <th></th>\n",
       "      <th></th>\n",
       "      <th></th>\n",
       "      <th></th>\n",
       "      <th></th>\n",
       "      <th></th>\n",
       "      <th></th>\n",
       "    </tr>\n",
       "  </thead>\n",
       "  <tbody>\n",
       "    <tr>\n",
       "      <th>2015-02-01</th>\n",
       "      <td>GLwAKSb708GXX52I</td>\n",
       "      <td>NaN</td>\n",
       "      <td>NaN</td>\n",
       "      <td>57.0</td>\n",
       "      <td>NaN</td>\n",
       "      <td>NaN</td>\n",
       "      <td>NaN</td>\n",
       "    </tr>\n",
       "    <tr>\n",
       "      <th>2015-03-01</th>\n",
       "      <td>GLwAKSb708GXX52I</td>\n",
       "      <td>NaN</td>\n",
       "      <td>NaN</td>\n",
       "      <td>72.0</td>\n",
       "      <td>NaN</td>\n",
       "      <td>NaN</td>\n",
       "      <td>NaN</td>\n",
       "    </tr>\n",
       "    <tr>\n",
       "      <th>2015-04-01</th>\n",
       "      <td>GLwAKSb708GXX52I</td>\n",
       "      <td>NaN</td>\n",
       "      <td>NaN</td>\n",
       "      <td>86.0</td>\n",
       "      <td>NaN</td>\n",
       "      <td>NaN</td>\n",
       "      <td>NaN</td>\n",
       "    </tr>\n",
       "    <tr>\n",
       "      <th>2015-05-01</th>\n",
       "      <td>GLwAKSb708GXX52I</td>\n",
       "      <td>57.0</td>\n",
       "      <td>423705.0</td>\n",
       "      <td>1.0</td>\n",
       "      <td>0.0</td>\n",
       "      <td>57.0</td>\n",
       "      <td>1934522.0</td>\n",
       "    </tr>\n",
       "    <tr>\n",
       "      <th>2015-06-01</th>\n",
       "      <td>GLwAKSb708GXX52I</td>\n",
       "      <td>59.0</td>\n",
       "      <td>267835.0</td>\n",
       "      <td>NaN</td>\n",
       "      <td>NaN</td>\n",
       "      <td>NaN</td>\n",
       "      <td>NaN</td>\n",
       "    </tr>\n",
       "    <tr>\n",
       "      <th>2015-07-01</th>\n",
       "      <td>GLwAKSb708GXX52I</td>\n",
       "      <td>61.0</td>\n",
       "      <td>716783.0</td>\n",
       "      <td>NaN</td>\n",
       "      <td>NaN</td>\n",
       "      <td>NaN</td>\n",
       "      <td>NaN</td>\n",
       "    </tr>\n",
       "    <tr>\n",
       "      <th>2015-08-01</th>\n",
       "      <td>GLwAKSb708GXX52I</td>\n",
       "      <td>78.0</td>\n",
       "      <td>681139.0</td>\n",
       "      <td>2.0</td>\n",
       "      <td>2940.0</td>\n",
       "      <td>77.0</td>\n",
       "      <td>2756712.0</td>\n",
       "    </tr>\n",
       "    <tr>\n",
       "      <th>2015-09-01</th>\n",
       "      <td>GLwAKSb708GXX52I</td>\n",
       "      <td>85.0</td>\n",
       "      <td>572423.0</td>\n",
       "      <td>NaN</td>\n",
       "      <td>NaN</td>\n",
       "      <td>NaN</td>\n",
       "      <td>NaN</td>\n",
       "    </tr>\n",
       "    <tr>\n",
       "      <th>2015-10-01</th>\n",
       "      <td>GLwAKSb708GXX52I</td>\n",
       "      <td>97.0</td>\n",
       "      <td>770021.0</td>\n",
       "      <td>NaN</td>\n",
       "      <td>NaN</td>\n",
       "      <td>NaN</td>\n",
       "      <td>NaN</td>\n",
       "    </tr>\n",
       "    <tr>\n",
       "      <th>2015-11-01</th>\n",
       "      <td>GLwAKSb708GXX52I</td>\n",
       "      <td>82.0</td>\n",
       "      <td>645231.0</td>\n",
       "      <td>1.0</td>\n",
       "      <td>2197.0</td>\n",
       "      <td>82.0</td>\n",
       "      <td>2111098.0</td>\n",
       "    </tr>\n",
       "    <tr>\n",
       "      <th>2015-12-01</th>\n",
       "      <td>GLwAKSb708GXX52I</td>\n",
       "      <td>40.0</td>\n",
       "      <td>386905.0</td>\n",
       "      <td>1.0</td>\n",
       "      <td>0.0</td>\n",
       "      <td>44.0</td>\n",
       "      <td>1824699.0</td>\n",
       "    </tr>\n",
       "  </tbody>\n",
       "</table>\n",
       "</div>"
      ],
      "text/plain": [
       "                 physicianid  adderallpatients  adderallpayments  \\\n",
       "Date                                                               \n",
       "2015-02-01  GLwAKSb708GXX52I               NaN               NaN   \n",
       "2015-03-01  GLwAKSb708GXX52I               NaN               NaN   \n",
       "2015-04-01  GLwAKSb708GXX52I               NaN               NaN   \n",
       "2015-05-01  GLwAKSb708GXX52I              57.0          423705.0   \n",
       "2015-06-01  GLwAKSb708GXX52I              59.0          267835.0   \n",
       "2015-07-01  GLwAKSb708GXX52I              61.0          716783.0   \n",
       "2015-08-01  GLwAKSb708GXX52I              78.0          681139.0   \n",
       "2015-09-01  GLwAKSb708GXX52I              85.0          572423.0   \n",
       "2015-10-01  GLwAKSb708GXX52I              97.0          770021.0   \n",
       "2015-11-01  GLwAKSb708GXX52I              82.0          645231.0   \n",
       "2015-12-01  GLwAKSb708GXX52I              40.0          386905.0   \n",
       "\n",
       "            antibiopatients  antibiopayments  opioidpatients  opioidpayments  \n",
       "Date                                                                          \n",
       "2015-02-01             57.0              NaN             NaN             NaN  \n",
       "2015-03-01             72.0              NaN             NaN             NaN  \n",
       "2015-04-01             86.0              NaN             NaN             NaN  \n",
       "2015-05-01              1.0              0.0            57.0       1934522.0  \n",
       "2015-06-01              NaN              NaN             NaN             NaN  \n",
       "2015-07-01              NaN              NaN             NaN             NaN  \n",
       "2015-08-01              2.0           2940.0            77.0       2756712.0  \n",
       "2015-09-01              NaN              NaN             NaN             NaN  \n",
       "2015-10-01              NaN              NaN             NaN             NaN  \n",
       "2015-11-01              1.0           2197.0            82.0       2111098.0  \n",
       "2015-12-01              1.0              0.0            44.0       1824699.0  "
      ]
     },
     "execution_count": 6,
     "metadata": {},
     "output_type": "execute_result"
    }
   ],
   "source": [
    "# Slicing out the prescription history of physicianid 'GLwAKSb708GXX52I'\n",
    "df1.loc[df1.physicianid == 'GLwAKSb708GXX52I']"
   ]
  },
  {
   "cell_type": "code",
   "execution_count": 7,
   "metadata": {},
   "outputs": [],
   "source": [
    "# making a copy of df1: df2\n",
    "df2 = df1.copy()"
   ]
  },
  {
   "cell_type": "code",
   "execution_count": 8,
   "metadata": {},
   "outputs": [],
   "source": [
    "# Computing average payment per patient for antibiotics: antibio_payrate\n",
    "antibio_payrate = np.mean(df1['antibiopayments'] / df1['antibiopatients'])\n",
    "\n",
    "# Imputing missing antibiopayments values\n",
    "df2['antibiopayments']= df2.apply(\n",
    "    lambda row: antibio_payrate * row.antibiopatients if np.isnan(row.antibiopayments) else row.antibiopayments, axis=1)"
   ]
  },
  {
   "cell_type": "code",
   "execution_count": 9,
   "metadata": {},
   "outputs": [
    {
     "name": "stdout",
     "output_type": "stream",
     "text": [
      "<class 'pandas.core.frame.DataFrame'>\n",
      "DatetimeIndex: 42074 entries, 2015-01-01 to 2017-10-01\n",
      "Data columns (total 7 columns):\n",
      "physicianid         42074 non-null object\n",
      "adderallpatients    23889 non-null float64\n",
      "adderallpayments    23889 non-null float64\n",
      "antibiopatients     39829 non-null float64\n",
      "antibiopayments     39829 non-null float64\n",
      "opioidpatients      12588 non-null float64\n",
      "opioidpayments      12588 non-null float64\n",
      "dtypes: float64(6), object(1)\n",
      "memory usage: 2.6+ MB\n"
     ]
    }
   ],
   "source": [
    "# Confirming imputation of missing antibiopayments values\n",
    "df2.info()"
   ]
  },
  {
   "cell_type": "markdown",
   "metadata": {},
   "source": [
    "### 3.3\tIncorrect Data Entry Correction"
   ]
  },
  {
   "cell_type": "markdown",
   "metadata": {},
   "source": [
    "An investigation of the minimum and maximum values in each column revealed a “0” minimum entry for opioid patients associated with physician id “wwyJwO6CL1dqIooh”. This entry was accompanied by an opioid payment entry of `$`63451. A sliced portion of the dataset with only the prescription history of said physician showed that the physician only prescribed opioids with monthly patient volumes ranging from 2 to 145. The data also suggested a significant correlation between the monthly patient volumes and payments for the said physician. This was confirmed by a Pearson correlation coefficient of 0.85 between monthly payments and patient volumes."
   ]
  },
  {
   "cell_type": "code",
   "execution_count": 10,
   "metadata": {},
   "outputs": [
    {
     "data": {
      "text/html": [
       "<div>\n",
       "<style scoped>\n",
       "    .dataframe tbody tr th:only-of-type {\n",
       "        vertical-align: middle;\n",
       "    }\n",
       "\n",
       "    .dataframe tbody tr th {\n",
       "        vertical-align: top;\n",
       "    }\n",
       "\n",
       "    .dataframe thead th {\n",
       "        text-align: right;\n",
       "    }\n",
       "</style>\n",
       "<table border=\"1\" class=\"dataframe\">\n",
       "  <thead>\n",
       "    <tr style=\"text-align: right;\">\n",
       "      <th></th>\n",
       "      <th>adderallpatients</th>\n",
       "      <th>adderallpayments</th>\n",
       "      <th>antibiopatients</th>\n",
       "      <th>antibiopayments</th>\n",
       "      <th>opioidpatients</th>\n",
       "      <th>opioidpayments</th>\n",
       "    </tr>\n",
       "  </thead>\n",
       "  <tbody>\n",
       "    <tr>\n",
       "      <th>count</th>\n",
       "      <td>23889.000000</td>\n",
       "      <td>2.388900e+04</td>\n",
       "      <td>39829.000000</td>\n",
       "      <td>3.982900e+04</td>\n",
       "      <td>12588.000000</td>\n",
       "      <td>1.258800e+04</td>\n",
       "    </tr>\n",
       "    <tr>\n",
       "      <th>mean</th>\n",
       "      <td>4.921972</td>\n",
       "      <td>1.828657e+03</td>\n",
       "      <td>6.378217</td>\n",
       "      <td>2.168274e+04</td>\n",
       "      <td>3.095249</td>\n",
       "      <td>2.980236e+03</td>\n",
       "    </tr>\n",
       "    <tr>\n",
       "      <th>std</th>\n",
       "      <td>9.248193</td>\n",
       "      <td>2.293074e+04</td>\n",
       "      <td>12.741038</td>\n",
       "      <td>8.380979e+04</td>\n",
       "      <td>6.943019</td>\n",
       "      <td>6.421729e+04</td>\n",
       "    </tr>\n",
       "    <tr>\n",
       "      <th>min</th>\n",
       "      <td>1.000000</td>\n",
       "      <td>-1.177100e+04</td>\n",
       "      <td>1.000000</td>\n",
       "      <td>-9.400000e+03</td>\n",
       "      <td>0.000000</td>\n",
       "      <td>-1.000000e+01</td>\n",
       "    </tr>\n",
       "    <tr>\n",
       "      <th>25%</th>\n",
       "      <td>1.000000</td>\n",
       "      <td>4.600000e+01</td>\n",
       "      <td>2.000000</td>\n",
       "      <td>3.030000e+02</td>\n",
       "      <td>1.000000</td>\n",
       "      <td>1.500000e+01</td>\n",
       "    </tr>\n",
       "    <tr>\n",
       "      <th>50%</th>\n",
       "      <td>3.000000</td>\n",
       "      <td>2.450000e+02</td>\n",
       "      <td>3.000000</td>\n",
       "      <td>2.908000e+03</td>\n",
       "      <td>2.000000</td>\n",
       "      <td>1.220000e+02</td>\n",
       "    </tr>\n",
       "    <tr>\n",
       "      <th>75%</th>\n",
       "      <td>5.000000</td>\n",
       "      <td>8.580000e+02</td>\n",
       "      <td>6.000000</td>\n",
       "      <td>1.430600e+04</td>\n",
       "      <td>3.000000</td>\n",
       "      <td>4.410000e+02</td>\n",
       "    </tr>\n",
       "    <tr>\n",
       "      <th>max</th>\n",
       "      <td>341.000000</td>\n",
       "      <td>1.732264e+06</td>\n",
       "      <td>285.000000</td>\n",
       "      <td>2.423404e+06</td>\n",
       "      <td>318.000000</td>\n",
       "      <td>2.823021e+06</td>\n",
       "    </tr>\n",
       "  </tbody>\n",
       "</table>\n",
       "</div>"
      ],
      "text/plain": [
       "       adderallpatients  adderallpayments  antibiopatients  antibiopayments  \\\n",
       "count      23889.000000      2.388900e+04     39829.000000     3.982900e+04   \n",
       "mean           4.921972      1.828657e+03         6.378217     2.168274e+04   \n",
       "std            9.248193      2.293074e+04        12.741038     8.380979e+04   \n",
       "min            1.000000     -1.177100e+04         1.000000    -9.400000e+03   \n",
       "25%            1.000000      4.600000e+01         2.000000     3.030000e+02   \n",
       "50%            3.000000      2.450000e+02         3.000000     2.908000e+03   \n",
       "75%            5.000000      8.580000e+02         6.000000     1.430600e+04   \n",
       "max          341.000000      1.732264e+06       285.000000     2.423404e+06   \n",
       "\n",
       "       opioidpatients  opioidpayments  \n",
       "count    12588.000000    1.258800e+04  \n",
       "mean         3.095249    2.980236e+03  \n",
       "std          6.943019    6.421729e+04  \n",
       "min          0.000000   -1.000000e+01  \n",
       "25%          1.000000    1.500000e+01  \n",
       "50%          2.000000    1.220000e+02  \n",
       "75%          3.000000    4.410000e+02  \n",
       "max        318.000000    2.823021e+06  "
      ]
     },
     "execution_count": 10,
     "metadata": {},
     "output_type": "execute_result"
    }
   ],
   "source": [
    "# Initial descriptive statistics analysis to examine means, minimum and maximum values\n",
    "df2.describe() "
   ]
  },
  {
   "cell_type": "code",
   "execution_count": 11,
   "metadata": {},
   "outputs": [
    {
     "data": {
      "text/html": [
       "<div>\n",
       "<style scoped>\n",
       "    .dataframe tbody tr th:only-of-type {\n",
       "        vertical-align: middle;\n",
       "    }\n",
       "\n",
       "    .dataframe tbody tr th {\n",
       "        vertical-align: top;\n",
       "    }\n",
       "\n",
       "    .dataframe thead th {\n",
       "        text-align: right;\n",
       "    }\n",
       "</style>\n",
       "<table border=\"1\" class=\"dataframe\">\n",
       "  <thead>\n",
       "    <tr style=\"text-align: right;\">\n",
       "      <th></th>\n",
       "      <th>physicianid</th>\n",
       "      <th>adderallpatients</th>\n",
       "      <th>adderallpayments</th>\n",
       "      <th>antibiopatients</th>\n",
       "      <th>antibiopayments</th>\n",
       "      <th>opioidpatients</th>\n",
       "      <th>opioidpayments</th>\n",
       "    </tr>\n",
       "    <tr>\n",
       "      <th>Date</th>\n",
       "      <th></th>\n",
       "      <th></th>\n",
       "      <th></th>\n",
       "      <th></th>\n",
       "      <th></th>\n",
       "      <th></th>\n",
       "      <th></th>\n",
       "    </tr>\n",
       "  </thead>\n",
       "  <tbody>\n",
       "    <tr>\n",
       "      <th>2015-02-01</th>\n",
       "      <td>wwyJwO6CL1dqIooh</td>\n",
       "      <td>NaN</td>\n",
       "      <td>NaN</td>\n",
       "      <td>NaN</td>\n",
       "      <td>NaN</td>\n",
       "      <td>0.0</td>\n",
       "      <td>63451.0</td>\n",
       "    </tr>\n",
       "  </tbody>\n",
       "</table>\n",
       "</div>"
      ],
      "text/plain": [
       "                 physicianid  adderallpatients  adderallpayments  \\\n",
       "Date                                                               \n",
       "2015-02-01  wwyJwO6CL1dqIooh               NaN               NaN   \n",
       "\n",
       "            antibiopatients  antibiopayments  opioidpatients  opioidpayments  \n",
       "Date                                                                          \n",
       "2015-02-01              NaN              NaN             0.0         63451.0  "
      ]
     },
     "execution_count": 11,
     "metadata": {},
     "output_type": "execute_result"
    }
   ],
   "source": [
    "# Locating the \"0\" minmum entry for opioidpatients\n",
    "df2[df2.opioidpatients == 0]"
   ]
  },
  {
   "cell_type": "code",
   "execution_count": 12,
   "metadata": {},
   "outputs": [
    {
     "data": {
      "text/html": [
       "<div>\n",
       "<style scoped>\n",
       "    .dataframe tbody tr th:only-of-type {\n",
       "        vertical-align: middle;\n",
       "    }\n",
       "\n",
       "    .dataframe tbody tr th {\n",
       "        vertical-align: top;\n",
       "    }\n",
       "\n",
       "    .dataframe thead th {\n",
       "        text-align: right;\n",
       "    }\n",
       "</style>\n",
       "<table border=\"1\" class=\"dataframe\">\n",
       "  <thead>\n",
       "    <tr style=\"text-align: right;\">\n",
       "      <th></th>\n",
       "      <th>physicianid</th>\n",
       "      <th>adderallpatients</th>\n",
       "      <th>adderallpayments</th>\n",
       "      <th>antibiopatients</th>\n",
       "      <th>antibiopayments</th>\n",
       "      <th>opioidpatients</th>\n",
       "      <th>opioidpayments</th>\n",
       "    </tr>\n",
       "    <tr>\n",
       "      <th>Date</th>\n",
       "      <th></th>\n",
       "      <th></th>\n",
       "      <th></th>\n",
       "      <th></th>\n",
       "      <th></th>\n",
       "      <th></th>\n",
       "      <th></th>\n",
       "    </tr>\n",
       "  </thead>\n",
       "  <tbody>\n",
       "    <tr>\n",
       "      <th>2015-01-01</th>\n",
       "      <td>wwyJwO6CL1dqIooh</td>\n",
       "      <td>NaN</td>\n",
       "      <td>NaN</td>\n",
       "      <td>NaN</td>\n",
       "      <td>NaN</td>\n",
       "      <td>13.0</td>\n",
       "      <td>15443.0</td>\n",
       "    </tr>\n",
       "    <tr>\n",
       "      <th>2015-02-01</th>\n",
       "      <td>wwyJwO6CL1dqIooh</td>\n",
       "      <td>NaN</td>\n",
       "      <td>NaN</td>\n",
       "      <td>NaN</td>\n",
       "      <td>NaN</td>\n",
       "      <td>0.0</td>\n",
       "      <td>63451.0</td>\n",
       "    </tr>\n",
       "    <tr>\n",
       "      <th>2015-03-01</th>\n",
       "      <td>wwyJwO6CL1dqIooh</td>\n",
       "      <td>NaN</td>\n",
       "      <td>NaN</td>\n",
       "      <td>NaN</td>\n",
       "      <td>NaN</td>\n",
       "      <td>35.0</td>\n",
       "      <td>16468.0</td>\n",
       "    </tr>\n",
       "    <tr>\n",
       "      <th>2015-04-01</th>\n",
       "      <td>wwyJwO6CL1dqIooh</td>\n",
       "      <td>NaN</td>\n",
       "      <td>NaN</td>\n",
       "      <td>NaN</td>\n",
       "      <td>NaN</td>\n",
       "      <td>106.0</td>\n",
       "      <td>283647.0</td>\n",
       "    </tr>\n",
       "    <tr>\n",
       "      <th>2015-05-01</th>\n",
       "      <td>wwyJwO6CL1dqIooh</td>\n",
       "      <td>NaN</td>\n",
       "      <td>NaN</td>\n",
       "      <td>NaN</td>\n",
       "      <td>NaN</td>\n",
       "      <td>78.0</td>\n",
       "      <td>208911.0</td>\n",
       "    </tr>\n",
       "    <tr>\n",
       "      <th>2015-06-01</th>\n",
       "      <td>wwyJwO6CL1dqIooh</td>\n",
       "      <td>NaN</td>\n",
       "      <td>NaN</td>\n",
       "      <td>NaN</td>\n",
       "      <td>NaN</td>\n",
       "      <td>85.0</td>\n",
       "      <td>348662.0</td>\n",
       "    </tr>\n",
       "    <tr>\n",
       "      <th>2015-07-01</th>\n",
       "      <td>wwyJwO6CL1dqIooh</td>\n",
       "      <td>NaN</td>\n",
       "      <td>NaN</td>\n",
       "      <td>NaN</td>\n",
       "      <td>NaN</td>\n",
       "      <td>40.0</td>\n",
       "      <td>56072.0</td>\n",
       "    </tr>\n",
       "    <tr>\n",
       "      <th>2015-08-01</th>\n",
       "      <td>wwyJwO6CL1dqIooh</td>\n",
       "      <td>NaN</td>\n",
       "      <td>NaN</td>\n",
       "      <td>NaN</td>\n",
       "      <td>NaN</td>\n",
       "      <td>50.0</td>\n",
       "      <td>204671.0</td>\n",
       "    </tr>\n",
       "    <tr>\n",
       "      <th>2015-09-01</th>\n",
       "      <td>wwyJwO6CL1dqIooh</td>\n",
       "      <td>NaN</td>\n",
       "      <td>NaN</td>\n",
       "      <td>NaN</td>\n",
       "      <td>NaN</td>\n",
       "      <td>110.0</td>\n",
       "      <td>763563.0</td>\n",
       "    </tr>\n",
       "    <tr>\n",
       "      <th>2015-10-01</th>\n",
       "      <td>wwyJwO6CL1dqIooh</td>\n",
       "      <td>NaN</td>\n",
       "      <td>NaN</td>\n",
       "      <td>NaN</td>\n",
       "      <td>NaN</td>\n",
       "      <td>102.0</td>\n",
       "      <td>682456.0</td>\n",
       "    </tr>\n",
       "    <tr>\n",
       "      <th>2015-11-01</th>\n",
       "      <td>wwyJwO6CL1dqIooh</td>\n",
       "      <td>NaN</td>\n",
       "      <td>NaN</td>\n",
       "      <td>NaN</td>\n",
       "      <td>NaN</td>\n",
       "      <td>145.0</td>\n",
       "      <td>742802.0</td>\n",
       "    </tr>\n",
       "    <tr>\n",
       "      <th>2015-12-01</th>\n",
       "      <td>wwyJwO6CL1dqIooh</td>\n",
       "      <td>NaN</td>\n",
       "      <td>NaN</td>\n",
       "      <td>NaN</td>\n",
       "      <td>NaN</td>\n",
       "      <td>70.0</td>\n",
       "      <td>15224.0</td>\n",
       "    </tr>\n",
       "    <tr>\n",
       "      <th>2016-01-01</th>\n",
       "      <td>wwyJwO6CL1dqIooh</td>\n",
       "      <td>NaN</td>\n",
       "      <td>NaN</td>\n",
       "      <td>NaN</td>\n",
       "      <td>NaN</td>\n",
       "      <td>24.0</td>\n",
       "      <td>7500.0</td>\n",
       "    </tr>\n",
       "    <tr>\n",
       "      <th>2016-02-01</th>\n",
       "      <td>wwyJwO6CL1dqIooh</td>\n",
       "      <td>NaN</td>\n",
       "      <td>NaN</td>\n",
       "      <td>NaN</td>\n",
       "      <td>NaN</td>\n",
       "      <td>2.0</td>\n",
       "      <td>456.0</td>\n",
       "    </tr>\n",
       "  </tbody>\n",
       "</table>\n",
       "</div>"
      ],
      "text/plain": [
       "                 physicianid  adderallpatients  adderallpayments  \\\n",
       "Date                                                               \n",
       "2015-01-01  wwyJwO6CL1dqIooh               NaN               NaN   \n",
       "2015-02-01  wwyJwO6CL1dqIooh               NaN               NaN   \n",
       "2015-03-01  wwyJwO6CL1dqIooh               NaN               NaN   \n",
       "2015-04-01  wwyJwO6CL1dqIooh               NaN               NaN   \n",
       "2015-05-01  wwyJwO6CL1dqIooh               NaN               NaN   \n",
       "2015-06-01  wwyJwO6CL1dqIooh               NaN               NaN   \n",
       "2015-07-01  wwyJwO6CL1dqIooh               NaN               NaN   \n",
       "2015-08-01  wwyJwO6CL1dqIooh               NaN               NaN   \n",
       "2015-09-01  wwyJwO6CL1dqIooh               NaN               NaN   \n",
       "2015-10-01  wwyJwO6CL1dqIooh               NaN               NaN   \n",
       "2015-11-01  wwyJwO6CL1dqIooh               NaN               NaN   \n",
       "2015-12-01  wwyJwO6CL1dqIooh               NaN               NaN   \n",
       "2016-01-01  wwyJwO6CL1dqIooh               NaN               NaN   \n",
       "2016-02-01  wwyJwO6CL1dqIooh               NaN               NaN   \n",
       "\n",
       "            antibiopatients  antibiopayments  opioidpatients  opioidpayments  \n",
       "Date                                                                          \n",
       "2015-01-01              NaN              NaN            13.0         15443.0  \n",
       "2015-02-01              NaN              NaN             0.0         63451.0  \n",
       "2015-03-01              NaN              NaN            35.0         16468.0  \n",
       "2015-04-01              NaN              NaN           106.0        283647.0  \n",
       "2015-05-01              NaN              NaN            78.0        208911.0  \n",
       "2015-06-01              NaN              NaN            85.0        348662.0  \n",
       "2015-07-01              NaN              NaN            40.0         56072.0  \n",
       "2015-08-01              NaN              NaN            50.0        204671.0  \n",
       "2015-09-01              NaN              NaN           110.0        763563.0  \n",
       "2015-10-01              NaN              NaN           102.0        682456.0  \n",
       "2015-11-01              NaN              NaN           145.0        742802.0  \n",
       "2015-12-01              NaN              NaN            70.0         15224.0  \n",
       "2016-01-01              NaN              NaN            24.0          7500.0  \n",
       "2016-02-01              NaN              NaN             2.0           456.0  "
      ]
     },
     "execution_count": 12,
     "metadata": {},
     "output_type": "execute_result"
    }
   ],
   "source": [
    "# Slicing out the prescription history of physicianid 'wwyJwO6CL1dqIooh'\n",
    "df2[df2['physicianid'] == 'wwyJwO6CL1dqIooh']"
   ]
  },
  {
   "cell_type": "markdown",
   "metadata": {},
   "source": [
    "Since there was a significant payment amount associated with the “0” patient volume entry, the “0” was considered to be an error and linear regression interpolation was the suggested method to use for imputation."
   ]
  },
  {
   "cell_type": "code",
   "execution_count": 13,
   "metadata": {},
   "outputs": [
    {
     "name": "stdout",
     "output_type": "stream",
     "text": [
      "Pearson correlation coefficent = 0.8517051540283693\n"
     ]
    },
    {
     "data": {
      "image/png": "[encoded data removed]",
      "text/plain": [
       "<Figure size 360x360 with 1 Axes>"
      ]
     },
     "metadata": {
      "needs_background": "light"
     },
     "output_type": "display_data"
    }
   ],
   "source": [
    "# Calculating correlation coefficenr of physicianid ''wwyJwO6CL1dqIooh' patient volumes and payments\n",
    "physid_wwy = df2.loc[(df2.physicianid == 'wwyJwO6CL1dqIooh'),['opioidpatients','opioidpayments']]\n",
    "wwy_r = np.corrcoef(physid_wwy.opioidpayments, physid_wwy.opioidpatients)\n",
    "print('Pearson correlation coefficent =',wwy_r[0,1])\n",
    "\n",
    "# Regression plot of patient volumes and payments for physicianid 'wwyJwO6CL1dqIooh' \n",
    "physid_wwy = df2.loc[df2.physicianid == 'wwyJwO6CL1dqIooh'][['opioidpatients','opioidpayments']]\n",
    "phys_ww = physid_wwy.copy()\n",
    "phys_ww['opioidpayments'] = phys_ww['opioidpayments'] / 1000\n",
    "sns.lmplot(x='opioidpayments', y='opioidpatients', data=phys_ww)\n",
    "plt.xlabel('opioidpayments (x1000)');"
   ]
  },
  {
   "cell_type": "code",
   "execution_count": 14,
   "metadata": {},
   "outputs": [
    {
     "data": {
      "text/plain": [
       "37.373342633106645"
      ]
     },
     "execution_count": 14,
     "metadata": {},
     "output_type": "execute_result"
    }
   ],
   "source": [
    "# Extracting the slope and intercept parameters\n",
    "slope, intercept = np.polyfit(physid_wwy['opioidpayments'],physid_wwy['opioidpatients'], 1)\n",
    "val = slope * 63451 + intercept\n",
    "val"
   ]
  },
  {
   "cell_type": "code",
   "execution_count": 15,
   "metadata": {},
   "outputs": [],
   "source": [
    "# Imputing the zero 'opioidpatients' value using linear regression\n",
    "slope, intercept = np.polyfit(physid_wwy['opioidpayments'],physid_wwy['opioidpatients'], 1)\n",
    "df2.loc[(df2.physicianid == 'wwyJwO6CL1dqIooh') & (df1.opioidpatients == 0), 'opioidpatients'] = val"
   ]
  },
  {
   "cell_type": "code",
   "execution_count": 16,
   "metadata": {},
   "outputs": [
    {
     "data": {
      "text/html": [
       "<div>\n",
       "<style scoped>\n",
       "    .dataframe tbody tr th:only-of-type {\n",
       "        vertical-align: middle;\n",
       "    }\n",
       "\n",
       "    .dataframe tbody tr th {\n",
       "        vertical-align: top;\n",
       "    }\n",
       "\n",
       "    .dataframe thead th {\n",
       "        text-align: right;\n",
       "    }\n",
       "</style>\n",
       "<table border=\"1\" class=\"dataframe\">\n",
       "  <thead>\n",
       "    <tr style=\"text-align: right;\">\n",
       "      <th></th>\n",
       "      <th>physicianid</th>\n",
       "      <th>adderallpatients</th>\n",
       "      <th>adderallpayments</th>\n",
       "      <th>antibiopatients</th>\n",
       "      <th>antibiopayments</th>\n",
       "      <th>opioidpatients</th>\n",
       "      <th>opioidpayments</th>\n",
       "    </tr>\n",
       "    <tr>\n",
       "      <th>Date</th>\n",
       "      <th></th>\n",
       "      <th></th>\n",
       "      <th></th>\n",
       "      <th></th>\n",
       "      <th></th>\n",
       "      <th></th>\n",
       "      <th></th>\n",
       "    </tr>\n",
       "  </thead>\n",
       "  <tbody>\n",
       "    <tr>\n",
       "      <th>2015-01-01</th>\n",
       "      <td>wwyJwO6CL1dqIooh</td>\n",
       "      <td>NaN</td>\n",
       "      <td>NaN</td>\n",
       "      <td>NaN</td>\n",
       "      <td>NaN</td>\n",
       "      <td>13.000000</td>\n",
       "      <td>15443.0</td>\n",
       "    </tr>\n",
       "    <tr>\n",
       "      <th>2015-02-01</th>\n",
       "      <td>wwyJwO6CL1dqIooh</td>\n",
       "      <td>NaN</td>\n",
       "      <td>NaN</td>\n",
       "      <td>NaN</td>\n",
       "      <td>NaN</td>\n",
       "      <td>37.373343</td>\n",
       "      <td>63451.0</td>\n",
       "    </tr>\n",
       "    <tr>\n",
       "      <th>2015-03-01</th>\n",
       "      <td>wwyJwO6CL1dqIooh</td>\n",
       "      <td>NaN</td>\n",
       "      <td>NaN</td>\n",
       "      <td>NaN</td>\n",
       "      <td>NaN</td>\n",
       "      <td>35.000000</td>\n",
       "      <td>16468.0</td>\n",
       "    </tr>\n",
       "    <tr>\n",
       "      <th>2015-04-01</th>\n",
       "      <td>wwyJwO6CL1dqIooh</td>\n",
       "      <td>NaN</td>\n",
       "      <td>NaN</td>\n",
       "      <td>NaN</td>\n",
       "      <td>NaN</td>\n",
       "      <td>106.000000</td>\n",
       "      <td>283647.0</td>\n",
       "    </tr>\n",
       "    <tr>\n",
       "      <th>2015-05-01</th>\n",
       "      <td>wwyJwO6CL1dqIooh</td>\n",
       "      <td>NaN</td>\n",
       "      <td>NaN</td>\n",
       "      <td>NaN</td>\n",
       "      <td>NaN</td>\n",
       "      <td>78.000000</td>\n",
       "      <td>208911.0</td>\n",
       "    </tr>\n",
       "  </tbody>\n",
       "</table>\n",
       "</div>"
      ],
      "text/plain": [
       "                 physicianid  adderallpatients  adderallpayments  \\\n",
       "Date                                                               \n",
       "2015-01-01  wwyJwO6CL1dqIooh               NaN               NaN   \n",
       "2015-02-01  wwyJwO6CL1dqIooh               NaN               NaN   \n",
       "2015-03-01  wwyJwO6CL1dqIooh               NaN               NaN   \n",
       "2015-04-01  wwyJwO6CL1dqIooh               NaN               NaN   \n",
       "2015-05-01  wwyJwO6CL1dqIooh               NaN               NaN   \n",
       "\n",
       "            antibiopatients  antibiopayments  opioidpatients  opioidpayments  \n",
       "Date                                                                          \n",
       "2015-01-01              NaN              NaN       13.000000         15443.0  \n",
       "2015-02-01              NaN              NaN       37.373343         63451.0  \n",
       "2015-03-01              NaN              NaN       35.000000         16468.0  \n",
       "2015-04-01              NaN              NaN      106.000000        283647.0  \n",
       "2015-05-01              NaN              NaN       78.000000        208911.0  "
      ]
     },
     "execution_count": 16,
     "metadata": {},
     "output_type": "execute_result"
    }
   ],
   "source": [
    "# Confirming that the zero 'opioidpatients' value is replaced with the val = 37.3733...\n",
    "df2[df2['physicianid'] == 'wwyJwO6CL1dqIooh'].head()"
   ]
  },
  {
   "cell_type": "markdown",
   "metadata": {},
   "source": [
    "## 4. Data Story"
   ]
  },
  {
   "cell_type": "markdown",
   "metadata": {},
   "source": [
    "### 4.1\tDescriptive Summary Statistics of the Raw Dataset"
   ]
  },
  {
   "cell_type": "markdown",
   "metadata": {},
   "source": [
    "After imputations (from section 3), only the mean monthly antibiotic payments marginally increased 21682 from 21666, confirming that imputation process did not significantly change the data."
   ]
  },
  {
   "cell_type": "code",
   "execution_count": 17,
   "metadata": {},
   "outputs": [
    {
     "data": {
      "text/html": [
       "<div>\n",
       "<style scoped>\n",
       "    .dataframe tbody tr th:only-of-type {\n",
       "        vertical-align: middle;\n",
       "    }\n",
       "\n",
       "    .dataframe tbody tr th {\n",
       "        vertical-align: top;\n",
       "    }\n",
       "\n",
       "    .dataframe thead th {\n",
       "        text-align: right;\n",
       "    }\n",
       "</style>\n",
       "<table border=\"1\" class=\"dataframe\">\n",
       "  <thead>\n",
       "    <tr style=\"text-align: right;\">\n",
       "      <th></th>\n",
       "      <th>adderallpatients</th>\n",
       "      <th>adderallpayments</th>\n",
       "      <th>antibiopatients</th>\n",
       "      <th>antibiopayments</th>\n",
       "      <th>opioidpatients</th>\n",
       "      <th>opioidpayments</th>\n",
       "    </tr>\n",
       "  </thead>\n",
       "  <tbody>\n",
       "    <tr>\n",
       "      <th>count</th>\n",
       "      <td>23889.000000</td>\n",
       "      <td>2.388900e+04</td>\n",
       "      <td>39829.000000</td>\n",
       "      <td>3.982900e+04</td>\n",
       "      <td>12588.000000</td>\n",
       "      <td>1.258800e+04</td>\n",
       "    </tr>\n",
       "    <tr>\n",
       "      <th>mean</th>\n",
       "      <td>4.921972</td>\n",
       "      <td>1.828657e+03</td>\n",
       "      <td>6.378217</td>\n",
       "      <td>2.168274e+04</td>\n",
       "      <td>3.098218</td>\n",
       "      <td>2.980236e+03</td>\n",
       "    </tr>\n",
       "    <tr>\n",
       "      <th>std</th>\n",
       "      <td>9.248193</td>\n",
       "      <td>2.293074e+04</td>\n",
       "      <td>12.741038</td>\n",
       "      <td>8.380979e+04</td>\n",
       "      <td>6.949683</td>\n",
       "      <td>6.421729e+04</td>\n",
       "    </tr>\n",
       "    <tr>\n",
       "      <th>min</th>\n",
       "      <td>1.000000</td>\n",
       "      <td>-1.177100e+04</td>\n",
       "      <td>1.000000</td>\n",
       "      <td>-9.400000e+03</td>\n",
       "      <td>1.000000</td>\n",
       "      <td>-1.000000e+01</td>\n",
       "    </tr>\n",
       "    <tr>\n",
       "      <th>25%</th>\n",
       "      <td>1.000000</td>\n",
       "      <td>4.600000e+01</td>\n",
       "      <td>2.000000</td>\n",
       "      <td>3.030000e+02</td>\n",
       "      <td>1.000000</td>\n",
       "      <td>1.500000e+01</td>\n",
       "    </tr>\n",
       "    <tr>\n",
       "      <th>50%</th>\n",
       "      <td>3.000000</td>\n",
       "      <td>2.450000e+02</td>\n",
       "      <td>3.000000</td>\n",
       "      <td>2.908000e+03</td>\n",
       "      <td>2.000000</td>\n",
       "      <td>1.220000e+02</td>\n",
       "    </tr>\n",
       "    <tr>\n",
       "      <th>75%</th>\n",
       "      <td>5.000000</td>\n",
       "      <td>8.580000e+02</td>\n",
       "      <td>6.000000</td>\n",
       "      <td>1.430600e+04</td>\n",
       "      <td>3.000000</td>\n",
       "      <td>4.410000e+02</td>\n",
       "    </tr>\n",
       "    <tr>\n",
       "      <th>max</th>\n",
       "      <td>341.000000</td>\n",
       "      <td>1.732264e+06</td>\n",
       "      <td>285.000000</td>\n",
       "      <td>2.423404e+06</td>\n",
       "      <td>318.000000</td>\n",
       "      <td>2.823021e+06</td>\n",
       "    </tr>\n",
       "  </tbody>\n",
       "</table>\n",
       "</div>"
      ],
      "text/plain": [
       "       adderallpatients  adderallpayments  antibiopatients  antibiopayments  \\\n",
       "count      23889.000000      2.388900e+04     39829.000000     3.982900e+04   \n",
       "mean           4.921972      1.828657e+03         6.378217     2.168274e+04   \n",
       "std            9.248193      2.293074e+04        12.741038     8.380979e+04   \n",
       "min            1.000000     -1.177100e+04         1.000000    -9.400000e+03   \n",
       "25%            1.000000      4.600000e+01         2.000000     3.030000e+02   \n",
       "50%            3.000000      2.450000e+02         3.000000     2.908000e+03   \n",
       "75%            5.000000      8.580000e+02         6.000000     1.430600e+04   \n",
       "max          341.000000      1.732264e+06       285.000000     2.423404e+06   \n",
       "\n",
       "       opioidpatients  opioidpayments  \n",
       "count    12588.000000    1.258800e+04  \n",
       "mean         3.098218    2.980236e+03  \n",
       "std          6.949683    6.421729e+04  \n",
       "min          1.000000   -1.000000e+01  \n",
       "25%          1.000000    1.500000e+01  \n",
       "50%          2.000000    1.220000e+02  \n",
       "75%          3.000000    4.410000e+02  \n",
       "max        318.000000    2.823021e+06  "
      ]
     },
     "execution_count": 17,
     "metadata": {},
     "output_type": "execute_result"
    }
   ],
   "source": [
    "# Descriptive statistics of df2\n",
    "df2.describe()"
   ]
  },
  {
   "cell_type": "markdown",
   "metadata": {},
   "source": [
    "Hence, the initial summary statistics of the dataset showed that on average:\n",
    "* physicians saw about 5 adderall patients and charged about 1828 per month\n",
    "* physicians saw about 6 antibiotic patients and charged about 21682 per month\n",
    "* physicians saw about 3 opioid patients and charged about 2980 per month\n",
    "Monthly patient volumes and payments showed considerable variation. The coefficient of variation analysis showed that monthly payments for opioids had the largest variation with a coefficient of variation of 21.5 followed by monthly payments for adderall, which had a coefficient of variation of 12.54.\n",
    "\n",
    "Interestingly, it appears physicians received higher payments per patient for prescribing antibiotics compared to adderall or opioid. Likewise, it appears physicians received higher payments per patient for prescribing opioids compared to adderall. This could be because antibiotic and opioid prescribing physicians might prefer to prescribe more expensive branded products or might be overprescribing drugs to repeat patients.\n",
    "\n",
    "The negative minimum monthly payments observed for drug types are suggested to result from patients that are unable to pay and the healthcare provider had to absolve the cost."
   ]
  },
  {
   "cell_type": "code",
   "execution_count": 18,
   "metadata": {},
   "outputs": [
    {
     "name": "stdout",
     "output_type": "stream",
     "text": [
      "Coefficent of variation in monthly patient volumes for adderall = 1.88\n",
      "Coefficent of variation in monthly payments for adderall = 12.54\n",
      "Coefficent of variation in monthly patient volumes for antibio = 2.00\n",
      "Coefficent of variation in monthly payments for antibio = 3.87\n",
      "Coefficent of variation in monthly patient volumes for opioid = 2.24\n",
      "Coefficent of variation in monthly payments for opioid = 21.55\n"
     ]
    }
   ],
   "source": [
    "# Calculating Coefficient of variation\n",
    "drugs = ['adderall', 'antibio', 'opioid']\n",
    "\n",
    "for drug in drugs:\n",
    "    for col in df2.columns[1:]:\n",
    "        if drug + 'patients' in col:\n",
    "            print('Coefficent of variation in monthly patient volumes for %s = %.2f' % (drug, st.variation(df2[col].dropna())))\n",
    "        elif drug + 'payments' in col:\n",
    "            print('Coefficent of variation in monthly payments for %s = %.2f' % (drug, st.variation(df2[col].dropna())))"
   ]
  },
  {
   "cell_type": "markdown",
   "metadata": {},
   "source": [
    "### 4.2\tEstimating Probability Distributions of Variables"
   ]
  },
  {
   "cell_type": "markdown",
   "metadata": {},
   "source": [
    "By extracting parameters from observed data and using those parameters to generate random variates, it was determined that the probability distributions of log transformed values of monthly patient volumes appeared to have exponential distributions while that of monthly payments appeared to follow normal distributions."
   ]
  },
  {
   "cell_type": "code",
   "execution_count": 19,
   "metadata": {},
   "outputs": [
    {
     "data": {
      "image/png": "[encoded data removed]",
      "text/plain": [
       "<Figure size 1296x216 with 3 Axes>"
      ]
     },
     "metadata": {
      "needs_background": "light"
     },
     "output_type": "display_data"
    },
    {
     "data": {
      "image/png": "[encoded data removed]",
      "text/plain": [
       "<Figure size 1296x216 with 3 Axes>"
      ]
     },
     "metadata": {
      "needs_background": "light"
     },
     "output_type": "display_data"
    },
    {
     "data": {
      "image/png": "[encoded data removed]",
      "text/plain": [
       "<Figure size 1296x216 with 3 Axes>"
      ]
     },
     "metadata": {
      "needs_background": "light"
     },
     "output_type": "display_data"
    }
   ],
   "source": [
    "np.random.seed(3)\n",
    "\n",
    "#patients = {}\n",
    "patients = {}\n",
    "payments = {}\n",
    "for col in df2.columns[1:]:\n",
    "    clean_col = np.log(abs(df2[col].dropna()) + 1)\n",
    "    if 'patients' in col:  \n",
    "#         alpha, loc, beta = st.gamma.fit(clean_col)\n",
    "#         simulated = st.gamma(alpha, loc=loc, scale=beta).rvs(len(clean_col))\n",
    "#         patients[col] = (clean_col, simulated)\n",
    "        \n",
    "        shape, size = st.expon.fit(clean_col)\n",
    "        simulated = st.expon(shape, size).rvs(len(clean_col))\n",
    "        patients[col] = (clean_col, simulated)\n",
    "        \n",
    "    else:\n",
    "        mean, std = st.norm.fit(clean_col)\n",
    "        simulated = st.norm(mean, std).rvs(len(clean_col))\n",
    "        payments[col] = (clean_col, simulated)\n",
    "        \n",
    "f = 0\n",
    "fig, ax = plt.subplots(1, 3, figsize=(18,3), squeeze=False)\n",
    "for key, value in patients.items():\n",
    "    ax[0,f].hist(value[0], bins=30, alpha=0.5, label = 'observed')\n",
    "    ax[0,f].hist(value[1], bins=30, alpha=0.5, label = 'simulated')\n",
    "    ax[0,f].set_xlim([0.5, 4.5])\n",
    "    ax[0,f].set_xlabel('log(%s)' % key)\n",
    "    ax[0,f].legend(loc='upper right')\n",
    "    ax[0,f].set_ylabel('Frequency')\n",
    "    f += 1\n",
    "\n",
    "f = 0\n",
    "fig, ax = plt.subplots(1, 3, figsize=(18,3), squeeze=False)\n",
    "for key, value in payments.items():\n",
    "    ax[0,f].hist(value[0], bins=30, alpha=0.5, label = 'observed')\n",
    "    ax[0,f].hist(value[1], bins=30, alpha=0.5, label = 'simulated')\n",
    "    ax[0,f].set_xlabel('log(%s)' % key)\n",
    "    ax[0,f].legend(loc='upper right')\n",
    "    ax[0,f].set_ylabel('Frequency')\n",
    "    f += 1\n",
    "\n",
    "f = 0\n",
    "fig, ax = plt.subplots(1, 3, figsize=(18,3), squeeze=False)\n",
    "for key, value in payments.items():\n",
    "    st.probplot(value[0], plot=ax[0,f])\n",
    "    ax[0,f].set_title('log(%s)' % (key))\n",
    "    f += 1"
   ]
  },
  {
   "cell_type": "markdown",
   "metadata": {},
   "source": [
    "### 4.3\tAnalysis of Monthly Patient Volumes and Payments "
   ]
  },
  {
   "cell_type": "markdown",
   "metadata": {},
   "source": [
    "#### 4.3.1\tBox plots of Log Transformed Data"
   ]
  },
  {
   "cell_type": "markdown",
   "metadata": {},
   "source": [
    "Irrespective of drug type, the minimum values, interquartile ranges and maximum values of patient volumes and payments suggest that they are right-skewed, prompting a log transformation. Box plots of the log-transformed data still showed considerable right-skewness except for log-transformed monthly payments for antibiotics"
   ]
  },
  {
   "cell_type": "code",
   "execution_count": 20,
   "metadata": {},
   "outputs": [
    {
     "data": {
      "image/png": "[encoded data removed]",
      "text/plain": [
       "<Figure size 1008x288 with 2 Axes>"
      ]
     },
     "metadata": {
      "needs_background": "light"
     },
     "output_type": "display_data"
    }
   ],
   "source": [
    "# Box plots of patient monthly volumes and payments per physician \n",
    "fig, axes = plt.subplots(1, 2, figsize=(14,4), squeeze=False)\n",
    "df2.loc[:,['adderallpatients','antibiopatients','opioidpatients']].apply(np.log).plot(kind='box', ax=axes[0, 0])\n",
    "df2.loc[:,['adderallpayments','antibiopayments','opioidpayments']].apply(np.log).plot(kind='box', ax=axes[0, 1])\n",
    "axes[0,0].set_ylabel('log(patient monthly volume)')\n",
    "axes[0,1].set_ylabel('log(patient monthly payments)') ;"
   ]
  },
  {
   "cell_type": "markdown",
   "metadata": {},
   "source": [
    "#### 4.3.2\tEmpirical Cumulative Density Function (ECDF) of Log Transformed Data"
   ]
  },
  {
   "cell_type": "code",
   "execution_count": 21,
   "metadata": {},
   "outputs": [
    {
     "name": "stderr",
     "output_type": "stream",
     "text": [
      "C:\\Anaconda\\lib\\site-packages\\ipykernel_launcher.py:13: MatplotlibDeprecationWarning: Adding an axes using the same arguments as a previous axes currently reuses the earlier instance.  In a future version, a new instance will always be created and returned.  Meanwhile, this warning can be suppressed, and the future behavior ensured, by passing a unique label to each axes instance.\n",
      "  del sys.path[0]\n",
      "C:\\Anaconda\\lib\\site-packages\\ipykernel_launcher.py:21: RuntimeWarning: divide by zero encountered in log\n",
      "C:\\Anaconda\\lib\\site-packages\\ipykernel_launcher.py:21: RuntimeWarning: invalid value encountered in log\n",
      "C:\\Anaconda\\lib\\site-packages\\ipykernel_launcher.py:20: MatplotlibDeprecationWarning: Adding an axes using the same arguments as a previous axes currently reuses the earlier instance.  In a future version, a new instance will always be created and returned.  Meanwhile, this warning can be suppressed, and the future behavior ensured, by passing a unique label to each axes instance.\n"
     ]
    },
    {
     "data": {
      "image/png": "[encoded data removed]",
      "text/plain": [
       "<Figure size 1152x288 with 2 Axes>"
      ]
     },
     "metadata": {
      "needs_background": "light"
     },
     "output_type": "display_data"
    }
   ],
   "source": [
    "# Generating functions for plotting ecdfs\n",
    "def ecdf(data):\n",
    "    '''Generate x and y values for empirical cummulative density function plots'''\n",
    "    x = np.sort(data)\n",
    "    y = np.arange(1, len(data)+1) / len(data)\n",
    "    return x, y\n",
    "\n",
    "# Generating x, y values and plotting ecdfs\n",
    "colors = ['r', 'b', 'g']\n",
    "plt.figure(figsize=(16,4))\n",
    "for col, color in zip(df2.columns[1::2], colors):\n",
    "    x, y = ecdf(df2[col].dropna())\n",
    "    plt.subplot(1,2,1)\n",
    "    plt.plot(np.log(x), y, marker='.', linestyle='none', color=color)\n",
    "    plt.xlabel('log(patient monthly volume)') ; plt.ylabel('ECDF')\n",
    "    plt.legend(('adderall','antibiotics','opioids'), loc='lower right')\n",
    "\n",
    "for col, color in zip(df2.columns[2::2], colors):\n",
    "    x, y = ecdf(df2[col].dropna())\n",
    "    plt.subplot(1,2,2)\n",
    "    plt.plot(np.log(x), y, marker='.', linestyle='none', color=color)\n",
    "    plt.xlabel('log(payment monthly volume)') ; plt.ylabel('ECDF')\n",
    "    plt.legend(('adderall','antibiotics','opioids'), loc='lower right')"
   ]
  },
  {
   "cell_type": "markdown",
   "metadata": {},
   "source": [
    "The ecdf plots confirmed information from descriptive summary statistics (Table 4-1), which showed that antibiotics prescribing physicians had the highest monthly average patient volumes and highest monthly payments compared to adderall or opioid prescribing physicians. Additionally, ecdf plots showed that adderall prescribing physicians had higher monthly patient volumes compared to opioid prescribing physicians. \n",
    "\n",
    "Interestingly, while descriptive summary statistics showed a higher monthly average payment for opioids compared to adderall, ecdf plots suggest that the 85th percentile or less of adderall prescribers received higher monthly payments compared to payments received by opioid prescribers. This suggests that the source of the higher average monthly payments for opioids compared to adderall is largely associated with payments above the 85th percentile for opioid prescribers. It is suspected that this group of opioid prescribers (> 85th percentile) might be involved in over-prescription practices."
   ]
  },
  {
   "cell_type": "markdown",
   "metadata": {},
   "source": [
    "#### 4.3.3\tComparing Means of Monthly Patient Volumes and Payments\n",
    "The null hypothesis is that there's no difference in the mean monthly patient volumes and payments for adderall and opioids "
   ]
  },
  {
   "cell_type": "code",
   "execution_count": 22,
   "metadata": {},
   "outputs": [],
   "source": [
    "np.random.seed(47)\n",
    "\n",
    "# Computing the differences in means\n",
    "adderallpatients = df2.adderallpatients.dropna() \n",
    "opioidpatients = df2.opioidpatients.dropna() \n",
    "adderallpayments = df2.adderallpayments.dropna()\n",
    "opioidpayments = df2.opioidpayments.dropna()\n",
    "\n",
    "patients_diff = np.mean(adderallpatients) - np.mean(opioidpatients)\n",
    "payments_diff = np.mean(opioidpayments) - np.mean(adderallpayments)\n",
    "\n",
    "# Concatenating samples\n",
    "conc_patients_mean = np.mean(np.concatenate((adderallpatients, opioidpatients)))\n",
    "conc_payments_mean = np.mean(np.concatenate((adderallpayments, opioidpayments)))\n",
    "\n",
    "# Shifting the means of both samples to match the concatenated mean\n",
    "add_patients_shifted = adderallpatients + conc_patients_mean - np.mean(adderallpatients)\n",
    "opi_patients_shifted = opioidpatients + conc_patients_mean - np.mean(opioidpatients)\n",
    "add_payments_shifted = adderallpayments + conc_payments_mean - np.mean(adderallpayments)\n",
    "opi_payments_shifted = opioidpayments + conc_payments_mean - np.mean(opioidpayments)\n",
    "\n",
    "# Initializing replicates \n",
    "bs_patients_replicates = np.empty(10000)\n",
    "bs_payments_replicates = np.empty(10000)\n",
    "\n",
    "# Generating bs_patients replicates\n",
    "for i in range(10000):\n",
    "    add_rep = np.random.choice(add_patients_shifted, size=len(add_patients_shifted))\n",
    "    opi_rep = np.random.choice(opi_patients_shifted, size=len(opi_patients_shifted))\n",
    "    bs_patients_replicates[i] = np.mean(add_rep) - np.mean(opi_rep)\n",
    "\n",
    "# Generating bs_payments replicates\n",
    "for i in range(10000):\n",
    "    add_rep = np.random.choice(add_payments_shifted, size=len(add_payments_shifted))\n",
    "    opi_rep = np.random.choice(opi_payments_shifted, size=len(opi_payments_shifted))\n",
    "    bs_payments_replicates[i] = np.mean(opi_rep) - np.mean(add_rep)"
   ]
  },
  {
   "cell_type": "code",
   "execution_count": 23,
   "metadata": {},
   "outputs": [
    {
     "name": "stdout",
     "output_type": "stream",
     "text": [
      "p-value of difference in mean monthly patient volumes = 0          p-value of difference in mean monthly payments = 0.0327\n"
     ]
    },
    {
     "data": {
      "image/png": "[encoded data removed]",
      "text/plain": [
       "<Figure size 1152x288 with 2 Axes>"
      ]
     },
     "metadata": {
      "needs_background": "light"
     },
     "output_type": "display_data"
    }
   ],
   "source": [
    "# Computing confidence intervals\n",
    "conf_int_lower1 = np.percentile(bs_patients_replicates, 2.5)\n",
    "conf_int_upper1 = np.percentile(bs_patients_replicates, 97.5)\n",
    "conf_int_lower2 = np.percentile(bs_payments_replicates, 2.5)\n",
    "conf_int_upper2 = np.percentile(bs_payments_replicates, 97.5)\n",
    "\n",
    "# Plotting histograms of mean difference replicates\n",
    "fig, ax = plt.subplots(1, 2, figsize=(16,4), squeeze=False)\n",
    "ax[0,0].hist(bs_patients_replicates, bins=100)\n",
    "ax[0,0].axvline(conf_int_lower1, color='red', label='confidence intervals')\n",
    "ax[0,0].axvline(conf_int_upper1, color='red')\n",
    "ax[0,0].axvline(patients_diff, color='red', ls='--', label='observed difference')\n",
    "ax[0,0].axvline(-patients_diff, color='red', ls='--')\n",
    "ax[0,0].set_xlabel('Mean differences in patient monthly volume')\n",
    "ax[0,0].legend(loc='upper left')\n",
    "ax[0,0].set_ylabel('Frequency')\n",
    "\n",
    "ax[0,1].hist(bs_payments_replicates, bins=100)\n",
    "ax[0,1].axvline(conf_int_lower2, color='red', label='confidence intervals')\n",
    "ax[0,1].axvline(conf_int_upper2, color='red')\n",
    "ax[0,1].axvline(payments_diff, color='red', ls='--', label='observed difference')\n",
    "ax[0,1].axvline(-payments_diff, color='red', ls='--')\n",
    "ax[0,1].set_xlabel('Mean differences in patient monthly payments')\n",
    "ax[0,1].legend(loc='upper left')\n",
    "ax[0,1].set_ylabel('Frequency')\n",
    "\n",
    "# Computing p-values\n",
    "p1 = np.sum(bs_patients_replicates >= patients_diff) / len(bs_patients_replicates)\n",
    "p2 = np.sum(bs_payments_replicates >= payments_diff) / len(bs_payments_replicates)\n",
    "print(\"p-value of difference in mean monthly patient volumes = %g   \\\n",
    "       p-value of difference in mean monthly payments = %g\" % (p1, p2)) ;"
   ]
  },
  {
   "cell_type": "markdown",
   "metadata": {},
   "source": [
    "While summary descriptive statistics and ecdfs, clearly showed that on average, antibiotic prescribers saw the greatest volume of monthly patients and received the largest monthly payments, the inference for adderall and opioid prescribers were not as clear. For instance, descriptive summary statistics suggest that despite seeing fewer patients per month, on average, opioid prescribers received higher monthly payments than adderall prescribers. However, ecdfs of log-transformed data suggest that except for a few outlier opioid prescribers, adderall prescribers received larger monthly payments than opioid prescribers. Hence, to resolve this, it was important to test for a significant difference in mean monthly patient volumes and payments for adderall and opioids.\n",
    "\n",
    "Bootstrap-assisted hypothesis test showed significant differences in monthly patient volumes (p = 0.0) and monthly payments (p = 0.0327) at the 5% significance level."
   ]
  },
  {
   "cell_type": "markdown",
   "metadata": {},
   "source": [
    "### 4.4\tAnalysis of Payment Per Patient (Payment Rate)\n",
    "Since the data suggests a higher revenue margin for prescribing antibiotics and opioids compared to adderall, the average monthly payments received per physician per patient per dug was calculated. Hence, three new columns (variables) were created for the three drug types."
   ]
  },
  {
   "cell_type": "code",
   "execution_count": 24,
   "metadata": {},
   "outputs": [],
   "source": [
    "# Making a copy of df2\n",
    "df3 = df2.copy()\n",
    "\n",
    "# Creating three new columns to capture the average payments received per patient per physician per drug type\n",
    "df3['adderall_pay_rate'] = df3['adderallpayments'] / df3['adderallpatients']\n",
    "df3['antibio_pay_rate'] = df3['antibiopayments'] / df3['antibiopatients']\n",
    "df3['opioid_pay_rate'] = df3['opioidpayments'] / df3['opioidpatients']"
   ]
  },
  {
   "cell_type": "markdown",
   "metadata": {},
   "source": [
    "#### 4.4.1\tDescriptive Summary of Payment Rates"
   ]
  },
  {
   "cell_type": "code",
   "execution_count": 25,
   "metadata": {},
   "outputs": [
    {
     "data": {
      "text/html": [
       "<div>\n",
       "<style scoped>\n",
       "    .dataframe tbody tr th:only-of-type {\n",
       "        vertical-align: middle;\n",
       "    }\n",
       "\n",
       "    .dataframe tbody tr th {\n",
       "        vertical-align: top;\n",
       "    }\n",
       "\n",
       "    .dataframe thead th {\n",
       "        text-align: right;\n",
       "    }\n",
       "</style>\n",
       "<table border=\"1\" class=\"dataframe\">\n",
       "  <thead>\n",
       "    <tr style=\"text-align: right;\">\n",
       "      <th></th>\n",
       "      <th>adderall_pay_rate</th>\n",
       "      <th>antibio_pay_rate</th>\n",
       "      <th>opioid_pay_rate</th>\n",
       "    </tr>\n",
       "  </thead>\n",
       "  <tbody>\n",
       "    <tr>\n",
       "      <th>count</th>\n",
       "      <td>23889.000000</td>\n",
       "      <td>39829.000000</td>\n",
       "      <td>12588.000000</td>\n",
       "    </tr>\n",
       "    <tr>\n",
       "      <th>mean</th>\n",
       "      <td>259.683273</td>\n",
       "      <td>3017.455872</td>\n",
       "      <td>250.260730</td>\n",
       "    </tr>\n",
       "    <tr>\n",
       "      <th>std</th>\n",
       "      <td>834.308953</td>\n",
       "      <td>8636.150750</td>\n",
       "      <td>1291.643871</td>\n",
       "    </tr>\n",
       "    <tr>\n",
       "      <th>min</th>\n",
       "      <td>-5885.500000</td>\n",
       "      <td>-9400.000000</td>\n",
       "      <td>-8.000000</td>\n",
       "    </tr>\n",
       "    <tr>\n",
       "      <th>25%</th>\n",
       "      <td>21.714286</td>\n",
       "      <td>131.000000</td>\n",
       "      <td>9.000000</td>\n",
       "    </tr>\n",
       "    <tr>\n",
       "      <th>50%</th>\n",
       "      <td>85.095238</td>\n",
       "      <td>887.000000</td>\n",
       "      <td>62.500000</td>\n",
       "    </tr>\n",
       "    <tr>\n",
       "      <th>75%</th>\n",
       "      <td>227.300000</td>\n",
       "      <td>3108.250000</td>\n",
       "      <td>197.000000</td>\n",
       "    </tr>\n",
       "    <tr>\n",
       "      <th>max</th>\n",
       "      <td>42753.000000</td>\n",
       "      <td>649413.000000</td>\n",
       "      <td>46170.350000</td>\n",
       "    </tr>\n",
       "  </tbody>\n",
       "</table>\n",
       "</div>"
      ],
      "text/plain": [
       "       adderall_pay_rate  antibio_pay_rate  opioid_pay_rate\n",
       "count       23889.000000      39829.000000     12588.000000\n",
       "mean          259.683273       3017.455872       250.260730\n",
       "std           834.308953       8636.150750      1291.643871\n",
       "min         -5885.500000      -9400.000000        -8.000000\n",
       "25%            21.714286        131.000000         9.000000\n",
       "50%            85.095238        887.000000        62.500000\n",
       "75%           227.300000       3108.250000       197.000000\n",
       "max         42753.000000     649413.000000     46170.350000"
      ]
     },
     "execution_count": 25,
     "metadata": {},
     "output_type": "execute_result"
    }
   ],
   "source": [
    "# Descriptive stats of payments received per patient per physician per drug type\n",
    "df3.loc[:,['adderall_pay_rate','antibio_pay_rate','opioid_pay_rate']].describe()"
   ]
  },
  {
   "cell_type": "code",
   "execution_count": 26,
   "metadata": {},
   "outputs": [
    {
     "name": "stdout",
     "output_type": "stream",
     "text": [
      "Coefficient of variation in payment per patient for adderall = 3.212727\n",
      "Coefficient of variation in payment per patient for antibitotics = 2.862028\n",
      "Coefficient of variation in payment per patient for opioids = 5.160988\n"
     ]
    }
   ],
   "source": [
    "# Calculating coefficient of variation of payment rates\n",
    "adderall_cv = st.variation(df3.adderall_pay_rate.dropna())\n",
    "antibio_cv = st.variation(df3.antibio_pay_rate.dropna())\n",
    "opioid_cv = st.variation(df3.opioid_pay_rate.dropna())\n",
    "print('Coefficient of variation in payment per patient for adderall = %03f' % adderall_cv)\n",
    "print('Coefficient of variation in payment per patient for antibitotics = %03f' % antibio_cv)\n",
    "print('Coefficient of variation in payment per patient for opioids = %03f' % opioid_cv)"
   ]
  },
  {
   "cell_type": "markdown",
   "metadata": {},
   "source": [
    "Descriptive summary statistics of payment rates showed that antibiotic prescribers had a significantly higher average monthly payment rate of `$`3017 compared to `$`259 for adderall prescribers and `$`250 for opioid prescribers. The payment rates also showed considerable variation especially for opioids, which had a coefficient of variation of 5.15 compared to adderall and antibiotics with 3.21 and 2.86, respectively."
   ]
  },
  {
   "cell_type": "markdown",
   "metadata": {},
   "source": [
    "#### 4.4.2\tBox plots and ECDFs of Payment Rates"
   ]
  },
  {
   "cell_type": "code",
   "execution_count": 27,
   "metadata": {},
   "outputs": [
    {
     "name": "stderr",
     "output_type": "stream",
     "text": [
      "C:\\Anaconda\\lib\\site-packages\\ipykernel_launcher.py:14: RuntimeWarning: divide by zero encountered in log\n",
      "  \n",
      "C:\\Anaconda\\lib\\site-packages\\ipykernel_launcher.py:14: RuntimeWarning: invalid value encountered in log\n",
      "  \n",
      "C:\\Anaconda\\lib\\site-packages\\ipykernel_launcher.py:13: MatplotlibDeprecationWarning: Adding an axes using the same arguments as a previous axes currently reuses the earlier instance.  In a future version, a new instance will always be created and returned.  Meanwhile, this warning can be suppressed, and the future behavior ensured, by passing a unique label to each axes instance.\n",
      "  del sys.path[0]\n"
     ]
    },
    {
     "data": {
      "image/png": "[encoded data removed]",
      "text/plain": [
       "<Figure size 1152x288 with 2 Axes>"
      ]
     },
     "metadata": {
      "needs_background": "light"
     },
     "output_type": "display_data"
    }
   ],
   "source": [
    "# Creating payrate slice of dataframe \n",
    "df3_rate = df3.loc[:,['adderall_pay_rate','antibio_pay_rate','opioid_pay_rate']].apply(np.log)\n",
    "\n",
    "# Box plots\n",
    "fig, axes = plt.subplots(1, 2, figsize=(16,4), squeeze=False) \n",
    "df3_rate.plot(kind='box', ax=axes[0,0])\n",
    "axes[0,0].set_ylabel('log(Monthly payment per patient)');\n",
    "\n",
    "# Generating x, y values and plotting ecdfs\n",
    "colors = ['r', 'b', 'g']\n",
    "for col, color in zip(df3_rate.columns, colors):\n",
    "    x, y = ecdf(df3[col].dropna())\n",
    "    plt.subplot(1,2,2)\n",
    "    plt.plot(np.log(x), y, marker='.', linestyle='none', color=color)\n",
    "    plt.xlabel('log(payment per patient)') ; plt.ylabel('ECDF')\n",
    "    plt.legend(('adderall','antibiotics','opioids'), loc='lower right')"
   ]
  },
  {
   "cell_type": "markdown",
   "metadata": {},
   "source": [
    "Box plots and ecdfs show that physicians received significantly more revenue per patient by prescribing antibiotics. However, the mean pay rate from opioid patients was only slightly higher than that for adderall patients. Bootstrapping will be used to further determine the signifcance of the difference in payment per patient between adderall and opioid patients."
   ]
  },
  {
   "cell_type": "markdown",
   "metadata": {},
   "source": [
    "#### 4.4.3\tComparing means of monthly payments per patient\n",
    "The null hypothesis is that there's no difference in the mean avaerage payment per patient for adderall and opioids "
   ]
  },
  {
   "cell_type": "code",
   "execution_count": 28,
   "metadata": {},
   "outputs": [],
   "source": [
    "np.random.seed(47)\n",
    "\n",
    "# Computing the differences in mean payment per patient\n",
    "adderall_payrate = df3.adderall_pay_rate.dropna()\n",
    "opioid_payrate = df3.opioid_pay_rate.dropna() \n",
    "\n",
    "payrate_diff = np.mean(opioid_payrate) - np.mean(adderall_payrate)\n",
    "\n",
    "# Concatenating samples\n",
    "conc_payrate_mean = np.mean(np.concatenate((adderall_payrate, opioid_payrate)))\n",
    "\n",
    "# Shifting the means of both samples to match the concatenated mean\n",
    "add_payrate_shifted = adderall_payrate + conc_payrate_mean - np.mean(adderall_payrate)\n",
    "opi_payrate_shifted = opioid_payrate + conc_payrate_mean - np.mean(opioid_payrate)\n",
    "\n",
    "# Initializing replicates \n",
    "bs_payrate_replicates = np.empty(10000)\n",
    "\n",
    "# Generating bs_payrate replicates\n",
    "for i in range(10000):\n",
    "    add_rep = np.random.choice(add_payrate_shifted, size=len(add_payrate_shifted))\n",
    "    opi_rep = np.random.choice(opi_payrate_shifted, size=len(opi_payrate_shifted))\n",
    "    bs_payrate_replicates[i] = np.mean(opi_rep) - np.mean(add_rep)"
   ]
  },
  {
   "cell_type": "code",
   "execution_count": 29,
   "metadata": {},
   "outputs": [],
   "source": [
    "# Computing confidence intervals\n",
    "conf_int_lower = np.percentile(bs_payrate_replicates, 2.5)\n",
    "conf_int_upper = np.percentile(bs_payrate_replicates, 97.5)"
   ]
  },
  {
   "cell_type": "code",
   "execution_count": 30,
   "metadata": {},
   "outputs": [
    {
     "name": "stdout",
     "output_type": "stream",
     "text": [
      "p-value of difference in mean payment per patient = 0.7671\n"
     ]
    },
    {
     "data": {
      "image/png": "[encoded data removed]",
      "text/plain": [
       "<Figure size 504x360 with 1 Axes>"
      ]
     },
     "metadata": {
      "needs_background": "light"
     },
     "output_type": "display_data"
    }
   ],
   "source": [
    "# Plotting histograms of mean difference replicates\n",
    "plt.figure(figsize=(7,5))\n",
    "plt.hist(bs_payrate_replicates, bins=100)\n",
    "plt.axvline(conf_int_lower, color='red', label='confidence intervals')\n",
    "plt.axvline(conf_int_upper, color='red')\n",
    "plt.axvline(payrate_diff, color='red', ls='--', label='observed difference')\n",
    "plt.axvline(-payrate_diff, color='red', ls='--')\n",
    "plt.xlabel('Mean differences in payment per patient')\n",
    "plt.legend(loc='upper left')\n",
    "plt.ylabel('Frequency');\n",
    "\n",
    "# Computing p-value\n",
    "p = np.mean(bs_payrate_replicates >= payrate_diff)\n",
    "#p_ = np.sum(bs_payrate_replicates >= payrate_diff) / len(bs_payrate_replicates)\n",
    "\n",
    "print('p-value of difference in mean payment per patient =',p)"
   ]
  },
  {
   "cell_type": "markdown",
   "metadata": {},
   "source": [
    "The bootstrapped hypothesis test suggests that there is no signifcant difference (at the 5% signifcance level) between the payments received per patient for adderall and opioids.\n",
    "\n",
    "Hence, it is interesting that there was no significant difference in average monthly payments per patients between adderall and opioid prescribers despite opioid prescribers having a signicantly higher average monthly payment and a signicantly lower average monthly patient volume compared to adderall prescribers. "
   ]
  },
  {
   "cell_type": "markdown",
   "metadata": {},
   "source": [
    "### 4.5\tCorrelation Matrix of Variables"
   ]
  },
  {
   "cell_type": "code",
   "execution_count": 31,
   "metadata": {},
   "outputs": [
    {
     "data": {
      "text/html": [
       "<div>\n",
       "<style scoped>\n",
       "    .dataframe tbody tr th:only-of-type {\n",
       "        vertical-align: middle;\n",
       "    }\n",
       "\n",
       "    .dataframe tbody tr th {\n",
       "        vertical-align: top;\n",
       "    }\n",
       "\n",
       "    .dataframe thead th {\n",
       "        text-align: right;\n",
       "    }\n",
       "</style>\n",
       "<table border=\"1\" class=\"dataframe\">\n",
       "  <thead>\n",
       "    <tr style=\"text-align: right;\">\n",
       "      <th></th>\n",
       "      <th>adderallpatients</th>\n",
       "      <th>adderallpayments</th>\n",
       "      <th>antibiopatients</th>\n",
       "      <th>antibiopayments</th>\n",
       "      <th>opioidpatients</th>\n",
       "      <th>opioidpayments</th>\n",
       "      <th>adderall_pay_rate</th>\n",
       "      <th>antibio_pay_rate</th>\n",
       "      <th>opioid_pay_rate</th>\n",
       "    </tr>\n",
       "    <tr>\n",
       "      <th>Date</th>\n",
       "      <th></th>\n",
       "      <th></th>\n",
       "      <th></th>\n",
       "      <th></th>\n",
       "      <th></th>\n",
       "      <th></th>\n",
       "      <th></th>\n",
       "      <th></th>\n",
       "      <th></th>\n",
       "    </tr>\n",
       "  </thead>\n",
       "  <tbody>\n",
       "    <tr>\n",
       "      <th>2017-06-01</th>\n",
       "      <td>2124.0</td>\n",
       "      <td>517995.0</td>\n",
       "      <td>4613.0</td>\n",
       "      <td>16622137.0</td>\n",
       "      <td>575.0</td>\n",
       "      <td>105434.0</td>\n",
       "      <td>103926.451973</td>\n",
       "      <td>2.153530e+06</td>\n",
       "      <td>42002.476722</td>\n",
       "    </tr>\n",
       "    <tr>\n",
       "      <th>2017-07-01</th>\n",
       "      <td>1656.0</td>\n",
       "      <td>468758.0</td>\n",
       "      <td>4231.0</td>\n",
       "      <td>15072131.0</td>\n",
       "      <td>480.0</td>\n",
       "      <td>92645.0</td>\n",
       "      <td>96522.743415</td>\n",
       "      <td>1.744820e+06</td>\n",
       "      <td>35908.349595</td>\n",
       "    </tr>\n",
       "    <tr>\n",
       "      <th>2017-08-01</th>\n",
       "      <td>1581.0</td>\n",
       "      <td>445137.0</td>\n",
       "      <td>3295.0</td>\n",
       "      <td>10346447.0</td>\n",
       "      <td>530.0</td>\n",
       "      <td>285853.0</td>\n",
       "      <td>83010.978119</td>\n",
       "      <td>1.482375e+06</td>\n",
       "      <td>37376.628221</td>\n",
       "    </tr>\n",
       "    <tr>\n",
       "      <th>2017-09-01</th>\n",
       "      <td>1257.0</td>\n",
       "      <td>350291.0</td>\n",
       "      <td>2604.0</td>\n",
       "      <td>8705042.0</td>\n",
       "      <td>317.0</td>\n",
       "      <td>52527.0</td>\n",
       "      <td>49063.363804</td>\n",
       "      <td>9.391781e+05</td>\n",
       "      <td>16235.564938</td>\n",
       "    </tr>\n",
       "    <tr>\n",
       "      <th>2017-10-01</th>\n",
       "      <td>6.0</td>\n",
       "      <td>1681.0</td>\n",
       "      <td>10.0</td>\n",
       "      <td>690.0</td>\n",
       "      <td>0.0</td>\n",
       "      <td>0.0</td>\n",
       "      <td>280.166667</td>\n",
       "      <td>6.900000e+01</td>\n",
       "      <td>0.000000</td>\n",
       "    </tr>\n",
       "  </tbody>\n",
       "</table>\n",
       "</div>"
      ],
      "text/plain": [
       "            adderallpatients  adderallpayments  antibiopatients  \\\n",
       "Date                                                              \n",
       "2017-06-01            2124.0          517995.0           4613.0   \n",
       "2017-07-01            1656.0          468758.0           4231.0   \n",
       "2017-08-01            1581.0          445137.0           3295.0   \n",
       "2017-09-01            1257.0          350291.0           2604.0   \n",
       "2017-10-01               6.0            1681.0             10.0   \n",
       "\n",
       "            antibiopayments  opioidpatients  opioidpayments  \\\n",
       "Date                                                          \n",
       "2017-06-01       16622137.0           575.0        105434.0   \n",
       "2017-07-01       15072131.0           480.0         92645.0   \n",
       "2017-08-01       10346447.0           530.0        285853.0   \n",
       "2017-09-01        8705042.0           317.0         52527.0   \n",
       "2017-10-01            690.0             0.0             0.0   \n",
       "\n",
       "            adderall_pay_rate  antibio_pay_rate  opioid_pay_rate  \n",
       "Date                                                              \n",
       "2017-06-01      103926.451973      2.153530e+06     42002.476722  \n",
       "2017-07-01       96522.743415      1.744820e+06     35908.349595  \n",
       "2017-08-01       83010.978119      1.482375e+06     37376.628221  \n",
       "2017-09-01       49063.363804      9.391781e+05     16235.564938  \n",
       "2017-10-01         280.166667      6.900000e+01         0.000000  "
      ]
     },
     "execution_count": 31,
     "metadata": {},
     "output_type": "execute_result"
    }
   ],
   "source": [
    "# Aggregating dataset by date to summarize the dataset prior to correlation matrix analyses\n",
    "df3.groupby('Date').sum().tail() "
   ]
  },
  {
   "cell_type": "markdown",
   "metadata": {},
   "source": [
    "Entries for the month of 2017-10 are incomplete. Hence, thsi month will be excluded from time series analyses"
   ]
  },
  {
   "cell_type": "code",
   "execution_count": 32,
   "metadata": {},
   "outputs": [],
   "source": [
    "# Creating a new dataset that excludes the month of 2017-10\n",
    "df3_d = df3.loc[:'2017-09',:].groupby('Date').sum()"
   ]
  },
  {
   "cell_type": "code",
   "execution_count": 33,
   "metadata": {},
   "outputs": [
    {
     "data": {
      "image/png": "[encoded data removed]",
      "text/plain": [
       "<Figure size 504x360 with 2 Axes>"
      ]
     },
     "metadata": {
      "needs_background": "light"
     },
     "output_type": "display_data"
    }
   ],
   "source": [
    "# Heat map visualization of correlation matrix\n",
    "df3_corr = df3_d.corr()\n",
    "plt.figure(figsize=(7,5))\n",
    "sns.heatmap(df3_corr, cmap='Blues') ;"
   ]
  },
  {
   "cell_type": "code",
   "execution_count": 34,
   "metadata": {},
   "outputs": [
    {
     "name": "stdout",
     "output_type": "stream",
     "text": [
      "         r = 0.696586066062956                   r = 0.9640742452980036                   r = 0.4392149770816451\n"
     ]
    },
    {
     "data": {
      "image/png": "[encoded data removed]",
      "text/plain": [
       "<Figure size 1152x288 with 3 Axes>"
      ]
     },
     "metadata": {
      "needs_background": "light"
     },
     "output_type": "display_data"
    }
   ],
   "source": [
    "# Visualization of scatterplots between patient volumes and payments per drug \n",
    "adderall_ = df3_d.loc[:,['adderallpatients','adderallpayments']]\n",
    "adderall_['adderallpayments'] = adderall_['adderallpayments'] / 1000\n",
    "antibio_ = df3_d.loc[:,['antibiopatients','antibiopayments']]\n",
    "opioid_ = df3_d.loc[:,['opioidpatients','opioidpayments']]\n",
    "opioid_['opioidpayments'] = opioid_['opioidpayments'] / 1000\n",
    "plt.figure(figsize=(16,4))\n",
    "plt.subplot(1,3,1)\n",
    "sns.scatterplot(x='adderallpatients', y='adderallpayments', data=adderall_)\n",
    "plt.ylabel('adderall payments  (x1000)')\n",
    "plt.subplot(1,3,2)\n",
    "sns.scatterplot(x='antibiopatients', y='antibiopayments', data=antibio_)\n",
    "plt.subplot(1,3,3)\n",
    "sns.scatterplot(x='opioidpatients', y='opioidpayments', data=opioid_)\n",
    "plt.ylabel('opioid payments  (x1000)');\n",
    "\n",
    "adderall_r = np.corrcoef(adderall_.adderallpatients, adderall_.adderallpayments)\n",
    "antibio_r = np.corrcoef(antibio_.antibiopatients, antibio_.antibiopayments)\n",
    "opioid_r = np.corrcoef(opioid_.opioidpatients, opioid_.opioidpayments)\n",
    "\n",
    "print('{:>30} {:>40} {:>40}'.format('r = ' + str(adderall_r[0,1]), 'r = ' + str(antibio_r[0,1]), 'r = ' + str(opioid_r[0,1])))"
   ]
  },
  {
   "cell_type": "markdown",
   "metadata": {},
   "source": [
    "Correlation analysis showed a strong relationship between antibiotic patient volumes and antibiotic payments, which had a correlation coefficient (_r_) of 0.964. This suggests that despite having the highest monthly payment rate, antibiotic prescribers generally charged patients based on volume. Hence, one could easily predict the monthly payment to an antibiotic prescriber based on the monthly patient volume. This was not the case with adderall and opioid prescribers, which showed weak correlations between patient volumes and payments. This suggests that other factors, besides patient volume, are responsible for the variation in monthly payments for adderall and opioids."
   ]
  },
  {
   "cell_type": "markdown",
   "metadata": {},
   "source": [
    "### 4.6\tIdentification of Over Prescribers\n",
    "A function (suspect_phys_finder) will be created to identify potential over prescribers of adderall, antibiotics and opioids. Summary of the function’s analytical steps are as follows:\n",
    "1.\tFor a given drug group, select prescribers that belong in the 80th percentile and above for monthly payments \n",
    "2.\tFor each prescriber selected from step 1, slice out the prescription history of given drug\n",
    "3.\tFor prescribers with at least 3 active months, calculate the r between payments and patient volume\n",
    "4.\tFrom the list of prescribers from step 1, select those with low r (i.e. those with _r_ < 0.7 between payments and patients)"
   ]
  },
  {
   "cell_type": "code",
   "execution_count": 35,
   "metadata": {},
   "outputs": [
    {
     "data": {
      "text/plain": [
       "(3010, 9)"
      ]
     },
     "execution_count": 35,
     "metadata": {},
     "output_type": "execute_result"
    }
   ],
   "source": [
    "# Grouping the dataset by physicianid to show a total of 3010 unique physicians in the dataset\n",
    "df3_p = df3.groupby('physicianid').mean()\n",
    "df3_p.shape"
   ]
  },
  {
   "cell_type": "code",
   "execution_count": 36,
   "metadata": {},
   "outputs": [],
   "source": [
    "# Creating subset datasets from df1_p according to drug type\n",
    "adderall = df3_p.loc[:,['adderallpatients', 'adderallpayments','adderall_pay_rate']].dropna()\n",
    "antibio = df3_p.loc[:,['antibiopatients', 'antibiopayments','antibio_pay_rate']].dropna()\n",
    "opioid = df3_p.loc[:,['opioidpatients', 'opioidpayments','opioid_pay_rate']].dropna()"
   ]
  },
  {
   "cell_type": "code",
   "execution_count": 37,
   "metadata": {},
   "outputs": [],
   "source": [
    "# Sorting the datasets based on monthly payments\n",
    "adderall.sort_values('adderallpayments', inplace=True)\n",
    "antibio.sort_values('antibiopayments', inplace=True)\n",
    "opioid.sort_values('opioidpayments', inplace=True)"
   ]
  },
  {
   "cell_type": "code",
   "execution_count": 38,
   "metadata": {},
   "outputs": [],
   "source": [
    "# Creating a function that identifies physicians with unsual prescription patterns: suspect_phys_finder\n",
    "\n",
    "def suspect_phys_finder(datasets, percentile=50, pearson_r=0.5):\n",
    "    \n",
    "    '''Selects physicians with mean monthly payments above selected percentile, with 3 or more active months \n",
    "        and with pearson's correlation coefficent between payments and patient volumes less than selected r'''\n",
    "    \n",
    "    drugs = ['adderall', 'antibio', 'opioid']\n",
    "    xs_add, xs_antibio, xs_opi = [],[],[]\n",
    "    \n",
    "    # Select dataset from a list: datasets\n",
    "    for data in datasets:\n",
    "        \n",
    "        # Select drug type from a list: drugs\n",
    "        for drug in drugs:\n",
    "            \n",
    "            # Select drug type based on match to column name\n",
    "            if drug in data.columns[1]:\n",
    "                \n",
    "                # Calculate value of selected percentile for mean monthly payments: drug_perc \n",
    "                drug_perc = np.percentile(data[data.columns[2]], percentile)\n",
    "                \n",
    "                # Identifying physicians with mean monthly payments larger than percentile value: drug_over_perc \n",
    "                drug_over_perc = data[data[data.columns[2]] > drug_perc]\n",
    "                \n",
    "                # loop through the list of physicians in drug_over_perc\n",
    "                for phys in drug_over_perc.index:\n",
    "                    \n",
    "                    # Slice out the prescription history of selected physician in new df: phys_df\n",
    "                    phys_df = df3.loc[(df3['physicianid'] == phys),:].dropna()\n",
    "                    \n",
    "                    # Checking that the physician has at least 3 active months\n",
    "                    if len(phys_df) >= 3:\n",
    "                        \n",
    "                        # Compute pearson's correlation coefficent of monthly payments and patient volume\n",
    "                        x = phys_df.loc[:,data.columns[0]]\n",
    "                        y = phys_df.loc[:,data.columns[1]]\n",
    "                        r_corr = np.corrcoef(x, y)\n",
    "                        \n",
    "                        # Select physician id if coefficient is less than chosen r\n",
    "                        if r_corr[0,1] is not None and r_corr[0,1] < pearson_r:\n",
    "                            if drug == 'adderall': \n",
    "                                xs_add.append(phys)\n",
    "                            elif drug == 'antibio':\n",
    "                                xs_antibio.append(phys)\n",
    "                            else:\n",
    "                                xs_opi.append(phys)\n",
    "         \n",
    "    # Store selected physician ids in dictionary: xs_phys\n",
    "    xs_phys = {'adderall':xs_add, 'antibio':xs_antibio, 'opioid':xs_opi}\n",
    "       \n",
    "    return xs_phys    "
   ]
  },
  {
   "cell_type": "code",
   "execution_count": 39,
   "metadata": {},
   "outputs": [
    {
     "name": "stderr",
     "output_type": "stream",
     "text": [
      "C:\\Anaconda\\lib\\site-packages\\numpy\\lib\\function_base.py:2534: RuntimeWarning: invalid value encountered in true_divide\n",
      "  c /= stddev[:, None]\n",
      "C:\\Anaconda\\lib\\site-packages\\numpy\\lib\\function_base.py:2535: RuntimeWarning: invalid value encountered in true_divide\n",
      "  c /= stddev[None, :]\n"
     ]
    }
   ],
   "source": [
    "# Using the function to identify physicians with unusual prescription patterns\n",
    "datasets = [adderall, antibio, opioid]\n",
    "xs_phys = suspect_phys_finder(datasets, percentile=80, pearson_r=0.7)"
   ]
  },
  {
   "cell_type": "code",
   "execution_count": 44,
   "metadata": {},
   "outputs": [
    {
     "name": "stdout",
     "output_type": "stream",
     "text": [
      "Physicians likely overprescribing adderall = 143 out of 2769\n",
      "Physicians likely overprescribing antibiotics = 118 out of 2989\n",
      "Physicians likely overprescribing opioids = 139 out of 2448\n",
      "Physicians likely overprescribing all drugs = 0 out of 2363\n",
      "Physicians likely overprescribing both adderall and antibiotics = 10 out of 2769\n",
      "Physicians likely overprescribing both adderall and opioids = 16 out of 2363\n",
      "Physicians likely overprescribing both opioids and antibiotics = 14 out of 2441\n"
     ]
    }
   ],
   "source": [
    "# Identifying over-prescribers\n",
    "xs_phys_all = set(xs_phys['adderall']).intersection(set(xs_phys['antibio']), set(xs_phys['opioid']))\n",
    "xs_phys_add_anti = set(xs_phys['adderall']).intersection(set(xs_phys['antibio']))\n",
    "xs_phys_add_opi = set(xs_phys['adderall']).intersection(set(xs_phys['opioid']))\n",
    "xs_phys_anti_opi = set(xs_phys['antibio']).intersection(set(xs_phys['opioid']))\n",
    "all_ = df3_p.loc[df3_p.adderallpatients.notnull() & df3_p.antibiopatients.notnull() & df3_p.opioidpatients.notnull()]\n",
    "add_opi = df3_p.loc[df3_p.adderallpatients.notnull() & df3_p.opioidpatients.notnull()]\n",
    "add_anti = df3_p.loc[df3_p.adderallpatients.notnull() & df3_p.antibiopatients.notnull()]\n",
    "anti_opi = df3_p.loc[df3_p.antibiopatients.notnull() & df3_p.opioidpatients.notnull()]\n",
    "print('Physicians likely overprescribing adderall = %d out of %d' % (len(xs_phys['adderall']), len(adderall)))\n",
    "print('Physicians likely overprescribing antibiotics = %d out of %d' % (len(xs_phys['antibio']), len(antibio)))\n",
    "print('Physicians likely overprescribing opioids = %d out of %d' % (len(xs_phys['opioid']), len(opioid)))\n",
    "print('Physicians likely overprescribing all drugs = %d out of %d' % (len(xs_phys_all), len(all_)))\n",
    "print('Physicians likely overprescribing both adderall and antibiotics = %d out of %d' % (len(xs_phys_add_anti), len(add_anti)))\n",
    "print('Physicians likely overprescribing both adderall and opioids = %d out of %d' % (len(xs_phys_add_opi), len(add_opi)))\n",
    "print('Physicians likely overprescribing both opioids and antibiotics = %d out of %d' % (len(xs_phys_anti_opi), len(anti_opi)))"
   ]
  },
  {
   "cell_type": "markdown",
   "metadata": {},
   "source": [
    "### 4.7\tTime Series Analyses of Patient Volumes and Payments"
   ]
  },
  {
   "cell_type": "markdown",
   "metadata": {},
   "source": [
    "The average monthly patient volumes, average monthly payments, and average payment rates did not show a trend and appeared stationary irrespective of drug type over the period. For instance, the average monthly patient volume for antibiotic prescribers was approximately 6.1 in Jan 2015 and approximately 6.9 in Aug 2017. Additionally, the month of May 2017 had the highest average monthly patient volume of approximately 7.3 followed by Jun 2015 with approximately 7.1 for antibiotic prescribers.\n",
    "\n",
    "As expected, the average monthly patient volumes, average monthly payments and average monthly payment rates for antibiotic prescribers were consistently higher than those of adderall and opioid prescribers. Subsequently, for patient volumes, the average monthly patient volumes for adderall prescribers were consistently higher than that of opioid prescribers. However, for payments, the average monthly payments were about the same for adderall and opioid prescribers except for 10 months where the average payments were significantly higher for opioid prescribers compared to adderall prescribers (Figure 4-6b).\n",
    "\n",
    "Interestingly, the total monthly patient volumes and payments showed a decreasing trend, especially for antibiotic prescribers. This was later explained by the general decreasing number of prescribers."
   ]
  },
  {
   "cell_type": "code",
   "execution_count": 41,
   "metadata": {},
   "outputs": [
    {
     "data": {
      "image/png": "[encoded data removed]",
      "text/plain": [
       "<Figure size 1008x288 with 2 Axes>"
      ]
     },
     "metadata": {
      "needs_background": "light"
     },
     "output_type": "display_data"
    }
   ],
   "source": [
    "# Grouping the data by date and aggregating with mean. \n",
    "df4 = df3.loc[:'2017-09',:]\n",
    "df4_d_avg = df4.groupby('Date').mean()\n",
    "\n",
    "# Plotting time series of average monthly patient volumes and payments\n",
    "fig, axes = plt.subplots(1, 2, figsize=(14,4), squeeze=False)\n",
    "df4_d_avg.loc[:,['adderallpatients','antibiopatients','opioidpatients']].plot(ax=axes[0, 0], legend=None)\n",
    "df4_d_avg.loc[:,['adderallpayments','antibiopayments','opioidpayments']].plot(ax=axes[0, 1])\n",
    "axes[0,0].set_ylabel('Average patient volume')\n",
    "axes[0,1].set_ylabel('Average payments') \n",
    "axes[0,1].legend(('adderall', 'antibiotics', 'opioids'));"
   ]
  },
  {
   "cell_type": "markdown",
   "metadata": {},
   "source": [
    "The average monthly payments and average monthly patient volumes appear to be stationary over the period and the differences in means are consistent with earlier observations."
   ]
  },
  {
   "cell_type": "code",
   "execution_count": 42,
   "metadata": {},
   "outputs": [
    {
     "data": {
      "image/png": "[encoded data removed]",
      "text/plain": [
       "<Figure size 1008x288 with 2 Axes>"
      ]
     },
     "metadata": {
      "needs_background": "light"
     },
     "output_type": "display_data"
    }
   ],
   "source": [
    "# Plotting tine series of average monthly payment rate\n",
    "fig, axes = plt.subplots(1, 2, figsize=(14,4), squeeze=False)\n",
    "df4_d_avg.loc[:,['adderall_pay_rate','antibio_pay_rate','opioid_pay_rate']].plot(ax=axes[0,0], legend=None)\n",
    "axes[0,0].set_ylabel('Average payment rate') \n",
    "\n",
    "# Grouping the data by date, aggregating with sum and plotting time series of patient volumes. \n",
    "df4_d_sum = df4.groupby('Date').sum()\n",
    "df4_d_sum.loc[:,['adderallpatients','antibiopatients','opioidpatients']].plot(ax=axes[0, 1], legend=None)\n",
    "axes[0,1].set_ylabel('Patient volumes')\n",
    "axes[0,1].legend(('adderall', 'antibiotics', 'opioids'));"
   ]
  },
  {
   "cell_type": "code",
   "execution_count": 43,
   "metadata": {},
   "outputs": [
    {
     "data": {
      "image/png": "[encoded data removed]",
      "text/plain": [
       "<Figure size 1008x288 with 2 Axes>"
      ]
     },
     "metadata": {
      "needs_background": "light"
     },
     "output_type": "display_data"
    }
   ],
   "source": [
    "# Plotting time series of payments \n",
    "fig, axes = plt.subplots(1, 2, figsize=(14,4), squeeze=False)\n",
    "df4_d_sum.loc[:,['adderallpayments','antibiopayments','opioidpayments']].plot(ax=axes[0, 0], legend=False)\n",
    "axes[0,0].set_ylabel('Payments') \n",
    "\n",
    "# Plotting time series of number of active prescribers\n",
    "df4.loc[df4.adderallpatients.notnull(),'physicianid'].resample('M').nunique().plot(ax=axes[0,1])\n",
    "df4.loc[df4.antibiopatients.notnull(),'physicianid'].resample('M').nunique().plot(ax=axes[0,1])\n",
    "df4.loc[df4.opioidpatients.notnull(),'physicianid'].resample('M').nunique().plot(ax=axes[0,1])\n",
    "axes[0,1].legend(('adderall', 'antibiotics', 'opioids'))\n",
    "axes[0,1].set_ylabel('Number of Active Prescribers')\n",
    "axes[0,1].legend(('adderall', 'antibiotics', 'opioids'));"
   ]
  },
  {
   "cell_type": "markdown",
   "metadata": {},
   "source": [
    "Surprisingly, unlike the average monthly aggregates, aggregating by sum shows a steady decline in total patient volumes for all drug types over the period. Additionally, while the total monthly payments for antibiotics also appeared to be steadily declining over the period, total monthly payments for adderall and opioids appeared stationary.\n",
    "\n",
    "It is likely that the impact of outliers might have skewed the means resulting in the observation of stationary values for average patient volumes despite a steady decline in total patient volumes over the period."
   ]
  },
  {
   "cell_type": "markdown",
   "metadata": {},
   "source": [
    "## 5. Conclusion and Next Steps"
   ]
  },
  {
   "cell_type": "markdown",
   "metadata": {},
   "source": [
    "This report details the steps of data cleaning and wrangling as well as exploratory data analysis via visualizations and statistical methods. \n",
    "\n",
    "Important insights generated from the analyses include:\n",
    "\n",
    "* On average, antibiotic prescribers see more patients per month and generate more revenue compared to adderall and opioid prescribers\n",
    "* While patient volume alone is a strong predictor of antibiotic prescription revenues, other factors, besides patient volume, appear to be predictors of adderall and opioid prescription revenues  \n",
    "* Adderall prescribers see more patients per month than opioid prescribers but generate less revenue\n",
    "* The higher monthly revenues generated by opioid prescribers compared to adderall prescribers is most likely due to a small set of opioid over-prescribers\n",
    "* Potential over-prescribers were identified using a function that selects prescribers above the 80th percentile for payments and with weak correlations between patient volumes and payments  \n",
    "* While the average monthly patient volume and average monthly payments were relatively stationary over the period, the total monthly patients and total monthly payments declined. This was attributed to a decline in the number of prescribers.     \n",
    "\n",
    "The next step of this project is to develop, evaluate and select machine learning models to classify prescribers based on their prescription profiles. This will be used to compare with prescribers identified "
   ]
  },
  {
   "cell_type": "code",
   "execution_count": null,
   "metadata": {},
   "outputs": [],
   "source": []
  }
 ],
 "metadata": {
  "kernelspec": {
   "display_name": "Python 3",
   "language": "python",
   "name": "python3"
  },
  "language_info": {
   "codemirror_mode": {
    "name": "ipython",
    "version": 3
   },
   "file_extension": ".py",
   "mimetype": "text/x-python",
   "name": "python",
   "nbconvert_exporter": "python",
   "pygments_lexer": "ipython3",
   "version": "3.7.4"
  }
 },
 "nbformat": 4,
 "nbformat_minor": 2
}
